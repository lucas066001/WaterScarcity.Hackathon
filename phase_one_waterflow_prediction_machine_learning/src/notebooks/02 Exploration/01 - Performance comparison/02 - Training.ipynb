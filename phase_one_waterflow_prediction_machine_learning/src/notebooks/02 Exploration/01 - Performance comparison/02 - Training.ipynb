{
 "cells": [
  {
   "cell_type": "markdown",
   "metadata": {},
   "source": [
    "## Goals: Training of some *Exploration* model\n",
    "\n",
    "Training of 3 (qrf, lgbm and EBM) x 4 (at 4 different horizon) baseline models on the splited dataset for detailed exploration.\n",
    "\n",
    "# 1. Data Import and Setup\n",
    "\n",
    "Imports necessary libraries, sets up environment paths."
   ]
  },
  {
   "cell_type": "code",
   "execution_count": null,
   "metadata": {},
   "outputs": [],
   "source": [
    "# Standard library imports\n",
    "import os\n",
    "import sys\n",
    "\n",
    "# Third-party imports\n",
    "import joblib\n",
    "import lightgbm as lgb\n",
    "import matplotlib.pyplot as plt\n",
    "import numpy as np\n",
    "import pandas as pd\n",
    "from interpret.glassbox import ExplainableBoostingRegressor\n",
    "from mapie.regression import MapieQuantileRegressor\n",
    "from quantile_forest import RandomForestQuantileRegressor\n",
    "\n",
    "# Append project root to sys.path for local imports\n",
    "sys.path.append(os.path.abspath(os.path.join(os.getcwd(), '..', '..', '..', '..')))\n",
    "\n",
    "# Local application imports\n",
    "from src.utils.model import split_dataset"
   ]
  },
  {
   "cell_type": "markdown",
   "metadata": {},
   "source": [
    "Defines constants :\n",
    "* INPUT_DIR must be the same as the one defined in *00 Preprocessing/Feature Engineering*.\n",
    "* MODEL_DIR is the directory where the exploration models will be saved."
   ]
  },
  {
   "cell_type": "code",
   "execution_count": null,
   "metadata": {},
   "outputs": [],
   "source": [
    "INPUT_DIR = \"../../../../data/input/\"\n",
    "MODEL_DIR = \"../../../../models/exploration/\"\n",
    "\n",
    "NUMBER_OF_WEEK = 4 # we want to predict at 4 different horizon reduce if you only want to explore first week\n",
    "SEED = 42 \n",
    "# columns to drop : target at different horizon, station_code, and features removed from Feature Selection\n",
    "TO_DROP = [\"water_flow_week1\", \"station_code\", \"water_flow_week2\", \"water_flow_week3\", \"water_flow_week4\"]"
   ]
  },
  {
   "cell_type": "markdown",
   "metadata": {},
   "source": [
    "# 2. Data Loading\n",
    "Load in the baseline datasets, create the directory to save models."
   ]
  },
  {
   "cell_type": "code",
   "execution_count": null,
   "metadata": {},
   "outputs": [],
   "source": [
    "# load the dataset\n",
    "ds_train = pd.read_csv(f\"{INPUT_DIR}ds_train.csv\")\n",
    "ds_test_spatio_temporal = pd.read_csv(f\"{INPUT_DIR}ds_test_spatio_temporal.csv\")\n",
    "ds_test_temporal = pd.read_csv(f\"{INPUT_DIR}ds_test_temporal.csv\")\n",
    "\n",
    "ds_train[\"ObsDate\"] = pd.to_datetime(ds_train[\"ObsDate\"])\n",
    "ds_test_spatio_temporal[\"ObsDate\"] = pd.to_datetime(ds_test_spatio_temporal[\"ObsDate\"])\n",
    "ds_test_temporal[\"ObsDate\"] = pd.to_datetime(ds_test_temporal[\"ObsDate\"])\n",
    "\n",
    "ds_train = ds_train.set_index(\"ObsDate\")\n",
    "ds_test_spatio_temporal = ds_test_spatio_temporal.set_index(\"ObsDate\")\n",
    "ds_test_temporal = ds_test_temporal.set_index(\"ObsDate\")\n",
    "\n",
    "if not os.path.exists(MODEL_DIR):\n",
    "    os.makedirs(MODEL_DIR)"
   ]
  },
  {
   "cell_type": "code",
   "execution_count": null,
   "metadata": {},
   "outputs": [],
   "source": [
    "X_train = ds_train.drop(columns=TO_DROP)\n",
    "y_train = {}\n",
    "y_train[0] = ds_train[\"water_flow_week1\"]\n",
    "for i in range(1, NUMBER_OF_WEEK):\n",
    "    y_train[i] = ds_train[f\"water_flow_week{i+1}\"]\n",
    "\n",
    "X_test_spatio_temporal = ds_test_spatio_temporal.drop(columns=TO_DROP)\n",
    "y_test_spatio_temporal = {}\n",
    "for i in range(0, NUMBER_OF_WEEK):\n",
    "    y_test_spatio_temporal[i] = ds_test_spatio_temporal[f\"water_flow_week{i+1}\"]\n",
    "\n",
    "X_test_temporal = ds_test_temporal.drop(columns=TO_DROP)\n",
    "y_test_temporal = {}\n",
    "for i in range(0, NUMBER_OF_WEEK):\n",
    "    y_test_temporal[i] = ds_test_temporal[f\"water_flow_week{i+1}\"]\n",
    "\n",
    "mapie_enbpi = {}\n",
    "mapie = {}\n",
    "qrf = {}\n",
    "mapie_aci = {}\n",
    "\n"
   ]
  },
  {
   "cell_type": "code",
   "execution_count": null,
   "metadata": {},
   "outputs": [],
   "source": [
    "\n",
    "# Define constants\n",
    "ALPHA = 0.1\n",
    "TIME_VALIDATION = \"1997-01-01\"\n",
    "LGBM_PARAMS = {\n",
    "    \"max_depth\": 15,\n",
    "    \"learning_rate\": 0.01,\n",
    "    \"n_estimators\": 500,\n",
    "    \"colsample_bytree\": 0.7,\n",
    "    \"objective\": \"quantile\",\n",
    "    \"alpha\": ALPHA\n",
    "}\n",
    "\n",
    "train_mapie, val_spatio_temporal, val_temporal  = split_dataset(ds_train, 0.75, TIME_VALIDATION)\n",
    "\n",
    "X_train_mapie = train_mapie.drop(columns=[\"water_flow_week1\", \"station_code\", \"water_flow_week2\", \"water_flow_week3\", \"water_flow_week4\"])\n",
    "y_train_mapie = {}\n",
    "for i in range(0, NUMBER_OF_WEEK):\n",
    "    y_train_mapie[i] = train_mapie[f\"water_flow_week{i+1}\"]\n",
    "\n",
    "X_val = val_spatio_temporal.drop(columns=[\"water_flow_week1\", \"station_code\", \"water_flow_week2\", \"water_flow_week3\", \"water_flow_week4\"])\n",
    "y_val = {}\n",
    "y_val[0] = val_spatio_temporal[\"water_flow_week1\"]\n",
    "for i in range(1, NUMBER_OF_WEEK):\n",
    "    y_val[i] = val_spatio_temporal[f\"water_flow_week{i+1}\"]\n",
    "\n",
    "for i in range(NUMBER_OF_WEEK):\n",
    "    print(f\"Training week {i}\")\n",
    "    # Initialize and train MapieQuantileRegressor\n",
    "    regressor = lgb.LGBMRegressor(**LGBM_PARAMS)\n",
    "    mapie[i] = MapieQuantileRegressor(estimator=regressor, method=\"quantile\", cv=\"split\", alpha=ALPHA)\n",
    "    mapie[i].fit(X_train_mapie, y_train_mapie[i], X_calib=X_val, y_calib=y_val[i])\n",
    "    \n",
    "    # save model with date\n",
    "    time = pd.Timestamp.now().strftime(\"%Y-%m-%d_%H-%M-%S\")\n",
    "\n",
    "    model_path = f\"{MODEL_DIR}mapie_quantile_{time}_week_{i}.pkl\"\n",
    "    joblib.dump(mapie[i], model_path)\n"
   ]
  },
  {
   "cell_type": "code",
   "execution_count": null,
   "metadata": {},
   "outputs": [],
   "source": [
    "for i in range(NUMBER_OF_WEEK):\n",
    "    print(f\"Training week {i}\")\n",
    "    # Train RandomForestQuantileRegressor\n",
    "    qrf[i] = RandomForestQuantileRegressor(n_estimators=10, max_depth=10, min_samples_leaf=10)\n",
    "    qrf[i].fit(X_train, y_train[i])\n",
    "\n",
    "    time = pd.Timestamp.now().strftime(\"%Y-%m-%d_%H-%M-%S\")\n",
    "    model_path = f\"{MODEL_DIR}qrf_quantile_{time}_week_{i}.pkl\"\n",
    "    joblib.dump(qrf[i], model_path)"
   ]
  },
  {
   "cell_type": "code",
   "execution_count": null,
   "metadata": {},
   "outputs": [],
   "source": [
    "NUM_ENSEMBLES = 5\n",
    "\n",
    "# A dictionary to hold the list of EBM models per week\n",
    "ebm_ensembles = {}\n",
    "\n",
    "for i in range(NUMBER_OF_WEEK):\n",
    "    print(f\"Training EBM ensemble for week {i}\")\n",
    "\n",
    "    # This will store all seed models for a single week\n",
    "    models_i = []\n",
    "    \n",
    "    for seed in range(NUM_ENSEMBLES):\n",
    "        print(f\"Training EBM ensemble {seed} for week {i}\")\n",
    "        # 1. Create your bootstrap sample or subset (if you want bagging)\n",
    "        sample_indices = np.random.choice(len(X_train), size=len(X_train), replace=True)\n",
    "        X_sample = X_train.iloc[sample_indices]\n",
    "        y_sample = y_train[i][sample_indices]\n",
    "        \n",
    "        # 2. Train an EBM with consistent binning parameters\n",
    "        ebm_model = ExplainableBoostingRegressor(\n",
    "            outer_bags=1,\n",
    "            inner_bags=1,\n",
    "            max_bins=128,\n",
    "            learning_rate=0.05,\n",
    "            interactions=3,\n",
    "            early_stopping_rounds=100,\n",
    "            random_state=SEED  # ensures same binning\n",
    "        )\n",
    "        ebm_model.fit(X_sample, y_sample)\n",
    "        \n",
    "        models_i.append(ebm_model)\n",
    "\n",
    "    time = pd.Timestamp.now().strftime(\"%Y-%m-%d_%H-%M-%S\")\n",
    "    file_path = f\"{MODEL_DIR}ebm_ensemble_{time}_week_{i}.pkl\"\n",
    "\n",
    "    joblib.dump(ebm_ensembles, file_path)\n",
    "    print(f\"Saved EBM ensembles to {file_path}\")\n",
    "\n",
    "    # Store the list of models for week i\n",
    "    ebm_ensembles[i] = models_i"
   ]
  }
 ],
 "metadata": {
  "kernelspec": {
   "display_name": ".venv",
   "language": "python",
   "name": "python3"
  },
  "language_info": {
   "codemirror_mode": {
    "name": "ipython",
    "version": 3
   },
   "file_extension": ".py",
   "mimetype": "text/x-python",
   "name": "python",
   "nbconvert_exporter": "python",
   "pygments_lexer": "ipython3",
   "version": "3.12.6"
  }
 },
 "nbformat": 4,
 "nbformat_minor": 2
}
