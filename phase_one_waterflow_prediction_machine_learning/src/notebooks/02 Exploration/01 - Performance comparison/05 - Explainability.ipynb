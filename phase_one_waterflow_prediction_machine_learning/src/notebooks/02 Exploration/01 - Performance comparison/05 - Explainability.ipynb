{
 "cells": [
  {
   "cell_type": "markdown",
   "metadata": {},
   "source": [
    "## Goals: Explore explainability and feature importance with *EBM* model\n",
    "\n",
    "# 1. Data Import and Setup\n",
    "\n",
    "Imports necessary libraries, sets up environment paths."
   ]
  },
  {
   "cell_type": "code",
   "execution_count": null,
   "metadata": {},
   "outputs": [],
   "source": [
    "import pandas as pd\n",
    "import numpy as np\n",
    "import matplotlib.pyplot as plt\n",
    "from interpret import show\n",
    "from interpret.glassbox import ExplainableBoostingRegressor"
   ]
  },
  {
   "cell_type": "markdown",
   "metadata": {},
   "source": [
    "Defines constants :\n",
    "* INPUT_DIR must be the same as the one defined in *00 Preprocessing/Feature Engineering*."
   ]
  },
  {
   "cell_type": "code",
   "execution_count": null,
   "metadata": {},
   "outputs": [],
   "source": [
    "INPUT_DIR = \"../../../../data/input/\"\n",
    "\n",
    "TO_DROP = [\"water_flow_week1\", \"station_code\", \"water_flow_week2\", \"water_flow_week3\", \"water_flow_week4\"]"
   ]
  },
  {
   "cell_type": "markdown",
   "metadata": {},
   "source": [
    "### 2. Load Your Pre-Processed Data\n",
    "\n",
    "Same as in *02 - Training notebook* but only for the first week."
   ]
  },
  {
   "cell_type": "code",
   "execution_count": null,
   "metadata": {},
   "outputs": [],
   "source": [
    "ds_train = pd.read_csv(f\"{INPUT_DIR}ds_train.csv\")\n",
    "ds_test_spatio_temporal = pd.read_csv(f\"{INPUT_DIR}ds_test_spatio_temporal.csv\")\n",
    "ds_test_temporal = pd.read_csv(f\"{INPUT_DIR}ds_test_temporal.csv\")\n",
    "\n",
    "ds_train[\"ObsDate\"] = pd.to_datetime(ds_train[\"ObsDate\"])\n",
    "ds_test_spatio_temporal[\"ObsDate\"] = pd.to_datetime(ds_test_spatio_temporal[\"ObsDate\"])\n",
    "ds_test_temporal[\"ObsDate\"] = pd.to_datetime(ds_test_temporal[\"ObsDate\"])\n",
    "\n",
    "ds_train = ds_train.set_index(\"ObsDate\")\n",
    "ds_test_spatio_temporal = ds_test_spatio_temporal.set_index(\"ObsDate\")\n",
    "ds_test_temporal = ds_test_temporal.set_index(\"ObsDate\")\n"
   ]
  },
  {
   "cell_type": "markdown",
   "metadata": {},
   "source": [
    "Creation of predictors and target dataset for week 1."
   ]
  },
  {
   "cell_type": "code",
   "execution_count": null,
   "metadata": {},
   "outputs": [],
   "source": [
    "X_train = ds_train.drop(columns=TO_DROP)\n",
    "y_train = ds_train[\"water_flow_week1\"]\n",
    "\n",
    "\n",
    "X_test_spatio_temporal = ds_test_spatio_temporal.drop(columns=TO_DROP)\n",
    "y_test_spatio_temporal = ds_test_spatio_temporal[\"water_flow_week1\"]\n",
    "\n",
    "X_test_temporal = ds_test_temporal.drop(columns=TO_DROP)\n",
    "y_test_temporal = ds_test_temporal[f\"water_flow_week1\"]"
   ]
  },
  {
   "cell_type": "markdown",
   "metadata": {},
   "source": [
    "### 3. Train an Explainable Boosting Model\n",
    "EBM is an interpretable model that provides insights into feature importance and individual predictions."
   ]
  },
  {
   "cell_type": "code",
   "execution_count": null,
   "metadata": {},
   "outputs": [],
   "source": [
    "ebm = ExplainableBoostingRegressor()\n",
    "ebm.fit(X_train, y_train)\n"
   ]
  },
  {
   "cell_type": "markdown",
   "metadata": {},
   "source": [
    "### 4. Visualize Feature Importance\n",
    "Once the model is trained, you can explore how different features contribute to the predictions."
   ]
  },
  {
   "cell_type": "code",
   "execution_count": null,
   "metadata": {},
   "outputs": [],
   "source": [
    "show(ebm.explain_global())  # Shows feature importance and interactions\n"
   ]
  },
  {
   "cell_type": "markdown",
   "metadata": {},
   "source": [
    "### 6. Explore Individual Predictions\n",
    "If you want to explain a specific data point.\n",
    "\n",
    "#### 6.a On the Spatio-temporal Split\n"
   ]
  },
  {
   "cell_type": "code",
   "execution_count": null,
   "metadata": {},
   "outputs": [],
   "source": [
    "instance = X_test_spatio_temporal.iloc[0:10].values  # Take the first row from evaluation set\n",
    "show(ebm.explain_local(instance, y_test_spatio_temporal.iloc[0:10]))\n"
   ]
  },
  {
   "cell_type": "markdown",
   "metadata": {},
   "source": [
    "#### 6.b On the Temporal Split\n"
   ]
  },
  {
   "cell_type": "code",
   "execution_count": null,
   "metadata": {},
   "outputs": [],
   "source": [
    "instance = X_test_temporal.iloc[0:10].values  # Take the first row from evaluation set\n",
    "show(ebm.explain_local(instance, y_test_temporal.iloc[0:10]))"
   ]
  }
 ],
 "metadata": {
  "kernelspec": {
   "display_name": ".venv",
   "language": "python",
   "name": "python3"
  },
  "language_info": {
   "codemirror_mode": {
    "name": "ipython",
    "version": 3
   },
   "file_extension": ".py",
   "mimetype": "text/x-python",
   "name": "python",
   "nbconvert_exporter": "python",
   "pygments_lexer": "ipython3",
   "version": "3.12.6"
  }
 },
 "nbformat": 4,
 "nbformat_minor": 2
}
