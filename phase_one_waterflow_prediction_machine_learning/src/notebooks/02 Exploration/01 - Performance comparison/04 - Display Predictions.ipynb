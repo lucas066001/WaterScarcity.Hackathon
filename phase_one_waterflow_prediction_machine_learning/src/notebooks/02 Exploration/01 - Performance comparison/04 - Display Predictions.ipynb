{
 "cells": [
  {
   "cell_type": "markdown",
   "metadata": {},
   "source": [
    "## Goals: Display waterflows predictions\n",
    "\n",
    "This notebook aims to display waterflows prediction intervals, for test stations of spatial split and spatio temporal split.\n",
    "\n",
    "# 1. Data Import and Setup\n",
    "\n",
    "Imports necessary libraries, sets up environment paths."
   ]
  },
  {
   "cell_type": "code",
   "execution_count": null,
   "metadata": {},
   "outputs": [],
   "source": [
    "from math import sqrt\n",
    "import sys\n",
    "import pandas as pd\n",
    "import os\n",
    "import numpy as np\n",
    "import joblib\n",
    "\n",
    "sys.path.append(os.path.abspath(os.path.join(os.getcwd(), '..','..','..','..')))\n",
    "\n",
    "from src.utils.model import load_models_auto\n",
    "from src.utils.plots import plot_water_flow_predictions\n"
   ]
  },
  {
   "cell_type": "markdown",
   "metadata": {},
   "source": [
    "Defines constants :\n",
    "* INPUT_DIR must be the same as the one defined in *00 Preprocessing/Feature Engineering*.\n",
    "* MODEL_DIR must be the same as the one defined in *Splited Dataset/02 -Training*."
   ]
  },
  {
   "cell_type": "code",
   "execution_count": null,
   "metadata": {},
   "outputs": [],
   "source": [
    "SEED = 42\n",
    "USE_AUTO_SCAN = True\n",
    "NUMBER_OF_WEEK = 4\n",
    "INPUT_DIR = \"../../../../data/input/\"\n",
    "MODEL_DIR = \"../../../../models/exploration/\"\n",
    "ALPHA = 0.1\n",
    "MODEL = \"qrf\"\n",
    "\n",
    "# columns to drop : target at different horizon, station_code, and features removed from Feature Selection\n",
    "TO_DROP = [\"water_flow_week1\", \"station_code\", \"water_flow_week2\", \"water_flow_week3\", \"water_flow_week4\"]"
   ]
  },
  {
   "cell_type": "markdown",
   "metadata": {},
   "source": [
    "### 2. Data & Models Loading\n",
    "\n",
    "#### a. Loading of the baseline datasets."
   ]
  },
  {
   "cell_type": "code",
   "execution_count": null,
   "metadata": {},
   "outputs": [],
   "source": [
    "# load the dataset\n",
    "ds_train = pd.read_csv(f\"{INPUT_DIR}ds_train.csv\")\n",
    "ds_test_spatio_temporal = pd.read_csv(f\"{INPUT_DIR}ds_test_spatio_temporal.csv\")\n",
    "ds_test_temporal = pd.read_csv(f\"{INPUT_DIR}ds_test_temporal.csv\")\n",
    "\n",
    "ds_train[\"ObsDate\"] = pd.to_datetime(ds_train[\"ObsDate\"])\n",
    "ds_test_spatio_temporal[\"ObsDate\"] = pd.to_datetime(ds_test_spatio_temporal[\"ObsDate\"])\n",
    "ds_test_temporal[\"ObsDate\"] = pd.to_datetime(ds_test_temporal[\"ObsDate\"])\n",
    "\n",
    "ds_train = ds_train.set_index(\"ObsDate\")\n",
    "ds_test_spatio_temporal = ds_test_spatio_temporal.set_index(\"ObsDate\")\n",
    "ds_test_temporal = ds_test_temporal.set_index(\"ObsDate\")\n",
    "\n",
    "if not os.path.exists(MODEL_DIR):\n",
    "    os.makedirs(MODEL_DIR)"
   ]
  },
  {
   "cell_type": "code",
   "execution_count": null,
   "metadata": {},
   "outputs": [],
   "source": [
    "X_train = ds_train.drop(columns=TO_DROP)\n",
    "y_train = {}\n",
    "y_train[0] = ds_train[\"water_flow_week1\"]\n",
    "for i in range(1, NUMBER_OF_WEEK):\n",
    "    y_train[i] = ds_train[f\"water_flow_week{i+1}\"]\n",
    "\n",
    "X_test_spatio_temporal = ds_test_spatio_temporal.drop(columns=TO_DROP)\n",
    "y_test_spatio_temporal = {}\n",
    "for i in range(0, NUMBER_OF_WEEK):\n",
    "    y_test_spatio_temporal[i] = ds_test_spatio_temporal[f\"water_flow_week{i+1}\"]\n",
    "\n",
    "X_test_temporal = ds_test_temporal.drop(columns=TO_DROP)\n",
    "y_test_temporal = {}\n",
    "for i in range(0, NUMBER_OF_WEEK):\n",
    "    y_test_temporal[i] = ds_test_temporal[f\"water_flow_week{i+1}\"]\n",
    "\n",
    "mapie_enbpi = {}\n",
    "mapie = {}\n",
    "qrf = {}\n",
    "mapie_aci = {}\n",
    "\n"
   ]
  },
  {
   "cell_type": "markdown",
   "metadata": {},
   "source": [
    "#### b. Loading of the model to analyse\n",
    "\n",
    "Models must be trained on `02 Training`."
   ]
  },
  {
   "cell_type": "code",
   "execution_count": null,
   "metadata": {},
   "outputs": [],
   "source": [
    "# Function to create a predictor for a specific week\n",
    "def create_predict_function(model_list, i, model):\n",
    "    def predict(X):\n",
    "        if model == \"mapie\":\n",
    "            return model_list[i].predict(X)[0]\n",
    "        elif model == \"qrf\":\n",
    "            return model_list[i].predict(X)\n",
    "        elif model == \"emb\":\n",
    "            print(model_list[i+1][0])\n",
    "            preds_ebm = np.array([m.predict(X_test) for m in model[i+1][0]])  # shape (n_ensembles, n_samples)\n",
    "            y_pred_ebm = preds_ebm.mean(axis=0)\n",
    "            y_pred_ebm = np.array(y_pred_ebm)\n",
    "            return y_pred_ebm\n",
    "    return predict\n",
    "\n",
    "# Function to create a quantile predictor for a specific week\n",
    "def create_quantile_function(model_list, i, model):\n",
    "    def predict_quantile(X):\n",
    "        if model == \"mapie\":\n",
    "            return model_list[i].predict(X)[1]\n",
    "        elif model == \"qrf\":\n",
    "            return model_list[i].predict(X, quantiles=[ALPHA/2, 1-ALPHA/2])\n",
    "        elif model == \"emb\":\n",
    "            print(model_list[i+1][0])\n",
    "            preds_ebm = np.array([m.predict(X_test) for m in model_list[i+1][0]])  # shape (n_ensembles, n_samples)\n",
    "            ebm_lower = np.percentile(preds_ebm, 5, axis=0)\n",
    "            ebm_upper = np.percentile(preds_ebm, 95, axis=0) \n",
    "            y_pis_ebm = [ebm_lower, ebm_upper]\n",
    "            y_pis_ebm = np.array(y_pis_ebm)\n",
    "            y_pis_ebm = y_pis_ebm.T\n",
    "            return y_pis_ebm        \n",
    "    return predict_quantile\n",
    "\n",
    "# Load models based on conditions\n",
    "loaded_models = []\n",
    "if MODEL == \"mapie\":\n",
    "    if USE_AUTO_SCAN:\n",
    "        loaded_models = load_models_auto(\"mapie_quantile\", MODEL_DIR)\n",
    "    else:\n",
    "        loaded_models.append(joblib.load(\"../../models/mapie_quantile_2025-01-17_15-15-04_week0.pkl\"))\n",
    "        loaded_models.append(joblib.load(\"../../models/mapie_quantile_2025-01-17_15-15-11_week1.pkl\"))\n",
    "        loaded_models.append(joblib.load(\"../../models/mapie_quantile_2025-01-17_15-15-17_week2.pkl\"))\n",
    "\n",
    "elif MODEL == \"qrf\":\n",
    "    if USE_AUTO_SCAN:\n",
    "        loaded_models = load_models_auto(\"qrf_quantile\", MODEL_DIR )\n",
    "    else:\n",
    "        loaded_models.append(joblib.load(\"../../models/qrf_quantile_2025-01-17_15-15-04_week0.pkl\"))\n",
    "        loaded_models.append(joblib.load(\"../../models/qrf_quantile_2025-01-17_15-15-11_week1.pkl\"))\n",
    "        loaded_models.append(joblib.load(\"../../models/qrf_quantile_2025-01-17_15-15-17_week2.pkl\"))\n",
    "\n",
    "elif MODEL == \"emb\":\n",
    "    if USE_AUTO_SCAN:\n",
    "        loaded_models = load_models_auto(\"ebm_ensemble\", MODEL_DIR)\n",
    "    else:\n",
    "        loaded_models.append(joblib.load(\"../../models/EBM_ensemble_2025-01-17_15-15-04_week0.pkl\"))\n",
    "        loaded_models.append(joblib.load(\"../../models/EBM_ensemble_2025-01-17_15-15-11_week1.pkl\"))\n",
    "        loaded_models.append(joblib.load(\"../../models/EBM_ensemble_2025-01-17_15-15-17_week2.pkl\"))\n",
    "        loaded_models.append(joblib.load(\"../../models/EBM_ensemble_2025-01-17_15-15-17_week3.pkl\"))\n"
   ]
  },
  {
   "cell_type": "markdown",
   "metadata": {},
   "source": [
    "### 3. Predictions displayed\n",
    "\n",
    "In the following cells we display predictions on the test station from the temporal and spatio temporal Split from `01 - Dataset Split`.\n",
    "\n",
    "#### a. Temporal Split\n"
   ]
  },
  {
   "cell_type": "code",
   "execution_count": null,
   "metadata": {},
   "outputs": [],
   "source": [
    "y_pred_t_quantile = {}\n",
    "y_pred_t = {} \n",
    "\n",
    "\n",
    "predict_adjusted = create_predict_function(loaded_models, 0, MODEL)\n",
    "quantile_adjusted = create_quantile_function(loaded_models, 0, MODEL)\n",
    "\n",
    "\n",
    "y_pred_t = predict_adjusted(X_test_temporal)\n",
    "y_pred_t_quantile = quantile_adjusted(X_test_temporal)\n"
   ]
  },
  {
   "cell_type": "code",
   "execution_count": null,
   "metadata": {},
   "outputs": [],
   "source": [
    "plot_water_flow_predictions(ds_test_temporal, y_pred_t, y_pred_t_quantile, \"test\", save = False, display = True)"
   ]
  },
  {
   "cell_type": "markdown",
   "metadata": {},
   "source": [
    "#### a. Spatio-Temporal Split\n"
   ]
  },
  {
   "cell_type": "code",
   "execution_count": null,
   "metadata": {},
   "outputs": [],
   "source": [
    "y_pred_st = predict_adjusted(X_test_spatio_temporal)\n",
    "y_pred_st_quantile = quantile_adjusted(X_test_spatio_temporal)"
   ]
  },
  {
   "cell_type": "code",
   "execution_count": null,
   "metadata": {},
   "outputs": [],
   "source": [
    "plot_water_flow_predictions(ds_test_spatio_temporal, y_pred_st, y_pred_st_quantile, \"test\", save = False, display = True)"
   ]
  }
 ],
 "metadata": {
  "kernelspec": {
   "display_name": ".venv",
   "language": "python",
   "name": "python3"
  },
  "language_info": {
   "codemirror_mode": {
    "name": "ipython",
    "version": 3
   },
   "file_extension": ".py",
   "mimetype": "text/x-python",
   "name": "python",
   "nbconvert_exporter": "python",
   "pygments_lexer": "ipython3",
   "version": "3.12.6"
  }
 },
 "nbformat": 4,
 "nbformat_minor": 2
}
