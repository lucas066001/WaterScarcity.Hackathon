{
 "cells": [
  {
   "cell_type": "markdown",
   "metadata": {},
   "source": [
    "## Goals: EDA for France\n",
    "\n",
    "Exploration of available data for France stations\n",
    "\n",
    "\n",
    "### I. Initialisation\n",
    "#### I.a Imports\n",
    "Imports necessary libraries, sets up environment paths, and includes custom utility functions.\n"
   ]
  },
  {
   "cell_type": "code",
   "execution_count": null,
   "metadata": {},
   "outputs": [],
   "source": [
    "import pandas as pd\n",
    "import geopandas as gpd\n",
    "import xarray as xr\n",
    "import cartopy.crs as ccrs\n",
    "import cartopy.feature as cfeature\n",
    "from matplotlib.lines import Line2D\n",
    "import matplotlib.pyplot as plt"
   ]
  },
  {
   "cell_type": "markdown",
   "metadata": {},
   "source": [
    "Defines constants :\n",
    "* *EVAL_DIR* will be used to store inference / evaluation data"
   ]
  },
  {
   "cell_type": "code",
   "execution_count": null,
   "metadata": {},
   "outputs": [],
   "source": [
    "DATASET_DIR = \"../../../../dataset/\"\n",
    "\n",
    "# Paths to input folders\n",
    "country = \"france\"\n",
    "input_train_data = f\"{DATASET_DIR}{country}/train\"\n",
    "input_test_data = f\"{DATASET_DIR}{country}/eval\"\n",
    "input_static_data = f\"{DATASET_DIR}{country}/static_data\"\n"
   ]
  },
  {
   "cell_type": "markdown",
   "metadata": {},
   "source": [
    "#### I.b Data Loading and Initial Cleaning\n"
   ]
  },
  {
   "cell_type": "code",
   "execution_count": null,
   "metadata": {},
   "outputs": [],
   "source": [
    "# Read train data\n",
    "station_train_df = pd.read_csv(f\"{input_train_data}/waterflow/station_info.csv\")\n",
    "station_test_df = pd.read_csv(f\"{input_test_data}/waterflow/station_info.csv\")\n",
    "waterflow_df = pd.read_csv(f\"{input_train_data}/waterflow/waterflow_data.csv\")\n",
    "meteo_df = xr.open_mfdataset(f\"{input_train_data}/meteo/*.nc\")\n",
    "\n",
    "# Read static data\n",
    "watershed_df = gpd.read_file(f\"{input_static_data}/hydro_areas/BassinHydrographique_FXX.geojson\")\n",
    "hydro_level1_df = gpd.read_file(f\"{input_static_data}/hydro_areas/RegionHydro.json\")\n",
    "hydro_level2_df = gpd.read_file(f\"{input_static_data}/hydro_areas/SecteurHydro.json\")\n",
    "hydro_level3_df = gpd.read_file(f\"{input_static_data}/hydro_areas/SousSecteurHydro.json\")\n",
    "hydro_level4_df = gpd.read_file(f\"{input_static_data}/hydro_areas/ZoneHydro.json\")\n",
    "barrages_df = gpd.read_file(f\"{input_static_data}/hydro_areas/NoeudHydrographique_FXX.gpkg\")\n",
    "\n",
    "soil_df = xr.open_dataset(f\"{input_static_data}/soil/{country}_soil_data.nc\")\n",
    "watercourse_df = gpd.read_file(f\"{input_static_data}/watercourse/CoursEau_FXX.shp\")"
   ]
  },
  {
   "cell_type": "code",
   "execution_count": null,
   "metadata": {},
   "outputs": [],
   "source": [
    "# add geometry col in station_df\n",
    "station_train_df = gpd.GeoDataFrame(station_train_df, geometry=gpd.points_from_xy(station_train_df.longitude, station_train_df.latitude))\n",
    "station_test_df = gpd.GeoDataFrame(station_test_df, geometry=gpd.points_from_xy(station_test_df.longitude, station_test_df.latitude))\n",
    "station_test_df = station_test_df[~station_test_df[\"station_code\"].isin(station_train_df[\"station_code\"])]"
   ]
  },
  {
   "cell_type": "code",
   "execution_count": null,
   "metadata": {},
   "outputs": [],
   "source": [
    "# geometry of Ardour-Garonne and Rhône-Méditerranée watersheds\n",
    "garonne_rhone_geometry_df = watershed_df[watershed_df[\"LbBH\"].str.contains(\"Rhône-Méditerranée|Adour-Garonne\", case=False, na=False)]\n",
    "garonne_rhone_geometry_df = garonne_rhone_geometry_df.to_crs(\"EPSG:4326\")\n",
    "# Filter out unecessary dams\n",
    "barrages_df = barrages_df.to_crs(garonne_rhone_geometry_df.crs)\n",
    "barrages_df = gpd.sjoin(barrages_df, garonne_rhone_geometry_df, how=\"inner\", predicate=\"within\")\n",
    "barrages_df = barrages_df[barrages_df[\"Nature\"].isin([\"Barrage de retenue sans ouvrage\", \"Barrage au fil de l'eau avec ouvrage\"])]"
   ]
  },
  {
   "cell_type": "markdown",
   "metadata": {},
   "source": [
    "### II. Spatial Analysis"
   ]
  },
  {
   "cell_type": "markdown",
   "metadata": {},
   "source": [
    "#### II.a. Hydrographic Regions"
   ]
  },
  {
   "cell_type": "code",
   "execution_count": null,
   "metadata": {},
   "outputs": [],
   "source": [
    "# Load world boundaries from Natural Earth\n",
    "world = gpd.read_file('https://naturalearth.s3.amazonaws.com/110m_cultural/ne_110m_admin_0_countries.zip')"
   ]
  },
  {
   "cell_type": "code",
   "execution_count": null,
   "metadata": {},
   "outputs": [],
   "source": [
    "BBOX = [-2.3, 7.9, 42.1, 48.5]\n",
    "fig, ax = plt.subplots(figsize=(12, 8), subplot_kw={'projection': ccrs.PlateCarree()})\n",
    "ax.set_extent(BBOX, crs=ccrs.PlateCarree())\n",
    "\n",
    "# filter rivers in the Rio Doce watershed\n",
    "rivers_gdf = watercourse_df.to_crs(\"EPSG:4326\")\n",
    "\n",
    "# Ensure CRS matches (if garonneRhone_features is not in EPSG:4326, reproject)\n",
    "garonne_rhone_geometry_df = garonne_rhone_geometry_df.to_crs(rivers_gdf.crs)\n",
    "\n",
    "# only take class 1 rivers\n",
    "rivers_gdf1 = rivers_gdf[rivers_gdf[\"Classe\"]==1]\n",
    "rivers_gdf2 = rivers_gdf[rivers_gdf[\"Classe\"]==2]\n",
    "rivers_gdf3 = rivers_gdf[rivers_gdf[\"Classe\"]==3]\n",
    "rivers_gdf4 = rivers_gdf[rivers_gdf[\"Classe\"]==4]\n",
    "\n",
    "# Add Base Features\n",
    "ax.add_feature(cfeature.BORDERS, linestyle=':', edgecolor='black', linewidth=1, zorder=7)\n",
    "ax.add_feature(cfeature.COASTLINE, linewidth=0.8, zorder=7)\n",
    "#ax.add_feature(cfeature.RIVERS, edgecolor='blue', linewidth=0.5, zorder=7)\n",
    "ax.add_feature(cfeature.LAKES, facecolor='lightblue', zorder=7)\n",
    "ax.add_feature(cfeature.OCEAN, facecolor='lightblue', zorder=7)\n",
    "\n",
    "# Plot Garonne Rhône Watersheds Polygon\n",
    "garonne_rhone_geometry_df.plot(ax=ax, facecolor='none', edgecolor='black', linewidth=2, transform=ccrs.PlateCarree(),zorder=8)\n",
    "\n",
    "# Get france boundary\n",
    "france_boundary = world[world[\"SOVEREIGNT\"]==\"France\"]\n",
    "outside_garonne_rhone = gpd.overlay(france_boundary, garonne_rhone_geometry_df, how='difference')\n",
    "\n",
    "# Plot all stations in the watershed\n",
    "station_train_df.plot(ax=ax, marker='o', facecolor='white', edgecolor=\"black\", markersize=70, transform=ccrs.PlateCarree(), zorder=8)\n",
    "station_test_df.plot(ax=ax, marker='o', color='black', markersize=70, transform=ccrs.PlateCarree(), zorder=8)\n",
    "\n",
    "# Plot barrages\n",
    "barrages_df.plot(ax=ax, marker='s', color='black', markersize=20, transform=ccrs.PlateCarree(), zorder=9,\n",
    "                 facecolor='white', alpha=0.5)\n",
    "river_colors = ['#d9d9d9', '#b0c4de', '#87a9d1', '#4f81bd']  # Hex codes for gradient shades\n",
    "\n",
    "rivers_gdf4.plot(ax=ax, edgecolor=river_colors[0], linewidth=1, transform=ccrs.PlateCarree(), zorder=-2)\n",
    "rivers_gdf3.plot(ax=ax, edgecolor=river_colors[1], linewidth=1, transform=ccrs.PlateCarree(), zorder=-1)\n",
    "rivers_gdf2.plot(ax=ax, edgecolor=river_colors[2], linewidth=1, transform=ccrs.PlateCarree(), zorder=0)\n",
    "rivers_gdf1.plot(ax=ax, edgecolor=river_colors[3], linewidth=1, transform=ccrs.PlateCarree(), zorder=1)\n",
    "outside_garonne_rhone.plot(ax=ax, facecolor='white', edgecolor='none', transform=ccrs.PlateCarree(), zorder=2)\n",
    "\n",
    "# Define legend\n",
    "legend_elements = [\n",
    "    Line2D([0], [0], marker='o', color='black', label='Eval-only Stations',\n",
    "           markerfacecolor='black', markersize=13, linestyle='None', markeredgewidth=2, zorder=12),\n",
    "    Line2D([0], [0], marker='o', color='black', label='Train & Eval Stations',\n",
    "           markerfacecolor='white', markersize=13, linestyle='None', markeredgewidth=2, zorder=12),\n",
    "    Line2D([0], [0], marker='s', color='black', label='Dams', alpha=0.5,\n",
    "           markerfacecolor='white', markersize=3, linestyle='None', zorder=12),\n",
    "    Line2D([0], [0], color=river_colors[0], lw=2, label='Class 4 Rivers'),\n",
    "    Line2D([0], [0], color=river_colors[1], lw=2, label='Class 3 Rivers'),\n",
    "    Line2D([0], [0], color=river_colors[2], lw=2, label='Class 2 Rivers'),\n",
    "    Line2D([0], [0], color=river_colors[3], lw=2, label='Class 1 Rivers')\n",
    "]\n",
    "\n",
    "# Add Title and legend\n",
    "legend = plt.legend(handles=legend_elements, loc='upper left', fontsize=11)\n",
    "legend.set_zorder(9)\n",
    "ax.set_title('Stations in the Ardour-Garonne & Rhône-Méditerrannée Watershed')\n",
    "ax.set_axis_off()\n",
    "plt.show()"
   ]
  },
  {
   "cell_type": "code",
   "execution_count": null,
   "metadata": {},
   "outputs": [],
   "source": [
    "fig, axes = plt.subplots(2, 2, figsize=(12, 8), subplot_kw={'projection': ccrs.PlateCarree()})\n",
    "\n",
    "# filter rivers in the Rio Doce watershed\n",
    "hydro_level1_df = hydro_level1_df.to_crs(\"EPSG:4326\")\n",
    "hydro_level2_df = hydro_level2_df.to_crs(\"EPSG:4326\")\n",
    "hydro_level3_df = hydro_level3_df.to_crs(\"EPSG:4326\")\n",
    "hydro_level4_df = hydro_level4_df.to_crs(\"EPSG:4326\")\n",
    "\n",
    "# Ensure CRS matches (if garonneRhone_features is not in EPSG:4326, reproject)\n",
    "garonne_rhone_geometry_df = garonne_rhone_geometry_df.to_crs(rivers_gdf.crs)\n",
    "\n",
    "# Get brazil boundary\n",
    "france_boundary = world[world[\"SOVEREIGNT\"]==\"France\"]\n",
    "outside_garonne_rhone = gpd.overlay(france_boundary, garonne_rhone_geometry_df, how='difference')\n",
    "\n",
    "hydro_levels_df = [hydro_level1_df, hydro_level2_df, hydro_level3_df, hydro_level4_df]\n",
    "titles = [\n",
    "    \"Hydrographic Region (1st order)\", \n",
    "    \"Hydrographic Sector (2nd order)\", \n",
    "    \"Hydrographic Sub-Sector (3rd order)\", \n",
    "    \"Hydrographic Zone (4th order)\"\n",
    "]\n",
    "colors = [\"lightblue\", \"lightgreen\", \"khaki\", \"salmon\"]\n",
    "\n",
    "for ax, hydro_level_df, title, color in zip(axes.flat, hydro_levels_df, titles, colors): \n",
    "    # Add Base Features\n",
    "    ax.set_extent(BBOX, crs=ccrs.PlateCarree())\n",
    "    ax.add_feature(cfeature.BORDERS, linestyle=':', edgecolor='black', linewidth=1, zorder=7)\n",
    "    ax.add_feature(cfeature.COASTLINE, linewidth=0.8, zorder=7)\n",
    "    #ax.add_feature(cfeature.RIVERS, edgecolor='blue', linewidth=0.5, zorder=7)\n",
    "    ax.add_feature(cfeature.LAKES, facecolor='lightblue', zorder=7)\n",
    "    ax.add_feature(cfeature.OCEAN, facecolor='lightblue', zorder=7)\n",
    "\n",
    "    # Plot Rio Doce Watershed Polygon\n",
    "    garonne_rhone_geometry_df.plot(ax=ax, facecolor='none', edgecolor='black', linewidth=2, transform=ccrs.PlateCarree(),zorder=9)\n",
    "\n",
    "    # # Plot all stations in the watershed\n",
    "    station_train_df.plot(ax=ax, marker='o', facecolor='white', edgecolor=\"black\", markersize=50, transform=ccrs.PlateCarree(), zorder=8)\n",
    "    station_test_df.plot(ax=ax, marker='o', color='black', markersize=50, transform=ccrs.PlateCarree(), zorder=8)\n",
    "\n",
    "    hydro_level_df.plot(ax=ax, color=color, edgecolor=\"black\", linewidth=1, transform=ccrs.PlateCarree(), zorder=2)\n",
    "    outside_garonne_rhone.plot(ax=ax, facecolor='white', edgecolor='none', transform=ccrs.PlateCarree(), zorder=6)\n",
    "\n",
    "    # Add Title and remove axis\n",
    "    ax.set_title(f'{title}')\n",
    "    ax.set_axis_off()\n",
    "plt.tight_layout()\n",
    "plt.show()"
   ]
  },
  {
   "cell_type": "markdown",
   "metadata": {},
   "source": [
    "#### II.b. Soil"
   ]
  },
  {
   "cell_type": "code",
   "execution_count": null,
   "metadata": {},
   "outputs": [],
   "source": [
    "bdod_da = soil_df[f'{country}_bdod_0-5cm_mean']\n",
    "cfvo_da = soil_df[f'{country}_cfvo_0-5cm_mean']\n",
    "clay_da = soil_df[f'{country}_clay_0-5cm_mean']\n",
    "sand_da = soil_df[f'{country}_sand_0-5cm_mean']"
   ]
  },
  {
   "cell_type": "code",
   "execution_count": null,
   "metadata": {},
   "outputs": [],
   "source": [
    "# # For France\n",
    "watershed_df = watershed_df[watershed_df[\"LbBH\"].str.contains(\"Rhône-Méditerranée|Adour-Garonne\", case=False, na=False)]\n",
    "\n",
    "# Ensure CRS matches (if garonneRhone_features is not in EPSG:4326, reproject)\n",
    "watershed_df = watershed_df.to_crs(bdod_da.rio.crs)"
   ]
  },
  {
   "cell_type": "code",
   "execution_count": null,
   "metadata": {},
   "outputs": [],
   "source": [
    "fig, axes = plt.subplots(2, 2, figsize=(16, 12))\n",
    "maps = [bdod_da, cfvo_da, clay_da, sand_da]\n",
    "titles = [\n",
    "    \"Bulk density of the fine earth fraction\", \n",
    "    \"Volumetric fraction of coarse fragments\", \n",
    "    \"Proportion of clay particles\", \n",
    "    \"Proportion of sand particles\"\n",
    "]\n",
    "for ax, data, title in zip(axes.flat, maps, titles):\n",
    "    # Mask raster data outside the multipolygon\n",
    "    masked_data = data.rio.clip(watershed_df.geometry, all_touched=True, drop=True)\n",
    "\n",
    "    # Plot the masked raster with NaN values appearing white\n",
    "    masked_data.plot(ax=ax, cmap='gist_ncar', add_colorbar=True)\n",
    "\n",
    "    # Overlay multipolygon borders in black\n",
    "    watershed_df.boundary.plot(ax=ax, edgecolor=\"black\", linewidth=1.5)\n",
    "\n",
    "    # data.plot(ax=ax, cmap='gist_ncar')  # Use the same plotting function\n",
    "    # watershed_df.boundary.plot(ax=ax, edgecolor=\"black\", linewidth=1.5)  # Overlay multipolygon borders\n",
    "    ax.set_title(f\"Average {title} map at 0-5 cm in {country}\")\n",
    "    ax.set_xlabel(\"Longitude\")\n",
    "    ax.set_ylabel(\"Latitude\")\n",
    "\n",
    "# Adjust layout for better spacing\n",
    "plt.tight_layout()\n",
    "plt.show()"
   ]
  },
  {
   "cell_type": "markdown",
   "metadata": {},
   "source": [
    "### III. Temporal Analysis"
   ]
  },
  {
   "cell_type": "code",
   "execution_count": null,
   "metadata": {},
   "outputs": [],
   "source": [
    "def plot_map_discharge(waterflow_df, station_train_df, year=1990):\n",
    "    waterflow_df[\"date\"] = pd.to_datetime(waterflow_df[\"date\"])\n",
    "    waterflow_df = waterflow_df[waterflow_df[\"date\"].dt.year == year]\n",
    "    waterflow_df = waterflow_df.groupby([\"station_code\", pd.Grouper(key=\"date\", freq=\"YE\")]).agg({\"discharge\": \"mean\"}).reset_index()\n",
    "    merged_df = waterflow_df.merge(station_train_df, on=\"station_code\", how=\"inner\")\n",
    "    return merged_df"
   ]
  },
  {
   "cell_type": "code",
   "execution_count": null,
   "metadata": {},
   "outputs": [],
   "source": [
    "merged_df = plot_map_discharge(waterflow_df, station_train_df, year=1990)\n",
    "merged_df = gpd.GeoDataFrame(merged_df, geometry=gpd.points_from_xy(merged_df[\"longitude\"], merged_df[\"latitude\"]))"
   ]
  },
  {
   "cell_type": "code",
   "execution_count": null,
   "metadata": {},
   "outputs": [],
   "source": [
    "def plot_seasonality_by_station(dataset_baseline, max_stations=50):\n",
    "    \"\"\"\n",
    "    Plots the average monthly water flow for each station to explore seasonality.\n",
    "\n",
    "    Args:\n",
    "        dataset_baseline (pd.DataFrame): The dataset containing water flow data.\n",
    "        max_stations (int): Maximum number of stations to plot.\n",
    "\n",
    "    Returns:\n",
    "        None. Saves the plots as PNG files in the specified directory.\n",
    "    \"\"\"\n",
    "    # Ensure 'date' is in datetime format\n",
    "    dataset_baseline = dataset_baseline.reset_index()\n",
    "    dataset_baseline['date'] = pd.to_datetime(dataset_baseline['date'])\n",
    "\n",
    "    # Extract the month from the observation date\n",
    "    dataset_baseline['Month'] = dataset_baseline['date'].dt.month\n",
    "\n",
    "    # Group data by station and month to calculate average water flow\n",
    "    monthly_avg_flow = (\n",
    "        dataset_baseline.groupby(['station_code', 'Month'])['discharge']\n",
    "        .mean()\n",
    "        .reset_index()\n",
    "    )\n",
    "\n",
    "    # Get the list of unique station names\n",
    "    unique_names = dataset_baseline['station_code'].unique()\n",
    "\n",
    "    # Set up the figure and subplots\n",
    "    nb_fig = min(len(unique_names), max_stations)\n",
    "    fig, axes = plt.subplots(nb_fig, 1, figsize=(15, 5 * nb_fig), sharex=False)\n",
    "    if nb_fig == 1:  # Handle the case where there's only one station\n",
    "        axes = [axes]\n",
    "\n",
    "    # Rhone_color = \"skyblue\"\n",
    "    # Garonne_color = \"orange\"\n",
    "\n",
    "    # Create a plot for each station\n",
    "    i_station = 0\n",
    "    for ax, name in zip(axes, unique_names):\n",
    "        if i_station < max_stations:\n",
    "            # Filter data for the current station\n",
    "            station_data = monthly_avg_flow[monthly_avg_flow['station_code'] == name]\n",
    "            # ocolor = Rhone_color if \"Rhone\" in name else Garonne_color\n",
    "            # Plot average water flow by month\n",
    "            ax.bar(\n",
    "                station_data['Month'],\n",
    "                station_data['discharge'],\n",
    "                color=\"skyblue\",\n",
    "                edgecolor='black'\n",
    "            )\n",
    "\n",
    "            # Customize the plot\n",
    "            ax.set_title(f'Seasonality of Water Flow for Station: {name}')\n",
    "            ax.set_xlabel('Month')\n",
    "            ax.set_ylabel('Average Water Flow (m³/s)')\n",
    "            ax.set_xticks(range(1, 13))\n",
    "            ax.set_xticklabels(\n",
    "                ['Jan', 'Feb', 'Mar', 'Apr', 'May', 'Jun', 'Jul', 'Aug', 'Sep', 'Oct', 'Nov', 'Dec']\n",
    "            )\n",
    "            ax.grid(axis='y', linestyle='--', alpha=0.7)\n",
    "\n",
    "            i_station += 1\n",
    "\n",
    "    # Adjust layout\n",
    "    plt.tight_layout()\n",
    "    plt.show()\n",
    "\n",
    "    # Save the figure\n",
    "    # current_date = pd.Timestamp.now().strftime('%d-%m-%Y_%H-%M')\n",
    "    # save_path = f'../../../figures/data/{current_date}_seasonality_stations.png'\n",
    "    #fig.savefig(save_path)\n",
    "    \n",
    "    # Optionally, close the figure to free up memory\n",
    "    #plt.close(fig)\n",
    "\n",
    "    # print(f\"Seasonality plots saved to {save_path}\")\n"
   ]
  },
  {
   "cell_type": "code",
   "execution_count": null,
   "metadata": {},
   "outputs": [],
   "source": [
    "plot_seasonality_by_station(waterflow_df, max_stations=2)"
   ]
  }
 ],
 "metadata": {
  "kernelspec": {
   "display_name": ".venv",
   "language": "python",
   "name": "python3"
  },
  "language_info": {
   "codemirror_mode": {
    "name": "ipython",
    "version": 3
   },
   "file_extension": ".py",
   "mimetype": "text/x-python",
   "name": "python",
   "nbconvert_exporter": "python",
   "pygments_lexer": "ipython3",
   "version": "3.12.6"
  }
 },
 "nbformat": 4,
 "nbformat_minor": 2
}
