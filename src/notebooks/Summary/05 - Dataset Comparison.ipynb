{
 "cells": [
  {
   "cell_type": "markdown",
   "id": "aea3a30c",
   "metadata": {},
   "source": [
    "# Comparing the baseline dataset vs our feature engineered dataset\n",
    "\n",
    "In this notebook, we're comparing the baseline dataset that was provided to use at the beginning of the hackathon with the dataset that we created and tailored with some new features. We will be comparing the two best models :\n",
    "\n",
    "- QRF\n",
    "- XGBQRF\n"
   ]
  },
  {
   "cell_type": "code",
   "execution_count": 115,
   "id": "24c5272a",
   "metadata": {},
   "outputs": [
    {
     "name": "stdout",
     "output_type": "stream",
     "text": [
      "The autoreload extension is already loaded. To reload it, use:\n",
      "  %reload_ext autoreload\n"
     ]
    }
   ],
   "source": [
    "import os\n",
    "import sys\n",
    "\n",
    "import joblib\n",
    "import numpy as np\n",
    "import pandas as pd\n",
    "from timeit import default_timer as timer \n",
    "\n",
    "from quantile_forest import RandomForestQuantileRegressor\n",
    "\n",
    "sys.path.append(os.path.abspath(os.path.join(os.getcwd(), \"..\", \"..\", \"..\")))\n",
    "\n",
    "from src.utils.model import (\n",
    "    split_dataset,\n",
    "    compare_models_per_station,\n",
    "    XGBQRFModel,\n",
    ")\n",
    "\n",
    "from src.utils.helpers import check_columns_exist, get_y_train\n",
    "\n",
    "# Some more magic so that the notebook will reload external python modules;\n",
    "# see http://stackoverflow.com/questions/1907993/autoreload-of-modules-in-ipython\n",
    "%load_ext autoreload\n",
    "%autoreload 2"
   ]
  },
  {
   "cell_type": "code",
   "execution_count": 116,
   "id": "78c227ea",
   "metadata": {},
   "outputs": [],
   "source": [
    "ALPHA = 0.1\n",
    "TIME_VALIDATION = \"2000-01-01 00:00:00\"\n",
    "SEED = 42\n",
    "NUMBER_OF_WEEK = 4  # Number of weeks to predict one model is trained per week\n",
    "QUANTILES = [ALPHA / 2, 0.5, 1 - ALPHA / 2]\n",
    "\n",
    "INPUT_DIR = os.path.join(\"..\", \"..\", \"..\", \"data\", \"input\")\n",
    "BASELINE_DATASET_NAME = \"dataset_baseline.csv\"\n",
    "CUSTOM_DATASET_NAME = \"dataset_custom.csv\"\n",
    "BASELINE_DATASET_PATH = os.path.join(INPUT_DIR, BASELINE_DATASET_NAME)\n",
    "CUSTOM_DATASET_PATH = os.path.join(INPUT_DIR, CUSTOM_DATASET_NAME)\n",
    "DATASET_TYPES = [\"baseline\", \"custom\"]\n",
    "DATASETS = {}\n",
    "\n",
    "best_params_qrf = {\n",
    "    \"n_estimators\": 130,\n",
    "    \"min_samples_split\": 30,\n",
    "    \"min_samples_leaf\": 20,\n",
    "    \"max_features\": None,\n",
    "    \"max_depth\": 30,\n",
    "    \"bootstrap\": True,\n",
    "}\n",
    "\n",
    "best_params_xgb = {\n",
    "    \"subsample\": 0.6,\n",
    "    \"n_estimators\": 300,\n",
    "    \"min_child_weight\": 5,\n",
    "    \"max_depth\": 5,\n",
    "    \"learning_rate\": 0.05,\n",
    "    \"gamma\": 0.1,\n",
    "    \"colsample_bytree\": 0.8,\n",
    "}\n",
    "\n",
    "# Will be used for comparison later on\n",
    "summary = {}"
   ]
  },
  {
   "cell_type": "code",
   "execution_count": 117,
   "id": "245bcd5f",
   "metadata": {},
   "outputs": [],
   "source": [
    "for dataset_type in DATASET_TYPES:\n",
    "    if dataset_type == \"baseline\":\n",
    "        dataset_path = BASELINE_DATASET_PATH\n",
    "    else:\n",
    "        dataset_path = CUSTOM_DATASET_PATH\n",
    "\n",
    "    # Load dataset\n",
    "    dataset = pd.read_csv(dataset_path)\n",
    "\n",
    "    # Check if columns exist\n",
    "    check_columns_exist(dataset, [\"ObsDate\", \"station_code\"])\n",
    "\n",
    "    # Set index to ObsDate\n",
    "    dataset = dataset.set_index(\"ObsDate\")\n",
    "\n",
    "    # Split dataset into train and test sets\n",
    "    train_split, spatio_temporal_split, temporal_split = split_dataset(\n",
    "        dataset, 0.75, TIME_VALIDATION\n",
    "    )\n",
    "\n",
    "    # Get X and y for training and testing\n",
    "    x_train, y_train = get_y_train(train_split.drop(columns=[\"station_code\"]))\n",
    "    x_test, y_test = get_y_train(spatio_temporal_split.drop(columns=[\"station_code\"]))\n",
    "    x_eval, y_eval = get_y_train(temporal_split)\n",
    "\n",
    "    summary[dataset_type] = {}\n",
    "\n",
    "    DATASETS[dataset_type] = {\n",
    "        \"x_train\": x_train,\n",
    "        \"y_train\": y_train,\n",
    "        \"x_test\": x_test,\n",
    "        \"y_test\": y_test,\n",
    "        \"x_eval\": x_eval,\n",
    "        \"y_eval\": y_eval,\n",
    "    }"
   ]
  },
  {
   "cell_type": "markdown",
   "id": "de107fa3",
   "metadata": {},
   "source": [
    "## Training\n"
   ]
  },
  {
   "cell_type": "code",
   "execution_count": 118,
   "id": "a8db0134",
   "metadata": {},
   "outputs": [
    {
     "name": "stdout",
     "output_type": "stream",
     "text": [
      "Training QRF week 1...\n",
      "QRF week 1 trained in 53.00 seconds\n",
      "Training XGB week 1...\n",
      "Fitting XGB models\n",
      "Fitting QRF model\n",
      "XGB week 1 trained in 56.20 seconds\n",
      "Training QRF week 2...\n",
      "QRF week 2 trained in 51.61 seconds\n",
      "Training XGB week 2...\n",
      "Fitting XGB models\n",
      "Fitting QRF model\n",
      "XGB week 2 trained in 56.19 seconds\n",
      "Training QRF week 3...\n",
      "QRF week 3 trained in 50.15 seconds\n",
      "Training XGB week 3...\n",
      "Fitting XGB models\n",
      "Fitting QRF model\n",
      "XGB week 3 trained in 50.44 seconds\n",
      "Training QRF week 4...\n",
      "QRF week 4 trained in 45.92 seconds\n",
      "Training XGB week 4...\n",
      "Fitting XGB models\n",
      "Fitting QRF model\n",
      "XGB week 4 trained in 47.91 seconds\n",
      "Training QRF week 1...\n",
      "QRF week 1 trained in 25.93 seconds\n",
      "Training XGB week 1...\n",
      "Fitting XGB models\n",
      "Fitting QRF model\n",
      "XGB week 1 trained in 27.62 seconds\n",
      "Training QRF week 2...\n",
      "QRF week 2 trained in 24.93 seconds\n",
      "Training XGB week 2...\n",
      "Fitting XGB models\n",
      "Fitting QRF model\n",
      "XGB week 2 trained in 26.69 seconds\n",
      "Training QRF week 3...\n",
      "QRF week 3 trained in 23.59 seconds\n",
      "Training XGB week 3...\n",
      "Fitting XGB models\n",
      "Fitting QRF model\n",
      "XGB week 3 trained in 25.38 seconds\n",
      "Training QRF week 4...\n",
      "QRF week 4 trained in 23.24 seconds\n",
      "Training XGB week 4...\n",
      "Fitting XGB models\n",
      "Fitting QRF model\n",
      "XGB week 4 trained in 24.96 seconds\n"
     ]
    }
   ],
   "source": [
    "for dataset_type in DATASET_TYPES:\n",
    "    summary[dataset_type][\"QRF\"] = {}\n",
    "    summary[dataset_type][\"XGB\"] = {}\n",
    "    summary[dataset_type][\"train_times\"] = {}\n",
    "    summary[dataset_type][\"train_times\"][\"QRF\"] = []\n",
    "    summary[dataset_type][\"train_times\"][\"XGB\"] = []\n",
    "    summary[dataset_type][\"n_cols\"] = len(DATASETS[dataset_type][\"x_train\"].columns)\n",
    "    for i in range(NUMBER_OF_WEEK):\n",
    "\n",
    "        print(f\"Training QRF week {i + 1}...\")\n",
    "        qrf = RandomForestQuantileRegressor(**best_params_qrf, random_state=SEED)\n",
    "\n",
    "        start = timer()\n",
    "        qrf.fit(DATASETS[dataset_type][\"x_train\"], DATASETS[dataset_type][\"y_train\"][i])\n",
    "        end = timer()\n",
    "\n",
    "        summary[dataset_type][\"train_times\"][\"QRF\"].append(end - start)\n",
    "        print(f\"QRF week {i + 1} trained in {end - start:.2f} seconds\")\n",
    "        summary[dataset_type][\"QRF\"][i] = qrf\n",
    "\n",
    "        print(f\"Training XGB week {i + 1}...\")\n",
    "        xgb = XGBQRFModel(\n",
    "            best_params_xgb, best_params_qrf, quantiles=QUANTILES, random_state=SEED\n",
    "        )\n",
    "\n",
    "        start = timer()\n",
    "        xgb.fit(\n",
    "            DATASETS[dataset_type][\"x_train\"],\n",
    "            DATASETS[dataset_type][\"y_train\"][i],\n",
    "            eval_set=[\n",
    "                (\n",
    "                    DATASETS[dataset_type][\"x_test\"],\n",
    "                    DATASETS[dataset_type][\"y_test\"][i],\n",
    "                )\n",
    "            ],\n",
    "        )\n",
    "        end = timer()\n",
    "\n",
    "        summary[dataset_type][\"train_times\"][\"XGB\"].append(end - start)\n",
    "        print(f\"XGB week {i + 1} trained in {end - start:.2f} seconds\")\n",
    "        summary[dataset_type][\"XGB\"][i] = xgb"
   ]
  },
  {
   "cell_type": "markdown",
   "id": "3b4e7784",
   "metadata": {},
   "source": [
    "## Evaluation\n"
   ]
  },
  {
   "cell_type": "code",
   "execution_count": 119,
   "id": "24ea2e19",
   "metadata": {},
   "outputs": [],
   "source": [
    "predictions = {}\n",
    "\n",
    "for dataset_type in DATASET_TYPES:\n",
    "    summary[dataset_type][\"QRF\"][\"predictions\"] = {}\n",
    "    summary[dataset_type][\"XGB\"][\"predictions\"] = {}\n",
    "    predictions[dataset_type] = []\n",
    "    for i in range(NUMBER_OF_WEEK):\n",
    "        stations = DATASETS[dataset_type][\"x_eval\"][\"station_code\"].values\n",
    "        x_eval = DATASETS[dataset_type][\"x_eval\"].drop(columns=[\"station_code\"])\n",
    "        y_eval = DATASETS[dataset_type][\"y_eval\"][i]\n",
    "        qrf_predictions = summary[dataset_type][\"QRF\"][i].predict(\n",
    "            x_eval, quantiles=QUANTILES\n",
    "        )\n",
    "\n",
    "        xgb_predictions = summary[dataset_type][\"XGB\"][i].predict(x_eval)\n",
    "\n",
    "        summary[dataset_type][\"QRF\"][\"predictions\"][i] = qrf_predictions\n",
    "        summary[dataset_type][\"XGB\"][\"predictions\"][i] = xgb_predictions\n",
    "\n",
    "        predictions[dataset_type].append(\n",
    "            {\n",
    "                \"model\": \"QRF\",\n",
    "                \"prediction\": qrf_predictions[:, 1],\n",
    "                \"dataset\": dataset_type,\n",
    "                \"stations\": stations,\n",
    "                \"prediction_interval\": np.stack(\n",
    "                    [qrf_predictions[:, 0], qrf_predictions[:, 2]], axis=1\n",
    "                ),\n",
    "            }\n",
    "        )\n",
    "\n",
    "        predictions[dataset_type].append(\n",
    "            {\n",
    "                \"model\": \"XGB\",\n",
    "                \"prediction\": xgb_predictions[:, 1],\n",
    "                \"dataset\": dataset_type,\n",
    "                \"stations\": stations,\n",
    "                \"prediction_interval\": np.stack(\n",
    "                    [xgb_predictions[:, 0], xgb_predictions[:, 2]], axis=1\n",
    "                ),\n",
    "            }\n",
    "        )"
   ]
  },
  {
   "cell_type": "markdown",
   "id": "5a771714",
   "metadata": {},
   "source": [
    "## Results\n",
    "\n",
    "### Training Time\n"
   ]
  },
  {
   "cell_type": "code",
   "execution_count": 120,
   "id": "4df3b1b6",
   "metadata": {},
   "outputs": [
    {
     "data": {
      "text/plain": [
       "<Axes: xlabel='model_type', ylabel='training_time'>"
      ]
     },
     "execution_count": 120,
     "metadata": {},
     "output_type": "execute_result"
    },
    {
     "data": {
      "image/png": "[encoded data removed]",
      "text/plain": [
       "<Figure size 640x480 with 1 Axes>"
      ]
     },
     "metadata": {},
     "output_type": "display_data"
    }
   ],
   "source": [
    "# Flatten into list of rows\n",
    "rows = []\n",
    "for dataset_type, dataset_data in summary.items():\n",
    "    for model_type, times in dataset_data.get(\"train_times\", {}).items():\n",
    "        for time in times:\n",
    "            rows.append(\n",
    "                {\n",
    "                    \"dataset_type\": dataset_type,\n",
    "                    \"model_type\": model_type,\n",
    "                    \"training_time\": time,\n",
    "                }\n",
    "            )\n",
    "\n",
    "# Create DataFrame\n",
    "train_time_df = pd.DataFrame(rows)\n",
    "\n",
    "import seaborn as sns\n",
    "\n",
    "sns.barplot(\n",
    "    train_time_df,\n",
    "    x=\"model_type\",\n",
    "    y=\"training_time\",\n",
    "    hue=\"dataset_type\",\n",
    "    errorbar=\"sd\",\n",
    ")"
   ]
  },
  {
   "cell_type": "code",
   "execution_count": 121,
   "id": "ac24b6c0",
   "metadata": {},
   "outputs": [
    {
     "name": "stdout",
     "output_type": "stream",
     "text": [
      "Speedup with custom dataset: 49.18%\n"
     ]
    }
   ],
   "source": [
    "speedup = (\n",
    "    train_time_df[train_time_df[\"dataset_type\"] == \"custom\"][\"training_time\"].sum()\n",
    "    / train_time_df[train_time_df[\"dataset_type\"] == \"baseline\"][\"training_time\"].sum()\n",
    ") * 100\n",
    "\n",
    "print(f\"Speedup with custom dataset: {speedup:.2f}%\")"
   ]
  },
  {
   "cell_type": "code",
   "execution_count": null,
   "id": "27a04782",
   "metadata": {},
   "outputs": [
    {
     "name": "stdout",
     "output_type": "stream",
     "text": [
      "Average baseline train time : 51.43 seconds +/- 3.65 seconds\n",
      "Average custom train time : 25.29 seconds +/- 1.47 seconds\n"
     ]
    }
   ],
   "source": [
    "baseline_train_time = train_time_df[train_time_df[\"dataset_type\"] == \"baseline\"]\n",
    "custom_train_time = train_time_df[train_time_df[\"dataset_type\"] == \"custom\"]\n",
    "\n",
    "print(\n",
    "    f\"Average baseline train time : {baseline_train_time['training_time'].mean():.2f} seconds +/- {baseline_train_time['training_time'].std():.2f} seconds\"\n",
    ")\n",
    "print(\n",
    "    f\"Average custom train time : {custom_train_time['training_time'].mean():.2f} seconds +/- {custom_train_time['training_time'].std():.2f} seconds\"\n",
    ")"
   ]
  },
  {
   "cell_type": "markdown",
   "id": "0f0fbe20",
   "metadata": {},
   "source": [
    "### NGLL\n"
   ]
  },
  {
   "cell_type": "code",
   "execution_count": 122,
   "id": "46528db3",
   "metadata": {},
   "outputs": [
    {
     "data": {
      "text/plain": [
       "[{'model': 'QRF',\n",
       "  'prediction': array([ 29.02672143,  20.20571429,  12.38642857, ..., 974.33492143,\n",
       "         614.13028571, 895.39312857]),\n",
       "  'dataset': 'baseline',\n",
       "  'stations': array([ 6119020,  6119020,  6119020, ..., 56994500, 56994500, 56994500]),\n",
       "  'prediction_interval': array([[  13.66      ,   50.43928571],\n",
       "         [   9.14385714,   33.35817214],\n",
       "         [   6.77428571,   18.42928571],\n",
       "         ...,\n",
       "         [ 588.96938857, 1479.90804643],\n",
       "         [ 395.29552714,  863.40547571],\n",
       "         [ 491.12914   , 1974.24245786]])},\n",
       " {'model': 'XGB',\n",
       "  'prediction': array([ 31.48988914,  21.27374458,  10.93968964, ..., 672.06622314,\n",
       "         843.70825195, 805.73455811]),\n",
       "  'dataset': 'baseline',\n",
       "  'stations': array([ 6119020,  6119020,  6119020, ..., 56994500, 56994500, 56994500]),\n",
       "  'prediction_interval': array([[  17.97423129,   52.01539234],\n",
       "         [  12.27374458,   38.54319125],\n",
       "         [   4.75704178,   17.11417088],\n",
       "         ...,\n",
       "         [ 282.64418029, 1020.85410202],\n",
       "         [ 679.76592338, 1025.73865538],\n",
       "         [ 406.29143168, 1659.22251997]])},\n",
       " {'model': 'QRF',\n",
       "  'prediction': array([ 28.62857143,  16.35714286,  12.55      , ..., 735.26184286,\n",
       "         924.0984    , 951.20727143]),\n",
       "  'dataset': 'baseline',\n",
       "  'stations': array([ 6119020,  6119020,  6119020, ..., 56994500, 56994500, 56994500]),\n",
       "  'prediction_interval': array([[  12.73357143,   54.54428571],\n",
       "         [   5.65907143,   35.99903286],\n",
       "         [   7.59131429,   31.61      ],\n",
       "         ...,\n",
       "         [ 396.28131429, 1362.8425    ],\n",
       "         [ 436.148845  , 2072.03107143],\n",
       "         [ 461.71180786, 2329.81338214]])},\n",
       " {'model': 'XGB',\n",
       "  'prediction': array([  27.2555542 ,   17.27324104,   10.33438492, ...,  569.1116333 ,\n",
       "         1159.84667969,  784.48547363]),\n",
       "  'dataset': 'baseline',\n",
       "  'stations': array([ 6119020,  6119020,  6119020, ..., 56994500, 56994500, 56994500]),\n",
       "  'prediction_interval': array([[  12.29274706,   51.48014822],\n",
       "         [   6.51752676,   39.36048653],\n",
       "         [   4.9015992 ,   24.81214351],\n",
       "         ...,\n",
       "         [ 249.58746902,  863.82500526],\n",
       "         [ 631.21299969, 1854.79139458],\n",
       "         [ 285.14463006, 1766.88424078]])},\n",
       " {'model': 'QRF',\n",
       "  'prediction': array([ 22.85714286,  17.2       ,  11.72785714, ..., 724.50237857,\n",
       "         969.60337143, 730.232     ]),\n",
       "  'dataset': 'baseline',\n",
       "  'stations': array([ 6119020,  6119020,  6119020, ..., 56994500, 56994500, 56994500]),\n",
       "  'prediction_interval': array([[   9.32728571,   50.61404714],\n",
       "         [   4.53742857,   39.62214286],\n",
       "         [   6.25564286,   28.22214286],\n",
       "         ...,\n",
       "         [ 390.77866143, 1687.04371429],\n",
       "         [ 473.91188143, 2237.95389714],\n",
       "         [ 424.34956786, 2296.76796429]])},\n",
       " {'model': 'XGB',\n",
       "  'prediction': array([  26.27256775,   17.2661953 ,   11.63400555, ...,  571.56524658,\n",
       "         1017.26739502,  694.8380127 ]),\n",
       "  'dataset': 'baseline',\n",
       "  'stations': array([ 6119020,  6119020,  6119020, ..., 56994500, 56994500, 56994500]),\n",
       "  'prediction_interval': array([[  11.13598918,   54.5915167 ],\n",
       "         [   3.69648101,   37.49735445],\n",
       "         [   5.3457984 ,   27.3681645 ],\n",
       "         ...,\n",
       "         [ 268.84346087, 1461.0963003 ],\n",
       "         [ 478.25777645, 1882.39139292],\n",
       "         [ 373.06797984, 1724.71963263]])},\n",
       " {'model': 'QRF',\n",
       "  'prediction': array([  22.55714286,   19.14077857,   10.83785714, ...,  678.7691    ,\n",
       "         1119.19742143,  623.28995714]),\n",
       "  'dataset': 'baseline',\n",
       "  'stations': array([ 6119020,  6119020,  6119020, ..., 56994500, 56994500, 56994500]),\n",
       "  'prediction_interval': array([[8.29571429e+00, 5.24217314e+01],\n",
       "         [7.01285714e+00, 3.88285714e+01],\n",
       "         [3.59142857e+00, 2.68722143e+01],\n",
       "         ...,\n",
       "         [3.87187570e+02, 2.24679863e+03],\n",
       "         [4.18851698e+02, 3.60780710e+03],\n",
       "         [3.74645957e+02, 2.16448011e+03]])},\n",
       " {'model': 'XGB',\n",
       "  'prediction': array([  22.97538185,   18.71986389,   13.77390385, ...,  594.32647705,\n",
       "         1004.83111572,  518.25073242]),\n",
       "  'dataset': 'baseline',\n",
       "  'stations': array([ 6119020,  6119020,  6119020, ..., 56994500, 56994500, 56994500]),\n",
       "  'prediction_interval': array([[   9.34973899,   51.41726833],\n",
       "         [   9.89700675,   41.26015374],\n",
       "         [   7.33818956,   32.67550558],\n",
       "         ...,\n",
       "         [ 319.15867705, 1463.64829059],\n",
       "         [ 581.89194287, 2771.84201756],\n",
       "         [ 323.94985599, 1554.55325384]])}]"
      ]
     },
     "execution_count": 122,
     "metadata": {},
     "output_type": "execute_result"
    }
   ],
   "source": [
    "predictions[\"baseline\"]"
   ]
  },
  {
   "cell_type": "code",
   "execution_count": 123,
   "id": "3a3c91ec",
   "metadata": {},
   "outputs": [
    {
     "data": {
      "text/plain": [
       "<Axes: xlabel='model', ylabel='log_likelihood'>"
      ]
     },
     "execution_count": 123,
     "metadata": {},
     "output_type": "execute_result"
    },
    {
     "data": {
      "image/png": "[encoded data removed]",
      "text/plain": [
       "<Figure size 640x480 with 1 Axes>"
      ]
     },
     "metadata": {},
     "output_type": "display_data"
    }
   ],
   "source": [
    "overall_results = pd.DataFrame()\n",
    "\n",
    "\n",
    "for dataset_type in DATASET_TYPES:\n",
    "    for i in range(NUMBER_OF_WEEK):\n",
    "        t = compare_models_per_station(\n",
    "            DATASETS[dataset_type][\"y_eval\"][0],\n",
    "            predictions[dataset_type],\n",
    "            DATASETS[dataset_type][\"x_eval\"][\"station_code\"].values,\n",
    "            display=False,\n",
    "            return_df=True,\n",
    "        )\n",
    "        t[\"dataset_type\"] = dataset_type\n",
    "        t[\"week\"] = i\n",
    "        overall_results = pd.concat([overall_results, t])\n",
    "\n",
    "import seaborn as sns\n",
    "\n",
    "sns.barplot(\n",
    "    overall_results,\n",
    "    x=\"model\",\n",
    "    y=\"log_likelihood\",\n",
    "    hue=\"dataset_type\",\n",
    "    errorbar=\"sd\",\n",
    ")"
   ]
  },
  {
   "cell_type": "code",
   "execution_count": null,
   "id": "18772f29",
   "metadata": {},
   "outputs": [
    {
     "name": "stdout",
     "output_type": "stream",
     "text": [
      "Average log-likelihood for baseline : 1.876133985777083 +/- 0.5845815707101735\n",
      "Average log-likelihood for custom : 1.809263232750005 +/- 0.5175642651594747\n",
      "difference :  0.9643571549078993\n",
      "p-value: 0.004147238536276774\n"
     ]
    }
   ],
   "source": [
    "from scipy.stats import ttest_rel\n",
    "\n",
    "baseline_log_likelihood = overall_results[\n",
    "    (overall_results[\"dataset_type\"] == \"baseline\")\n",
    "][\"log_likelihood\"].values\n",
    "custom_log_likelihood = overall_results[(overall_results[\"dataset_type\"] == \"custom\")][\n",
    "    \"log_likelihood\"\n",
    "].values\n",
    "\n",
    "min_len = min(len(baseline_log_likelihood), len(custom_log_likelihood))\n",
    "\n",
    "baseline_log_likelihood = baseline_log_likelihood[:min_len]\n",
    "custom_log_likelihood = custom_log_likelihood[:min_len]\n",
    "\n",
    "stat, p_value = ttest_rel(custom_log_likelihood, baseline_log_likelihood)\n",
    "print(\n",
    "    f\"Average log-likelihood for baseline : {baseline_log_likelihood.mean()} +/- {baseline_log_likelihood.std()}\"\n",
    ")\n",
    "print(\n",
    "    f\"Average log-likelihood for custom : {custom_log_likelihood.mean()} +/- {custom_log_likelihood.std()}\"\n",
    ")\n",
    "print(\"difference : \", custom_log_likelihood.mean() / baseline_log_likelihood.mean())\n",
    "print(\"p-value:\", p_value)"
   ]
  }
 ],
 "metadata": {
  "kernelspec": {
   "display_name": ".venv",
   "language": "python",
   "name": "python3"
  },
  "language_info": {
   "codemirror_mode": {
    "name": "ipython",
    "version": 3
   },
   "file_extension": ".py",
   "mimetype": "text/x-python",
   "name": "python",
   "nbconvert_exporter": "python",
   "pygments_lexer": "ipython3",
   "version": "3.12.8"
  }
 },
 "nbformat": 4,
 "nbformat_minor": 5
}
