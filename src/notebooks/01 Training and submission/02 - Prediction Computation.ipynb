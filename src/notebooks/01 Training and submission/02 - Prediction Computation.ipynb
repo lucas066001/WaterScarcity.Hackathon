{
  "cells": [
    {
      "cell_type": "markdown",
      "metadata": {},
      "source": [
        "## Objective: Final Prediction Computation\n",
        "\n",
        "This notebook generates the final model predictions and formats them for submission on Codabench.\n",
        "\n",
        "The evaluation dataset comprises data from 39 stations included in the training set and 13 stations exclusive to the evaluation set.\n",
        "\n",
        "<img src=\"../images/notebook-4.png\" alt=\"Experiment Diagram\" style=\"width:75%;\" style=\"text-align:center;\" />\n",
        "\n",
        "### 1. Imports\n",
        "\n",
        "Starts by importing the necessary libraries, configuring environment paths, and loading custom utility functions.\n"
      ]
    },
    {
      "cell_type": "code",
      "execution_count": 11,
      "metadata": {},
      "outputs": [],
      "source": [
        "import sys\n",
        "import pandas as pd\n",
        "import os\n",
        "import zipfile\n",
        "\n",
        "import joblib\n",
        "import pandas as pd\n",
        "\n",
        "sys.path.append(os.path.abspath(os.path.join(os.getcwd(), \"..\", \"..\", \"..\")))\n",
        "\n",
        "from src.utils.model import load_models_auto\n",
        "from src.utils.analysis import create_predict_function, create_quantile_function\n",
        "from src.utils.model import load_models_auto\n",
        "\n"
      ]
    },
    {
      "cell_type": "markdown",
      "metadata": {},
      "source": [
        "Defines constants :\n",
        "\n",
        "- _DATASET_DIR_ must be the directory where you unzip the _zenodo_ dataset.\n",
        "- _EVAL_DIR_ will be used to store inference / evaluation data it must be the same as the one defined in _01 Training > 01 - Modelisation_\n",
        "- _FINAL_MODEL_ will be used to store inference / evaluation data\n",
        "\n",
        "FINAL_MODEL describe the model that will be loaded if you use auto-loading\n"
      ]
    },
    {
      "cell_type": "code",
      "execution_count": 12,
      "metadata": {},
      "outputs": [
        {
          "name": "stdout",
          "output_type": "stream",
          "text": [
            "PREDS_DIR: ../../../data/evaluation/rm_gnv_st_pca_snow_index_cyc_enc_date_clust_index_clust_hydro_scl_feat_wl_scl_catch/qrf/\n"
          ]
        }
      ],
      "source": [
        "ALPHA = 0.1\n",
        "NUMBER_OF_WEEK = 4\n",
        "USE_AUTO_SCAN = True  # Toggle this to switch between the loading of the last model of the manual load of a specific model\n",
        "FINAL_MODEL = \"qrf\" \n",
        "DATASET_TRANSFORMS = [\n",
        "    \"rm_gnv_st\",\n",
        "    \"pca\",\n",
        "    \"snow_index\",\n",
        "    # \"oh_enc_date\",\n",
        "    \"cyc_enc_date\",\n",
        "    \"clust_index\",\n",
        "    \"clust_hydro\",\n",
        "    # \"scl_feat\",\n",
        "    \"scl_feat_wl\", # Scale all except waterflow lag\n",
        "    \"scl_catch\",\n",
        "]\n",
        "\n",
        "ADJUSTED_BONDS=False\n",
        "DATASET_SPEC = \"_\".join(DATASET_TRANSFORMS)\n",
        "\n",
        "EVAL_DIR = \"../../../data/evaluation/\"\n",
        "MODEL_DIR = f\"../../../models/{DATASET_SPEC}/\"\n",
        "\n",
        "PREDS_DIR = f\"{EVAL_DIR}{DATASET_SPEC}/{FINAL_MODEL}/\"\n",
        "\n",
        "print(f\"PREDS_DIR: {PREDS_DIR}\")\n",
        "os.makedirs(PREDS_DIR, exist_ok=True)"
      ]
    },
    {
      "cell_type": "markdown",
      "metadata": {},
      "source": [
        "### 2. Data and models Loading\n",
        "\n",
        "Loading of the inference dataset.\n"
      ]
    },
    {
      "cell_type": "code",
      "execution_count": 13,
      "metadata": {},
      "outputs": [],
      "source": [
        "# load the dataset\n",
        "inference_data = pd.read_csv(f\"{EVAL_DIR}dataset_{DATASET_SPEC}.csv\")\n",
        "inference_data = inference_data.set_index(\"ObsDate\")"
      ]
    },
    {
      "cell_type": "code",
      "execution_count": 14,
      "metadata": {},
      "outputs": [
        {
          "data": {
            "text/plain": [
              "Index(['station_code', 'latitude', 'longitude', 'catchment', 'altitude',\n",
              "       'water_flow_lag_1w', 'water_flow_lag_2w', 'north_hemisphere',\n",
              "       'snow_index', 'soil_composition_pca_1', 'soil_composition_pca_2',\n",
              "       'soil_composition_pca_3', 'soil_composition_pca_4',\n",
              "       'soil_composition_pca_5', 'soil_composition_pca_6',\n",
              "       'soil_composition_pca_7', 'soil_composition_pca_8',\n",
              "       'soil_composition_pca_9', 'evaporation_pca_1',\n",
              "       'evaporation_lag_1w_pca_1', 'soil_moisture_pca_1',\n",
              "       'soil_moisture_pca_2', 'tempartures_pca_1', 'tempartures_lag_1w_pca_1',\n",
              "       'precipitations_pca_1', 'precipitations_pca_2',\n",
              "       'precipitations_lag_1w_pca_1', 'precipitations_lag_1w_pca_2',\n",
              "       'month_sin', 'month_cos', 'season_sin', 'season_cos', 'region_cluster',\n",
              "       'hydro_cluster'],\n",
              "      dtype='object')"
            ]
          },
          "execution_count": 14,
          "metadata": {},
          "output_type": "execute_result"
        }
      ],
      "source": [
        "inference_data.columns"
      ]
    },
    {
      "cell_type": "markdown",
      "metadata": {},
      "source": [
        "Loading of the final models.\n"
      ]
    },
    {
      "cell_type": "code",
      "execution_count": 15,
      "metadata": {},
      "outputs": [],
      "source": [
        "# Load models based on conditions\n",
        "final_models = []\n",
        "if FINAL_MODEL == \"mapie\":\n",
        "    if USE_AUTO_SCAN:\n",
        "        final_models = load_models_auto(\"mapie_quantile\", f\"{MODEL_DIR}final/\")\n",
        "    else:\n",
        "        final_models.append(\n",
        "            joblib.load(\n",
        "                f\"{MODEL_DIR}final/mapie_quantile_2025-01-17_15-15-04_week0.pkl\"\n",
        "            )\n",
        "        )\n",
        "        final_models.append(\n",
        "            joblib.load(\n",
        "                f\"{MODEL_DIR}final/mapie_quantile_2025-01-17_15-15-11_week1.pkl\"\n",
        "            )\n",
        "        )\n",
        "        final_models.append(\n",
        "            joblib.load(\n",
        "                f\"{MODEL_DIR}final/mapie_quantile_2025-01-17_15-15-17_week2.pkl\"\n",
        "            )\n",
        "        )\n",
        "        final_models.append(\n",
        "            joblib.load(\n",
        "                f\"{MODEL_DIR}final/mapie_quantile_2025-01-17_15-15-17_week3.pkl\"\n",
        "            )\n",
        "        )\n",
        "elif FINAL_MODEL == \"qrf\":\n",
        "\n",
        "    if USE_AUTO_SCAN:\n",
        "        final_models = load_models_auto(\"qrf_quantile\", f\"{MODEL_DIR}final/\")\n",
        "    else:\n",
        "        final_models.append(joblib.load(f\"{MODEL_DIR}final/qrf_quantile_2025-01-17_15-15-04_week0.pkl\"))\n",
        "        final_models.append(joblib.load(f\"{MODEL_DIR}final/qrf_quantile_2025-01-17_15-15-11_week1.pkl\"))\n",
        "        final_models.append(joblib.load(f\"{MODEL_DIR}final/qrf_quantile_2025-01-17_15-15-17_week2.pkl\"))\n",
        "        final_models.append(joblib.load(f\"{MODEL_DIR}final/qrf_quantile_2025-01-17_15-15-17_week3.pkl\"))\n",
        "elif FINAL_MODEL == \"gpr\":\n",
        "    selected_kernel = [\n",
        "        \"rbf\",\n",
        "        # \"\",\n",
        "        # \"\",\n",
        "    ]\n",
        "    if USE_AUTO_SCAN:\n",
        "        final_models = load_models_auto(f\"gpr_quantile_{\"\".join(selected_kernel)}\", f\"{MODEL_DIR}final/\")\n",
        "    else:\n",
        "        final_models.append(joblib.load(f\"{MODEL_DIR}final/qrf_quantile_2025-01-17_15-15-04_week0.pkl\"))\n",
        "        final_models.append(joblib.load(f\"{MODEL_DIR}final/qrf_quantile_2025-01-17_15-15-11_week1.pkl\"))\n",
        "        final_models.append(joblib.load(f\"{MODEL_DIR}final/qrf_quantile_2025-01-17_15-15-17_week2.pkl\"))\n",
        "        final_models.append(joblib.load(f\"{MODEL_DIR}final/qrf_quantile_2025-01-17_15-15-17_week3.pkl\"))\n",
        "\n",
        "elif FINAL_MODEL == \"gbr\":\n",
        "\n",
        "    if USE_AUTO_SCAN:\n",
        "        final_models = load_models_auto(\"gbr_quantile\", f\"{MODEL_DIR}final/\")\n",
        "    else:\n",
        "        final_models.append(joblib.load(f\"{MODEL_DIR}final/qrf_quantile_2025-01-17_15-15-04_week0.pkl\"))\n",
        "        final_models.append(joblib.load(f\"{MODEL_DIR}final/qrf_quantile_2025-01-17_15-15-11_week1.pkl\"))\n",
        "        final_models.append(joblib.load(f\"{MODEL_DIR}final/qrf_quantile_2025-01-17_15-15-17_week2.pkl\"))\n",
        "        final_models.append(joblib.load(f\"{MODEL_DIR}final/qrf_quantile_2025-01-17_15-15-17_week3.pkl\"))\n",
        "elif FINAL_MODEL == \"qrf_voting\":\n",
        "\n",
        "    if USE_AUTO_SCAN:\n",
        "        final_models = load_models_auto(\"qrf_voting_quantile\", f\"{MODEL_DIR}final/\")\n",
        "    else:\n",
        "        final_models.append(joblib.load(f\"{MODEL_DIR}final/qrf_quantile_2025-01-17_15-15-04_week0.pkl\"))\n",
        "        final_models.append(joblib.load(f\"{MODEL_DIR}final/qrf_quantile_2025-01-17_15-15-11_week1.pkl\"))\n",
        "        final_models.append(joblib.load(f\"{MODEL_DIR}final/qrf_quantile_2025-01-17_15-15-17_week2.pkl\"))\n",
        "        final_models.append(joblib.load(f\"{MODEL_DIR}final/qrf_quantile_2025-01-17_15-15-17_week3.pkl\"))\n",
        "elif FINAL_MODEL == \"qrf_bagging\":\n",
        "\n",
        "    if USE_AUTO_SCAN:\n",
        "        final_models = load_models_auto(\"qrf_bagging_quantile\", f\"{MODEL_DIR}final/\")\n",
        "    else:\n",
        "        final_models.append(\n",
        "            joblib.load(f\"{MODEL_DIR}final/qrf_quantile_2025-01-17_15-15-04_week0.pkl\")\n",
        "        )\n",
        "        final_models.append(\n",
        "            joblib.load(f\"{MODEL_DIR}final/qrf_quantile_2025-01-17_15-15-11_week1.pkl\")\n",
        "        )\n",
        "        final_models.append(\n",
        "            joblib.load(f\"{MODEL_DIR}final/qrf_quantile_2025-01-17_15-15-17_week2.pkl\")\n",
        "        )\n",
        "        final_models.append(\n",
        "            joblib.load(f\"{MODEL_DIR}final/qrf_quantile_2025-01-17_15-15-17_week3.pkl\")\n",
        "        )\n",
        "elif FINAL_MODEL == \"lgbm\":\n",
        "\n",
        "    if USE_AUTO_SCAN:\n",
        "        models_low = load_models_auto(\"lgbm_quantile_q0.05\", f\"{MODEL_DIR}final/\")\n",
        "        models_med = load_models_auto(\"lgbm_quantile_q0.5\", f\"{MODEL_DIR}final/\")\n",
        "        models_high = load_models_auto(\"lgbm_quantile_q0.95\", f\"{MODEL_DIR}final/\")\n",
        "        final_models = [[] for _ in range(NUMBER_OF_WEEK)]\n",
        "        final_models[0] = [models_low[0], models_med[0], models_high[0]]\n",
        "        final_models[1] = [models_low[1], models_med[1], models_high[1]]\n",
        "        final_models[2] = [models_low[2], models_med[2], models_high[2]]\n",
        "        final_models[3] = [models_low[3], models_med[3], models_high[3]]\n",
        "    else:\n",
        "        final_models.append(\n",
        "            joblib.load(f\"{MODEL_DIR}final/qrf_quantile_2025-01-17_15-15-04_week0.pkl\")\n",
        "        )\n",
        "        final_models.append(\n",
        "            joblib.load(f\"{MODEL_DIR}final/qrf_quantile_2025-01-17_15-15-11_week1.pkl\")\n",
        "        )\n",
        "        final_models.append(\n",
        "            joblib.load(f\"{MODEL_DIR}final/qrf_quantile_2025-01-17_15-15-17_week2.pkl\")\n",
        "        )\n",
        "        final_models.append(\n",
        "            joblib.load(f\"{MODEL_DIR}final/qrf_quantile_2025-01-17_15-15-17_week3.pkl\")\n",
        "        )\n",
        "elif FINAL_MODEL == \"ebm_ensemble\":\n",
        "    print(\"Loading EBM Ensemble\")\n",
        "    if USE_AUTO_SCAN:\n",
        "        final_models = load_models_auto(\"ebm_ensemble\", f\"{MODEL_DIR}final/\")\n",
        "    else:\n",
        "        final_models.append(\n",
        "            joblib.load(f\"{MODEL_DIR}final/ebm_ensemble_2025-01-17_15-15-04_week0.pkl\")\n",
        "        )\n",
        "        final_models.append(\n",
        "            joblib.load(f\"{MODEL_DIR}final/ebm_ensemble_2025-01-17_15-15-11_week1.pkl\")\n",
        "        )\n",
        "        final_models.append(\n",
        "            joblib.load(f\"{MODEL_DIR}final/ebm_ensemble_2025-01-17_15-15-17_week2.pkl\")\n",
        "        )\n",
        "        final_models.append(\n",
        "            joblib.load(f\"{MODEL_DIR}final/ebm_ensemble_2025-01-17_15-15-17_week3.pkl\")\n",
        "        )\n",
        "elif FINAL_MODEL == \"deep_ensemble\":\n",
        "    if USE_AUTO_SCAN:\n",
        "        final_models = load_models_auto(\"deep_ensemble\", f\"{MODEL_DIR}final/\")\n",
        "    else:\n",
        "        final_models.append(joblib.load(f\"{MODEL_DIR}final/deep_ensemble_2025-01-17_15-15-04_week0.pkl\"))\n",
        "        final_models.append(joblib.load(f\"{MODEL_DIR}final/deep_ensemble_2025-01-17_15-15-11_week1.pkl\"))\n",
        "        final_models.append(joblib.load(f\"{MODEL_DIR}final/deep_ensemble_2025-01-17_15-15-17_week2.pkl\"))\n",
        "        final_models.append(joblib.load(f\"{MODEL_DIR}final/deep_ensemble_2025-01-17_15-15-17_week3.pkl\"))\n"
      ]
    },
    {
      "cell_type": "code",
      "execution_count": 16,
      "metadata": {},
      "outputs": [
        {
          "data": {
            "text/plain": [
              "[RandomForestQuantileRegressor(max_depth=30, max_features=None,\n",
              "                               min_samples_leaf=27, min_samples_split=27,\n",
              "                               n_estimators=135, random_state=42),\n",
              " RandomForestQuantileRegressor(max_depth=30, max_features=None,\n",
              "                               min_samples_leaf=27, min_samples_split=27,\n",
              "                               n_estimators=135, random_state=42),\n",
              " RandomForestQuantileRegressor(max_depth=30, max_features=None,\n",
              "                               min_samples_leaf=27, min_samples_split=27,\n",
              "                               n_estimators=135, random_state=42),\n",
              " RandomForestQuantileRegressor(max_depth=30, max_features=None,\n",
              "                               min_samples_leaf=27, min_samples_split=27,\n",
              "                               n_estimators=135, random_state=42)]"
            ]
          },
          "execution_count": 16,
          "metadata": {},
          "output_type": "execute_result"
        }
      ],
      "source": [
        "final_models"
      ]
    },
    {
      "cell_type": "markdown",
      "metadata": {},
      "source": [
        "### 3. Predictions computation\n",
        "\n",
        "Evaluation data include a spatio-temporal split and a temporal only split.\n",
        "\n",
        "<img src=\"../images/eval.png\" alt=\"Experiment Diagram\" style=\"width:50%;\" />\n"
      ]
    },
    {
      "cell_type": "code",
      "execution_count": 18,
      "metadata": {},
      "outputs": [
        {
          "name": "stdout",
          "output_type": "stream",
          "text": [
            "qrf\n",
            "model : qrf\n",
            "qrf\n",
            "model : qrf\n",
            "qrf\n",
            "model : qrf\n",
            "qrf\n",
            "model : qrf\n"
          ]
        }
      ],
      "source": [
        "predictions = inference_data[[\"station_code\"]].copy()\n",
        "y_pred_test_quantile = {}\n",
        "y_pred_test = {}\n",
        "X_test = inference_data.drop(columns=[\"station_code\"])\n",
        "for i in range(NUMBER_OF_WEEK):\n",
        "\n",
        "    if FINAL_MODEL == \"qrf\":\n",
        "        # reorder the columns\n",
        "        X_test = X_test[final_models[0].feature_names_in_]\n",
        "\n",
        "    if FINAL_MODEL == \"xgb\":\n",
        "        X_test = (\n",
        "            X_test.drop(columns=[\"north_hemisphere\"])\n",
        "            if \"north_hemisphere\" in X_test.columns\n",
        "            else X_test\n",
        "        )\n",
        "    print(FINAL_MODEL)\n",
        "    predict_adjusted = create_predict_function(final_models, i, FINAL_MODEL)\n",
        "    quantile_adjusted = create_quantile_function(final_models, i, FINAL_MODEL, ALPHA)\n",
        "\n",
        "    y_pred_test[i] = predict_adjusted(X_test)\n",
        "    y_pred_test_quantile[i] = quantile_adjusted(X_test)\n",
        "\n",
        "    if FINAL_MODEL == \"qrf\" and ADJUSTED_BONDS:\n",
        "        print(\"adjusted lower bound\")\n",
        "        y_pred_test_quantile[i][:, 1] *= 1.01  # Réduction de 2%\n",
        "        y_pred_test_quantile[i][:, 0] *= 0.99  # Réduction de 2%\n",
        "\n",
        "for i in range(NUMBER_OF_WEEK):\n",
        "    predictions[f\"week_{i}_pred\"] = y_pred_test[i]\n",
        "    predictions[f\"week_{i}_sup\"] = y_pred_test_quantile[i][:,1]\n",
        "    predictions[f\"week_{i}_inf\"] = y_pred_test_quantile[i][:,0]\n"
      ]
    },
    {
      "cell_type": "markdown",
      "metadata": {},
      "source": [
        "### 4. Saving of the predictions\n"
      ]
    },
    {
      "cell_type": "markdown",
      "metadata": {},
      "source": [
        "Saving of the predictions as a csv file\n",
        "\n",
        "> The file must be named `predictions.csv`\n"
      ]
    },
    {
      "cell_type": "code",
      "execution_count": 19,
      "metadata": {},
      "outputs": [],
      "source": [
        "# save the predictions to a csv file\n",
        "predictions[\"ObsDate\"] = X_test.index\n",
        "predictions.to_csv(f\"{PREDS_DIR}predictions.csv\", index=False)"
      ]
    },
    {
      "cell_type": "markdown",
      "metadata": {},
      "source": [
        "Compression of the submission file.\n",
        "\n",
        "> The file need to be compress for Codabench.\n"
      ]
    },
    {
      "cell_type": "code",
      "execution_count": 20,
      "metadata": {},
      "outputs": [],
      "source": [
        "# Create a ZIP file containing predictions.csv\n",
        "with zipfile.ZipFile(f\"{PREDS_DIR}predictions.zip\", \"w\", zipfile.ZIP_DEFLATED) as zipf:\n",
        "    zipf.write(f\"{PREDS_DIR}predictions.csv\", \"predictions.csv\")"
      ]
    },
    {
      "cell_type": "markdown",
      "metadata": {},
      "source": [
        "You are ready to submit go to codabench and submit the zip file that have been generated in My Submissions > Phase 1.\n",
        "\n",
        "You don't have to use this notebook to submit but the file file format must includes the following columns:\n",
        "\n",
        "- station_code: Identification code of the station.\n",
        "- ObsDate: Date of the prediction.\n",
        "- for every week of prediction i from 0 to 3 :\n",
        "  - week_i_pred\n",
        "  - week_i_inf\n",
        "  - week_i_sup\n",
        "\n",
        "Save the dataset as a CSV file named predictions.csv.\n",
        "\n",
        "> The file must be named predictions.csv, but the .zip file can have any name.\n",
        "\n",
        "Compress the CSV file into a .zip archive.\n",
        "\n",
        "> You cannot submit an uncompressed file. Ensure that the software you use does not create a subfolder inside the archive.\n",
        "\n",
        "Submit your file in [Codabench](https://www.codabench.org/competitions/4335):\n",
        "\n",
        "> My Submissions > Phase 1 (keep all the tasks selected):\n",
        "\n",
        "<img src=\"../images/submissions.png\" alt=\"Experiment Diagram\" style=\"width:75%;\" style=\"text-align:center;\" />\n"
      ]
    }
  ],
  "metadata": {
    "kernelspec": {
      "display_name": ".venv",
      "language": "python",
      "name": "python3"
    },
    "language_info": {
      "codemirror_mode": {
        "name": "ipython",
        "version": 3
      },
      "file_extension": ".py",
      "mimetype": "text/x-python",
      "name": "python",
      "nbconvert_exporter": "python",
      "pygments_lexer": "ipython3",
      "version": "3.12.2"
    }
  },
  "nbformat": 4,
  "nbformat_minor": 2
}
