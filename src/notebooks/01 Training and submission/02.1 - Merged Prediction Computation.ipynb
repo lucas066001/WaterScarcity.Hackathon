{
  "cells": [
    {
      "cell_type": "markdown",
      "metadata": {},
      "source": [
        "## Objective: Final Prediction Computation\n",
        "\n",
        "This notebook generates the final model predictions and formats them for submission on Codabench.\n",
        "\n",
        "The evaluation dataset comprises data from 39 stations included in the training set and 13 stations exclusive to the evaluation set.\n",
        "\n",
        "<img src=\"../images/notebook-4.png\" alt=\"Experiment Diagram\" style=\"width:75%;\" style=\"text-align:center;\" />\n",
        "\n",
        "### 1. Imports\n",
        "\n",
        "Starts by importing the necessary libraries, configuring environment paths, and loading custom utility functions.\n"
      ]
    },
    {
      "cell_type": "code",
      "execution_count": 23,
      "metadata": {},
      "outputs": [],
      "source": [
        "import sys\n",
        "import pandas as pd\n",
        "import os\n",
        "import zipfile\n",
        "\n",
        "import joblib\n",
        "import pandas as pd\n",
        "\n",
        "sys.path.append(os.path.abspath(os.path.join(os.getcwd(), \"..\", \"..\", \"..\")))\n",
        "\n",
        "from src.utils.model import load_models_auto\n",
        "from src.utils.analysis import create_predict_function, create_quantile_function\n",
        "from src.utils.model import load_models_auto\n",
        "from src.utils.model import XGBQuantileRegressor, XGBQRFModel, XGBQRF_SimpleModel"
      ]
    },
    {
      "cell_type": "markdown",
      "metadata": {},
      "source": [
        "Defines constants :\n",
        "\n",
        "- _DATASET_DIR_ must be the directory where you unzip the _zenodo_ dataset.\n",
        "- _EVAL_DIR_ will be used to store inference / evaluation data it must be the same as the one defined in _01 Training > 01 - Modelisation_\n",
        "- _FINAL_MODEL_ will be used to store inference / evaluation data\n",
        "\n",
        "FINAL_MODEL describe the model that will be loaded if you use auto-loading\n"
      ]
    },
    {
      "cell_type": "code",
      "execution_count": 24,
      "metadata": {},
      "outputs": [
        {
          "name": "stdout",
          "output_type": "stream",
          "text": [
            "PREDS_DIR: ../../../data/evaluation/custom_dataset_4/qrf/\n"
          ]
        }
      ],
      "source": [
        "ALPHA = 0.1\n",
        "NUMBER_OF_WEEK = 4\n",
        "USE_AUTO_SCAN = True  # Toggle this to switch between the loading of the last model of the manual load of a specific model\n",
        "FINAL_MODEL = \"qrf\"\n",
        "DATASET_TRANSFORMS = [\n",
        "    \"rm_gnv_st\",\n",
        "    \"pca\",\n",
        "    \"snow_index\",\n",
        "    # \"oh_enc_date\",\n",
        "    \"cyc_enc_date\",\n",
        "    \"clust_index\",\n",
        "    \"scl_feat\",\n",
        "    # \"scl_feat_wl\",  # Scale all except waterflow lag\n",
        "    \"scl_catch\",\n",
        "]\n",
        "\n",
        "PCA_THRESHOLD = 0.98\n",
        "N_CLUSTER = 10\n",
        "\n",
        "DATASET_SPEC = \"_\".join(DATASET_TRANSFORMS)\n",
        "DATASET_SPEC = \"custom_dataset_4\"\n",
        "\n",
        "if \"pca\" in DATASET_TRANSFORMS:\n",
        "    DATASET_SPEC += f\"_pct_{PCA_THRESHOLD}\"\n",
        "\n",
        "if \"clust_index\" in DATASET_TRANSFORMS:\n",
        "    DATASET_SPEC += f\"_geocl_{N_CLUSTER}\"\n",
        "\n",
        "if \"clust_hydro\" in DATASET_TRANSFORMS:\n",
        "    DATASET_SPEC += f\"_hydcl_{N_CLUSTER}\"\n",
        "\n",
        "DATASET_SPEC = \"custom_dataset_4\"\n",
        "\n",
        "ADJUSTED_BONDS = False\n",
        "\n",
        "EVAL_DIR = \"../../../data/evaluation/\"\n",
        "EVAL_DIR_MINI = \"../../../data/evaluation_mini/\"\n",
        "MODEL_DIR = f\"../../../models/{DATASET_SPEC}/\"\n",
        "\n",
        "PREDS_DIR = f\"{EVAL_DIR}{DATASET_SPEC}/{FINAL_MODEL}/\"\n",
        "COMPUTE_MINICHALLENGE = True\n",
        "\n",
        "print(f\"PREDS_DIR: {PREDS_DIR}\")\n",
        "os.makedirs(PREDS_DIR, exist_ok=True)"
      ]
    },
    {
      "cell_type": "markdown",
      "metadata": {},
      "source": [
        "### 2. Data and models Loading\n",
        "\n",
        "Loading of the inference dataset.\n"
      ]
    },
    {
      "cell_type": "code",
      "execution_count": null,
      "metadata": {},
      "outputs": [
        {
          "ename": "FileNotFoundError",
          "evalue": "[Errno 2] No such file or directory: '../../../data/evaluation_mini/dataset_baseline.csv'",
          "output_type": "error",
          "traceback": [
            "\u001b[31m---------------------------------------------------------------------------\u001b[39m",
            "\u001b[31mFileNotFoundError\u001b[39m                         Traceback (most recent call last)",
            "\u001b[36mCell\u001b[39m\u001b[36m \u001b[39m\u001b[32mIn[25]\u001b[39m\u001b[32m, line 6\u001b[39m\n\u001b[32m      3\u001b[39m inference_data = inference_data.set_index(\u001b[33m\"\u001b[39m\u001b[33mObsDate\u001b[39m\u001b[33m\"\u001b[39m)\n\u001b[32m      5\u001b[39m \u001b[38;5;28;01mif\u001b[39;00m COMPUTE_MINICHALLENGE:\n\u001b[32m----> \u001b[39m\u001b[32m6\u001b[39m     inference_data_mini = \u001b[43mpd\u001b[49m\u001b[43m.\u001b[49m\u001b[43mread_csv\u001b[49m\u001b[43m(\u001b[49m\u001b[33;43mf\u001b[39;49m\u001b[33;43m\"\u001b[39;49m\u001b[38;5;132;43;01m{\u001b[39;49;00m\u001b[43mEVAL_DIR_MINI\u001b[49m\u001b[38;5;132;43;01m}\u001b[39;49;00m\u001b[33;43mdataset_baseline.csv\u001b[39;49m\u001b[33;43m\"\u001b[39;49m\u001b[43m)\u001b[49m\n\u001b[32m      7\u001b[39m     inference_data_mini = inference_data_mini.set_index(\u001b[33m\"\u001b[39m\u001b[33mObsDate\u001b[39m\u001b[33m\"\u001b[39m)\n\u001b[32m      8\u001b[39m     inference_data = pd.concat([inference_data, inference_data_mini], axis=\u001b[32m0\u001b[39m)\n",
            "\u001b[36mFile \u001b[39m\u001b[32mc:\\Users\\chapu\\E.Lucas\\Perso\\Github\\WaterScarcity.Hackathon\\.venv\\Lib\\site-packages\\pandas\\io\\parsers\\readers.py:1026\u001b[39m, in \u001b[36mread_csv\u001b[39m\u001b[34m(filepath_or_buffer, sep, delimiter, header, names, index_col, usecols, dtype, engine, converters, true_values, false_values, skipinitialspace, skiprows, skipfooter, nrows, na_values, keep_default_na, na_filter, verbose, skip_blank_lines, parse_dates, infer_datetime_format, keep_date_col, date_parser, date_format, dayfirst, cache_dates, iterator, chunksize, compression, thousands, decimal, lineterminator, quotechar, quoting, doublequote, escapechar, comment, encoding, encoding_errors, dialect, on_bad_lines, delim_whitespace, low_memory, memory_map, float_precision, storage_options, dtype_backend)\u001b[39m\n\u001b[32m   1013\u001b[39m kwds_defaults = _refine_defaults_read(\n\u001b[32m   1014\u001b[39m     dialect,\n\u001b[32m   1015\u001b[39m     delimiter,\n\u001b[32m   (...)\u001b[39m\u001b[32m   1022\u001b[39m     dtype_backend=dtype_backend,\n\u001b[32m   1023\u001b[39m )\n\u001b[32m   1024\u001b[39m kwds.update(kwds_defaults)\n\u001b[32m-> \u001b[39m\u001b[32m1026\u001b[39m \u001b[38;5;28;01mreturn\u001b[39;00m \u001b[43m_read\u001b[49m\u001b[43m(\u001b[49m\u001b[43mfilepath_or_buffer\u001b[49m\u001b[43m,\u001b[49m\u001b[43m \u001b[49m\u001b[43mkwds\u001b[49m\u001b[43m)\u001b[49m\n",
            "\u001b[36mFile \u001b[39m\u001b[32mc:\\Users\\chapu\\E.Lucas\\Perso\\Github\\WaterScarcity.Hackathon\\.venv\\Lib\\site-packages\\pandas\\io\\parsers\\readers.py:620\u001b[39m, in \u001b[36m_read\u001b[39m\u001b[34m(filepath_or_buffer, kwds)\u001b[39m\n\u001b[32m    617\u001b[39m _validate_names(kwds.get(\u001b[33m\"\u001b[39m\u001b[33mnames\u001b[39m\u001b[33m\"\u001b[39m, \u001b[38;5;28;01mNone\u001b[39;00m))\n\u001b[32m    619\u001b[39m \u001b[38;5;66;03m# Create the parser.\u001b[39;00m\n\u001b[32m--> \u001b[39m\u001b[32m620\u001b[39m parser = \u001b[43mTextFileReader\u001b[49m\u001b[43m(\u001b[49m\u001b[43mfilepath_or_buffer\u001b[49m\u001b[43m,\u001b[49m\u001b[43m \u001b[49m\u001b[43m*\u001b[49m\u001b[43m*\u001b[49m\u001b[43mkwds\u001b[49m\u001b[43m)\u001b[49m\n\u001b[32m    622\u001b[39m \u001b[38;5;28;01mif\u001b[39;00m chunksize \u001b[38;5;129;01mor\u001b[39;00m iterator:\n\u001b[32m    623\u001b[39m     \u001b[38;5;28;01mreturn\u001b[39;00m parser\n",
            "\u001b[36mFile \u001b[39m\u001b[32mc:\\Users\\chapu\\E.Lucas\\Perso\\Github\\WaterScarcity.Hackathon\\.venv\\Lib\\site-packages\\pandas\\io\\parsers\\readers.py:1620\u001b[39m, in \u001b[36mTextFileReader.__init__\u001b[39m\u001b[34m(self, f, engine, **kwds)\u001b[39m\n\u001b[32m   1617\u001b[39m     \u001b[38;5;28mself\u001b[39m.options[\u001b[33m\"\u001b[39m\u001b[33mhas_index_names\u001b[39m\u001b[33m\"\u001b[39m] = kwds[\u001b[33m\"\u001b[39m\u001b[33mhas_index_names\u001b[39m\u001b[33m\"\u001b[39m]\n\u001b[32m   1619\u001b[39m \u001b[38;5;28mself\u001b[39m.handles: IOHandles | \u001b[38;5;28;01mNone\u001b[39;00m = \u001b[38;5;28;01mNone\u001b[39;00m\n\u001b[32m-> \u001b[39m\u001b[32m1620\u001b[39m \u001b[38;5;28mself\u001b[39m._engine = \u001b[38;5;28;43mself\u001b[39;49m\u001b[43m.\u001b[49m\u001b[43m_make_engine\u001b[49m\u001b[43m(\u001b[49m\u001b[43mf\u001b[49m\u001b[43m,\u001b[49m\u001b[43m \u001b[49m\u001b[38;5;28;43mself\u001b[39;49m\u001b[43m.\u001b[49m\u001b[43mengine\u001b[49m\u001b[43m)\u001b[49m\n",
            "\u001b[36mFile \u001b[39m\u001b[32mc:\\Users\\chapu\\E.Lucas\\Perso\\Github\\WaterScarcity.Hackathon\\.venv\\Lib\\site-packages\\pandas\\io\\parsers\\readers.py:1880\u001b[39m, in \u001b[36mTextFileReader._make_engine\u001b[39m\u001b[34m(self, f, engine)\u001b[39m\n\u001b[32m   1878\u001b[39m     \u001b[38;5;28;01mif\u001b[39;00m \u001b[33m\"\u001b[39m\u001b[33mb\u001b[39m\u001b[33m\"\u001b[39m \u001b[38;5;129;01mnot\u001b[39;00m \u001b[38;5;129;01min\u001b[39;00m mode:\n\u001b[32m   1879\u001b[39m         mode += \u001b[33m\"\u001b[39m\u001b[33mb\u001b[39m\u001b[33m\"\u001b[39m\n\u001b[32m-> \u001b[39m\u001b[32m1880\u001b[39m \u001b[38;5;28mself\u001b[39m.handles = \u001b[43mget_handle\u001b[49m\u001b[43m(\u001b[49m\n\u001b[32m   1881\u001b[39m \u001b[43m    \u001b[49m\u001b[43mf\u001b[49m\u001b[43m,\u001b[49m\n\u001b[32m   1882\u001b[39m \u001b[43m    \u001b[49m\u001b[43mmode\u001b[49m\u001b[43m,\u001b[49m\n\u001b[32m   1883\u001b[39m \u001b[43m    \u001b[49m\u001b[43mencoding\u001b[49m\u001b[43m=\u001b[49m\u001b[38;5;28;43mself\u001b[39;49m\u001b[43m.\u001b[49m\u001b[43moptions\u001b[49m\u001b[43m.\u001b[49m\u001b[43mget\u001b[49m\u001b[43m(\u001b[49m\u001b[33;43m\"\u001b[39;49m\u001b[33;43mencoding\u001b[39;49m\u001b[33;43m\"\u001b[39;49m\u001b[43m,\u001b[49m\u001b[43m \u001b[49m\u001b[38;5;28;43;01mNone\u001b[39;49;00m\u001b[43m)\u001b[49m\u001b[43m,\u001b[49m\n\u001b[32m   1884\u001b[39m \u001b[43m    \u001b[49m\u001b[43mcompression\u001b[49m\u001b[43m=\u001b[49m\u001b[38;5;28;43mself\u001b[39;49m\u001b[43m.\u001b[49m\u001b[43moptions\u001b[49m\u001b[43m.\u001b[49m\u001b[43mget\u001b[49m\u001b[43m(\u001b[49m\u001b[33;43m\"\u001b[39;49m\u001b[33;43mcompression\u001b[39;49m\u001b[33;43m\"\u001b[39;49m\u001b[43m,\u001b[49m\u001b[43m \u001b[49m\u001b[38;5;28;43;01mNone\u001b[39;49;00m\u001b[43m)\u001b[49m\u001b[43m,\u001b[49m\n\u001b[32m   1885\u001b[39m \u001b[43m    \u001b[49m\u001b[43mmemory_map\u001b[49m\u001b[43m=\u001b[49m\u001b[38;5;28;43mself\u001b[39;49m\u001b[43m.\u001b[49m\u001b[43moptions\u001b[49m\u001b[43m.\u001b[49m\u001b[43mget\u001b[49m\u001b[43m(\u001b[49m\u001b[33;43m\"\u001b[39;49m\u001b[33;43mmemory_map\u001b[39;49m\u001b[33;43m\"\u001b[39;49m\u001b[43m,\u001b[49m\u001b[43m \u001b[49m\u001b[38;5;28;43;01mFalse\u001b[39;49;00m\u001b[43m)\u001b[49m\u001b[43m,\u001b[49m\n\u001b[32m   1886\u001b[39m \u001b[43m    \u001b[49m\u001b[43mis_text\u001b[49m\u001b[43m=\u001b[49m\u001b[43mis_text\u001b[49m\u001b[43m,\u001b[49m\n\u001b[32m   1887\u001b[39m \u001b[43m    \u001b[49m\u001b[43merrors\u001b[49m\u001b[43m=\u001b[49m\u001b[38;5;28;43mself\u001b[39;49m\u001b[43m.\u001b[49m\u001b[43moptions\u001b[49m\u001b[43m.\u001b[49m\u001b[43mget\u001b[49m\u001b[43m(\u001b[49m\u001b[33;43m\"\u001b[39;49m\u001b[33;43mencoding_errors\u001b[39;49m\u001b[33;43m\"\u001b[39;49m\u001b[43m,\u001b[49m\u001b[43m \u001b[49m\u001b[33;43m\"\u001b[39;49m\u001b[33;43mstrict\u001b[39;49m\u001b[33;43m\"\u001b[39;49m\u001b[43m)\u001b[49m\u001b[43m,\u001b[49m\n\u001b[32m   1888\u001b[39m \u001b[43m    \u001b[49m\u001b[43mstorage_options\u001b[49m\u001b[43m=\u001b[49m\u001b[38;5;28;43mself\u001b[39;49m\u001b[43m.\u001b[49m\u001b[43moptions\u001b[49m\u001b[43m.\u001b[49m\u001b[43mget\u001b[49m\u001b[43m(\u001b[49m\u001b[33;43m\"\u001b[39;49m\u001b[33;43mstorage_options\u001b[39;49m\u001b[33;43m\"\u001b[39;49m\u001b[43m,\u001b[49m\u001b[43m \u001b[49m\u001b[38;5;28;43;01mNone\u001b[39;49;00m\u001b[43m)\u001b[49m\u001b[43m,\u001b[49m\n\u001b[32m   1889\u001b[39m \u001b[43m\u001b[49m\u001b[43m)\u001b[49m\n\u001b[32m   1890\u001b[39m \u001b[38;5;28;01massert\u001b[39;00m \u001b[38;5;28mself\u001b[39m.handles \u001b[38;5;129;01mis\u001b[39;00m \u001b[38;5;129;01mnot\u001b[39;00m \u001b[38;5;28;01mNone\u001b[39;00m\n\u001b[32m   1891\u001b[39m f = \u001b[38;5;28mself\u001b[39m.handles.handle\n",
            "\u001b[36mFile \u001b[39m\u001b[32mc:\\Users\\chapu\\E.Lucas\\Perso\\Github\\WaterScarcity.Hackathon\\.venv\\Lib\\site-packages\\pandas\\io\\common.py:873\u001b[39m, in \u001b[36mget_handle\u001b[39m\u001b[34m(path_or_buf, mode, encoding, compression, memory_map, is_text, errors, storage_options)\u001b[39m\n\u001b[32m    868\u001b[39m \u001b[38;5;28;01melif\u001b[39;00m \u001b[38;5;28misinstance\u001b[39m(handle, \u001b[38;5;28mstr\u001b[39m):\n\u001b[32m    869\u001b[39m     \u001b[38;5;66;03m# Check whether the filename is to be opened in binary mode.\u001b[39;00m\n\u001b[32m    870\u001b[39m     \u001b[38;5;66;03m# Binary mode does not support 'encoding' and 'newline'.\u001b[39;00m\n\u001b[32m    871\u001b[39m     \u001b[38;5;28;01mif\u001b[39;00m ioargs.encoding \u001b[38;5;129;01mand\u001b[39;00m \u001b[33m\"\u001b[39m\u001b[33mb\u001b[39m\u001b[33m\"\u001b[39m \u001b[38;5;129;01mnot\u001b[39;00m \u001b[38;5;129;01min\u001b[39;00m ioargs.mode:\n\u001b[32m    872\u001b[39m         \u001b[38;5;66;03m# Encoding\u001b[39;00m\n\u001b[32m--> \u001b[39m\u001b[32m873\u001b[39m         handle = \u001b[38;5;28;43mopen\u001b[39;49m\u001b[43m(\u001b[49m\n\u001b[32m    874\u001b[39m \u001b[43m            \u001b[49m\u001b[43mhandle\u001b[49m\u001b[43m,\u001b[49m\n\u001b[32m    875\u001b[39m \u001b[43m            \u001b[49m\u001b[43mioargs\u001b[49m\u001b[43m.\u001b[49m\u001b[43mmode\u001b[49m\u001b[43m,\u001b[49m\n\u001b[32m    876\u001b[39m \u001b[43m            \u001b[49m\u001b[43mencoding\u001b[49m\u001b[43m=\u001b[49m\u001b[43mioargs\u001b[49m\u001b[43m.\u001b[49m\u001b[43mencoding\u001b[49m\u001b[43m,\u001b[49m\n\u001b[32m    877\u001b[39m \u001b[43m            \u001b[49m\u001b[43merrors\u001b[49m\u001b[43m=\u001b[49m\u001b[43merrors\u001b[49m\u001b[43m,\u001b[49m\n\u001b[32m    878\u001b[39m \u001b[43m            \u001b[49m\u001b[43mnewline\u001b[49m\u001b[43m=\u001b[49m\u001b[33;43m\"\u001b[39;49m\u001b[33;43m\"\u001b[39;49m\u001b[43m,\u001b[49m\n\u001b[32m    879\u001b[39m \u001b[43m        \u001b[49m\u001b[43m)\u001b[49m\n\u001b[32m    880\u001b[39m     \u001b[38;5;28;01melse\u001b[39;00m:\n\u001b[32m    881\u001b[39m         \u001b[38;5;66;03m# Binary mode\u001b[39;00m\n\u001b[32m    882\u001b[39m         handle = \u001b[38;5;28mopen\u001b[39m(handle, ioargs.mode)\n",
            "\u001b[31mFileNotFoundError\u001b[39m: [Errno 2] No such file or directory: '../../../data/evaluation_mini/dataset_baseline.csv'"
          ]
        }
      ],
      "source": [
        "# load the dataset\n",
        "inference_data = pd.read_csv(f\"{EVAL_DIR}{DATASET_SPEC}.csv\")\n",
        "inference_data = inference_data.set_index(\"ObsDate\")\n",
        "\n",
        "if COMPUTE_MINICHALLENGE:\n",
        "    inference_data_mini = pd.read_csv(f\"{EVAL_DIR_MINI}{DATASET_SPEC}.csv\")\n",
        "    inference_data_mini = inference_data_mini.set_index(\"ObsDate\")\n",
        "    inference_data = pd.concat([inference_data, inference_data_mini], axis=0)"
      ]
    },
    {
      "cell_type": "code",
      "execution_count": null,
      "metadata": {},
      "outputs": [
        {
          "data": {
            "text/plain": [
              "(1352, 36)"
            ]
          },
          "execution_count": 15,
          "metadata": {},
          "output_type": "execute_result"
        }
      ],
      "source": [
        "inference_data.shape"
      ]
    },
    {
      "cell_type": "markdown",
      "metadata": {},
      "source": [
        "Loading of the final models.\n"
      ]
    },
    {
      "cell_type": "code",
      "execution_count": null,
      "metadata": {},
      "outputs": [],
      "source": [
        "# Load models based on conditions\n",
        "final_models = []\n",
        "if FINAL_MODEL == \"mapie\":\n",
        "    if USE_AUTO_SCAN:\n",
        "        final_models = load_models_auto(\"mapie_quantile\", f\"{MODEL_DIR}final/\")\n",
        "    else:\n",
        "        final_models.append(\n",
        "            joblib.load(\n",
        "                f\"{MODEL_DIR}final/mapie_quantile_2025-01-17_15-15-04_week0.pkl\"\n",
        "            )\n",
        "        )\n",
        "        final_models.append(\n",
        "            joblib.load(\n",
        "                f\"{MODEL_DIR}final/mapie_quantile_2025-01-17_15-15-11_week1.pkl\"\n",
        "            )\n",
        "        )\n",
        "        final_models.append(\n",
        "            joblib.load(\n",
        "                f\"{MODEL_DIR}final/mapie_quantile_2025-01-17_15-15-17_week2.pkl\"\n",
        "            )\n",
        "        )\n",
        "        final_models.append(\n",
        "            joblib.load(\n",
        "                f\"{MODEL_DIR}final/mapie_quantile_2025-01-17_15-15-17_week3.pkl\"\n",
        "            )\n",
        "        )\n",
        "elif FINAL_MODEL == \"qrf\":\n",
        "\n",
        "    if USE_AUTO_SCAN:\n",
        "        final_models = load_models_auto(\"qrf_quantile\", f\"{MODEL_DIR}final/\")\n",
        "    else:\n",
        "        final_models.append(\n",
        "            joblib.load(f\"{MODEL_DIR}final/qrf_quantile_2025-01-17_15-15-04_week0.pkl\")\n",
        "        )\n",
        "        final_models.append(\n",
        "            joblib.load(f\"{MODEL_DIR}final/qrf_quantile_2025-01-17_15-15-11_week1.pkl\")\n",
        "        )\n",
        "        final_models.append(\n",
        "            joblib.load(f\"{MODEL_DIR}final/qrf_quantile_2025-01-17_15-15-17_week2.pkl\")\n",
        "        )\n",
        "        final_models.append(\n",
        "            joblib.load(f\"{MODEL_DIR}final/qrf_quantile_2025-01-17_15-15-17_week3.pkl\")\n",
        "        )\n",
        "elif FINAL_MODEL == \"gpr\":\n",
        "    selected_kernel = [\n",
        "        \"rbf\",\n",
        "        # \"\",\n",
        "        # \"\",\n",
        "    ]\n",
        "    if USE_AUTO_SCAN:\n",
        "        final_models = load_models_auto(\n",
        "            f\"gpr_quantile_{\"\".join(selected_kernel)}\", f\"{MODEL_DIR}final/\"\n",
        "        )\n",
        "    else:\n",
        "        final_models.append(\n",
        "            joblib.load(f\"{MODEL_DIR}final/qrf_quantile_2025-01-17_15-15-04_week0.pkl\")\n",
        "        )\n",
        "        final_models.append(\n",
        "            joblib.load(f\"{MODEL_DIR}final/qrf_quantile_2025-01-17_15-15-11_week1.pkl\")\n",
        "        )\n",
        "        final_models.append(\n",
        "            joblib.load(f\"{MODEL_DIR}final/qrf_quantile_2025-01-17_15-15-17_week2.pkl\")\n",
        "        )\n",
        "        final_models.append(\n",
        "            joblib.load(f\"{MODEL_DIR}final/qrf_quantile_2025-01-17_15-15-17_week3.pkl\")\n",
        "        )\n",
        "\n",
        "elif FINAL_MODEL == \"gbr\":\n",
        "\n",
        "    if USE_AUTO_SCAN:\n",
        "        final_models = load_models_auto(\"gbr_quantile\", f\"{MODEL_DIR}final/\")\n",
        "    else:\n",
        "        final_models.append(\n",
        "            joblib.load(f\"{MODEL_DIR}final/qrf_quantile_2025-01-17_15-15-04_week0.pkl\")\n",
        "        )\n",
        "        final_models.append(\n",
        "            joblib.load(f\"{MODEL_DIR}final/qrf_quantile_2025-01-17_15-15-11_week1.pkl\")\n",
        "        )\n",
        "        final_models.append(\n",
        "            joblib.load(f\"{MODEL_DIR}final/qrf_quantile_2025-01-17_15-15-17_week2.pkl\")\n",
        "        )\n",
        "        final_models.append(\n",
        "            joblib.load(f\"{MODEL_DIR}final/qrf_quantile_2025-01-17_15-15-17_week3.pkl\")\n",
        "        )\n",
        "elif FINAL_MODEL == \"qrf_voting\":\n",
        "\n",
        "    if USE_AUTO_SCAN:\n",
        "        final_models = load_models_auto(\"qrf_voting_quantile\", f\"{MODEL_DIR}final/\")\n",
        "    else:\n",
        "        final_models.append(\n",
        "            joblib.load(f\"{MODEL_DIR}final/qrf_quantile_2025-01-17_15-15-04_week0.pkl\")\n",
        "        )\n",
        "        final_models.append(\n",
        "            joblib.load(f\"{MODEL_DIR}final/qrf_quantile_2025-01-17_15-15-11_week1.pkl\")\n",
        "        )\n",
        "        final_models.append(\n",
        "            joblib.load(f\"{MODEL_DIR}final/qrf_quantile_2025-01-17_15-15-17_week2.pkl\")\n",
        "        )\n",
        "        final_models.append(\n",
        "            joblib.load(f\"{MODEL_DIR}final/qrf_quantile_2025-01-17_15-15-17_week3.pkl\")\n",
        "        )\n",
        "elif FINAL_MODEL == \"qrf_bagging\":\n",
        "\n",
        "    if USE_AUTO_SCAN:\n",
        "        final_models = load_models_auto(\"qrf_bagging_quantile\", f\"{MODEL_DIR}final/\")\n",
        "    else:\n",
        "        final_models.append(\n",
        "            joblib.load(f\"{MODEL_DIR}final/qrf_quantile_2025-01-17_15-15-04_week0.pkl\")\n",
        "        )\n",
        "        final_models.append(\n",
        "            joblib.load(f\"{MODEL_DIR}final/qrf_quantile_2025-01-17_15-15-11_week1.pkl\")\n",
        "        )\n",
        "        final_models.append(\n",
        "            joblib.load(f\"{MODEL_DIR}final/qrf_quantile_2025-01-17_15-15-17_week2.pkl\")\n",
        "        )\n",
        "        final_models.append(\n",
        "            joblib.load(f\"{MODEL_DIR}final/qrf_quantile_2025-01-17_15-15-17_week3.pkl\")\n",
        "        )\n",
        "elif FINAL_MODEL == \"lgbm\":\n",
        "\n",
        "    if USE_AUTO_SCAN:\n",
        "        models_low = load_models_auto(\"lgbm_quantile_q0.05\", f\"{MODEL_DIR}final/\")\n",
        "        models_med = load_models_auto(\"lgbm_quantile_q0.5\", f\"{MODEL_DIR}final/\")\n",
        "        models_high = load_models_auto(\"lgbm_quantile_q0.95\", f\"{MODEL_DIR}final/\")\n",
        "        final_models = [[] for _ in range(NUMBER_OF_WEEK)]\n",
        "        final_models[0] = [models_low[0], models_med[0], models_high[0]]\n",
        "        final_models[1] = [models_low[1], models_med[1], models_high[1]]\n",
        "        final_models[2] = [models_low[2], models_med[2], models_high[2]]\n",
        "        final_models[3] = [models_low[3], models_med[3], models_high[3]]\n",
        "    else:\n",
        "        final_models.append(\n",
        "            joblib.load(f\"{MODEL_DIR}final/qrf_quantile_2025-01-17_15-15-04_week0.pkl\")\n",
        "        )\n",
        "        final_models.append(\n",
        "            joblib.load(f\"{MODEL_DIR}final/qrf_quantile_2025-01-17_15-15-11_week1.pkl\")\n",
        "        )\n",
        "        final_models.append(\n",
        "            joblib.load(f\"{MODEL_DIR}final/qrf_quantile_2025-01-17_15-15-17_week2.pkl\")\n",
        "        )\n",
        "        final_models.append(\n",
        "            joblib.load(f\"{MODEL_DIR}final/qrf_quantile_2025-01-17_15-15-17_week3.pkl\")\n",
        "        )\n",
        "elif FINAL_MODEL == \"ebm_ensemble\":\n",
        "    print(\"Loading EBM Ensemble\")\n",
        "    if USE_AUTO_SCAN:\n",
        "        final_models = load_models_auto(\"ebm_ensemble\", f\"{MODEL_DIR}final/\")\n",
        "    else:\n",
        "        final_models.append(\n",
        "            joblib.load(f\"{MODEL_DIR}final/ebm_ensemble_2025-01-17_15-15-04_week0.pkl\")\n",
        "        )\n",
        "        final_models.append(\n",
        "            joblib.load(f\"{MODEL_DIR}final/ebm_ensemble_2025-01-17_15-15-11_week1.pkl\")\n",
        "        )\n",
        "        final_models.append(\n",
        "            joblib.load(f\"{MODEL_DIR}final/ebm_ensemble_2025-01-17_15-15-17_week2.pkl\")\n",
        "        )\n",
        "        final_models.append(\n",
        "            joblib.load(f\"{MODEL_DIR}final/ebm_ensemble_2025-01-17_15-15-17_week3.pkl\")\n",
        "        )\n",
        "elif FINAL_MODEL == \"deep_ensemble\":\n",
        "    if USE_AUTO_SCAN:\n",
        "        final_models = load_models_auto(\"deep_ensemble\", f\"{MODEL_DIR}final/\")\n",
        "    else:\n",
        "        final_models.append(\n",
        "            joblib.load(f\"{MODEL_DIR}final/deep_ensemble_2025-01-17_15-15-04_week0.pkl\")\n",
        "        )\n",
        "        final_models.append(\n",
        "            joblib.load(f\"{MODEL_DIR}final/deep_ensemble_2025-01-17_15-15-11_week1.pkl\")\n",
        "        )\n",
        "        final_models.append(\n",
        "            joblib.load(f\"{MODEL_DIR}final/deep_ensemble_2025-01-17_15-15-17_week2.pkl\")\n",
        "        )\n",
        "        final_models.append(\n",
        "            joblib.load(f\"{MODEL_DIR}final/deep_ensemble_2025-01-17_15-15-17_week3.pkl\")\n",
        "        )\n",
        "elif FINAL_MODEL == \"xgb\":\n",
        "    if USE_AUTO_SCAN:\n",
        "        final_models = load_models_auto(\"xgb\", f\"{MODEL_DIR}final/\")\n",
        "elif FINAL_MODEL == \"xgb_qrf\":\n",
        "    if USE_AUTO_SCAN:\n",
        "        final_models = load_models_auto(\"xgb_qrf\", f\"{MODEL_DIR}final/\")"
      ]
    },
    {
      "cell_type": "code",
      "execution_count": null,
      "metadata": {},
      "outputs": [
        {
          "data": {
            "text/plain": [
              "[RandomForestQuantileRegressor(max_depth=40, max_features=None,\n",
              "                               min_samples_leaf=23, min_samples_split=11,\n",
              "                               n_estimators=35, random_state=42),\n",
              " RandomForestQuantileRegressor(max_depth=40, max_features=None,\n",
              "                               min_samples_leaf=23, min_samples_split=11,\n",
              "                               n_estimators=35, random_state=42),\n",
              " RandomForestQuantileRegressor(max_depth=40, max_features=None,\n",
              "                               min_samples_leaf=23, min_samples_split=11,\n",
              "                               n_estimators=35, random_state=42),\n",
              " RandomForestQuantileRegressor(max_depth=40, max_features=None,\n",
              "                               min_samples_leaf=23, min_samples_split=11,\n",
              "                               n_estimators=35, random_state=42)]"
            ]
          },
          "execution_count": 17,
          "metadata": {},
          "output_type": "execute_result"
        }
      ],
      "source": [
        "final_models"
      ]
    },
    {
      "cell_type": "markdown",
      "metadata": {},
      "source": [
        "### 3. Predictions computation\n",
        "\n",
        "Evaluation data include a spatio-temporal split and a temporal only split.\n",
        "\n",
        "<img src=\"../images/eval.png\" alt=\"Experiment Diagram\" style=\"width:50%;\" />\n"
      ]
    },
    {
      "cell_type": "code",
      "execution_count": null,
      "metadata": {},
      "outputs": [
        {
          "name": "stdout",
          "output_type": "stream",
          "text": [
            "qrf\n",
            "model : qrf\n",
            "qrf\n",
            "model : qrf\n",
            "qrf\n",
            "model : qrf\n",
            "qrf\n",
            "model : qrf\n"
          ]
        }
      ],
      "source": [
        "predictions = inference_data[[\"station_code\"]].copy()\n",
        "y_pred_test_quantile = {}\n",
        "y_pred_test = {}\n",
        "X_test = inference_data.drop(columns=[\"station_code\"])\n",
        "for i in range(NUMBER_OF_WEEK):\n",
        "\n",
        "    if FINAL_MODEL == \"qrf\":\n",
        "        # reorder the columns\n",
        "        X_test = X_test[final_models[0].feature_names_in_]\n",
        "\n",
        "    # if FINAL_MODEL == \"xgb\":\n",
        "    #     X_test = (\n",
        "    #         X_test.drop(columns=[\"north_hemisphere\"])\n",
        "    #         if \"north_hemisphere\" in X_test.columns\n",
        "    #         else X_test\n",
        "    #     )\n",
        "    print(FINAL_MODEL)\n",
        "    predict_adjusted = create_predict_function(final_models, i, FINAL_MODEL)\n",
        "    quantile_adjusted = create_quantile_function(final_models, i, FINAL_MODEL, ALPHA)\n",
        "\n",
        "    y_pred_test[i] = predict_adjusted(X_test)\n",
        "    y_pred_test_quantile[i] = quantile_adjusted(X_test)\n",
        "\n",
        "    if FINAL_MODEL == \"lgbm\":\n",
        "        y_pred_test_quantile[i][y_pred_test_quantile[i] < 0] = 0\n",
        "        y_pred_test[i][y_pred_test[i] < 0] = 0\n",
        "\n",
        "    if FINAL_MODEL == \"xgb\":\n",
        "        y_pred_test_quantile[i][:, 0] *= 0.98\n",
        "        y_pred_test_quantile[i][:, 1] *= 1.02\n",
        "\n",
        "for i in range(NUMBER_OF_WEEK):\n",
        "    predictions[f\"week_{i}_pred\"] = y_pred_test[i]\n",
        "    predictions[f\"week_{i}_sup\"] = y_pred_test_quantile[i][:, 1]\n",
        "    predictions[f\"week_{i}_inf\"] = y_pred_test_quantile[i][:, 0]"
      ]
    },
    {
      "cell_type": "markdown",
      "metadata": {},
      "source": [
        "### 4. Saving of the predictions\n"
      ]
    },
    {
      "cell_type": "markdown",
      "metadata": {},
      "source": [
        "Saving of the predictions as a csv file\n",
        "\n",
        "> The file must be named `predictions.csv`\n"
      ]
    },
    {
      "cell_type": "code",
      "execution_count": null,
      "metadata": {},
      "outputs": [
        {
          "data": {
            "text/html": [
              "<div>\n",
              "<style scoped>\n",
              "    .dataframe tbody tr th:only-of-type {\n",
              "        vertical-align: middle;\n",
              "    }\n",
              "\n",
              "    .dataframe tbody tr th {\n",
              "        vertical-align: top;\n",
              "    }\n",
              "\n",
              "    .dataframe thead th {\n",
              "        text-align: right;\n",
              "    }\n",
              "</style>\n",
              "<table border=\"1\" class=\"dataframe\">\n",
              "  <thead>\n",
              "    <tr style=\"text-align: right;\">\n",
              "      <th></th>\n",
              "      <th>week_1_inf</th>\n",
              "      <th>week_1_pred</th>\n",
              "      <th>week_1_sup</th>\n",
              "    </tr>\n",
              "    <tr>\n",
              "      <th>ObsDate</th>\n",
              "      <th></th>\n",
              "      <th></th>\n",
              "      <th></th>\n",
              "    </tr>\n",
              "  </thead>\n",
              "  <tbody>\n",
              "    <tr>\n",
              "      <th>2004-02-01</th>\n",
              "      <td>22.295714</td>\n",
              "      <td>35.905286</td>\n",
              "      <td>85.155714</td>\n",
              "    </tr>\n",
              "    <tr>\n",
              "      <th>2004-04-25</th>\n",
              "      <td>9.048571</td>\n",
              "      <td>19.257143</td>\n",
              "      <td>43.428571</td>\n",
              "    </tr>\n",
              "    <tr>\n",
              "      <th>2004-07-18</th>\n",
              "      <td>6.553000</td>\n",
              "      <td>14.042857</td>\n",
              "      <td>71.484286</td>\n",
              "    </tr>\n",
              "    <tr>\n",
              "      <th>2004-10-10</th>\n",
              "      <td>1.517871</td>\n",
              "      <td>4.587143</td>\n",
              "      <td>22.295143</td>\n",
              "    </tr>\n",
              "    <tr>\n",
              "      <th>2005-01-02</th>\n",
              "      <td>9.167714</td>\n",
              "      <td>20.231329</td>\n",
              "      <td>74.172857</td>\n",
              "    </tr>\n",
              "    <tr>\n",
              "      <th>...</th>\n",
              "      <td>...</td>\n",
              "      <td>...</td>\n",
              "      <td>...</td>\n",
              "    </tr>\n",
              "    <tr>\n",
              "      <th>2008-11-30</th>\n",
              "      <td>817.345381</td>\n",
              "      <td>2023.744100</td>\n",
              "      <td>4975.748879</td>\n",
              "    </tr>\n",
              "    <tr>\n",
              "      <th>2009-02-22</th>\n",
              "      <td>556.354914</td>\n",
              "      <td>797.994343</td>\n",
              "      <td>1309.755806</td>\n",
              "    </tr>\n",
              "    <tr>\n",
              "      <th>2009-05-17</th>\n",
              "      <td>482.311256</td>\n",
              "      <td>628.021571</td>\n",
              "      <td>797.327336</td>\n",
              "    </tr>\n",
              "    <tr>\n",
              "      <th>2009-08-09</th>\n",
              "      <td>377.309061</td>\n",
              "      <td>438.854357</td>\n",
              "      <td>560.058217</td>\n",
              "    </tr>\n",
              "    <tr>\n",
              "      <th>2009-11-01</th>\n",
              "      <td>448.655456</td>\n",
              "      <td>901.711800</td>\n",
              "      <td>2388.528436</td>\n",
              "    </tr>\n",
              "  </tbody>\n",
              "</table>\n",
              "<p>1352 rows × 3 columns</p>\n",
              "</div>"
            ],
            "text/plain": [
              "            week_1_inf  week_1_pred   week_1_sup\n",
              "ObsDate                                         \n",
              "2004-02-01   22.295714    35.905286    85.155714\n",
              "2004-04-25    9.048571    19.257143    43.428571\n",
              "2004-07-18    6.553000    14.042857    71.484286\n",
              "2004-10-10    1.517871     4.587143    22.295143\n",
              "2005-01-02    9.167714    20.231329    74.172857\n",
              "...                ...          ...          ...\n",
              "2008-11-30  817.345381  2023.744100  4975.748879\n",
              "2009-02-22  556.354914   797.994343  1309.755806\n",
              "2009-05-17  482.311256   628.021571   797.327336\n",
              "2009-08-09  377.309061   438.854357   560.058217\n",
              "2009-11-01  448.655456   901.711800  2388.528436\n",
              "\n",
              "[1352 rows x 3 columns]"
            ]
          },
          "execution_count": 19,
          "metadata": {},
          "output_type": "execute_result"
        }
      ],
      "source": [
        "predictions[[\"week_1_inf\",\"week_1_pred\", \"week_1_sup\"]]"
      ]
    },
    {
      "cell_type": "code",
      "execution_count": null,
      "metadata": {},
      "outputs": [
        {
          "data": {
            "text/plain": [
              "np.float64(0.014)"
            ]
          },
          "execution_count": 20,
          "metadata": {},
          "output_type": "execute_result"
        }
      ],
      "source": [
        "test = predictions[\"week_1_pred\"] - predictions[\"week_1_inf\"]\n",
        "test.min()"
      ]
    },
    {
      "cell_type": "code",
      "execution_count": null,
      "metadata": {},
      "outputs": [],
      "source": [
        "# save the predictions to a csv file\n",
        "predictions[\"ObsDate\"] = X_test.index\n",
        "predictions.to_csv(f\"{PREDS_DIR}predictions.csv\", index=False)"
      ]
    },
    {
      "cell_type": "markdown",
      "metadata": {},
      "source": [
        "Compression of the submission file.\n",
        "\n",
        "> The file need to be compress for Codabench.\n"
      ]
    },
    {
      "cell_type": "code",
      "execution_count": null,
      "metadata": {},
      "outputs": [],
      "source": [
        "# Create a ZIP file containing predictions.csv\n",
        "with zipfile.ZipFile(f\"{PREDS_DIR}predictions.zip\", \"w\", zipfile.ZIP_DEFLATED) as zipf:\n",
        "    zipf.write(f\"{PREDS_DIR}predictions.csv\", \"predictions.csv\")"
      ]
    },
    {
      "cell_type": "markdown",
      "metadata": {},
      "source": [
        "You are ready to submit go to codabench and submit the zip file that have been generated in My Submissions > Phase 1.\n",
        "\n",
        "You don't have to use this notebook to submit but the file file format must includes the following columns:\n",
        "\n",
        "- station_code: Identification code of the station.\n",
        "- ObsDate: Date of the prediction.\n",
        "- for every week of prediction i from 0 to 3 :\n",
        "  - week_i_pred\n",
        "  - week_i_inf\n",
        "  - week_i_sup\n",
        "\n",
        "Save the dataset as a CSV file named predictions.csv.\n",
        "\n",
        "> The file must be named predictions.csv, but the .zip file can have any name.\n",
        "\n",
        "Compress the CSV file into a .zip archive.\n",
        "\n",
        "> You cannot submit an uncompressed file. Ensure that the software you use does not create a subfolder inside the archive.\n",
        "\n",
        "Submit your file in [Codabench](https://www.codabench.org/competitions/4335):\n",
        "\n",
        "> My Submissions > Phase 1 (keep all the tasks selected):\n",
        "\n",
        "<img src=\"../images/submissions.png\" alt=\"Experiment Diagram\" style=\"width:75%;\" style=\"text-align:center;\" />\n"
      ]
    }
  ],
  "metadata": {
    "kernelspec": {
      "display_name": ".venv",
      "language": "python",
      "name": "python3"
    },
    "language_info": {
      "codemirror_mode": {
        "name": "ipython",
        "version": 3
      },
      "file_extension": ".py",
      "mimetype": "text/x-python",
      "name": "python",
      "nbconvert_exporter": "python",
      "pygments_lexer": "ipython3",
      "version": "3.12.2"
    }
  },
  "nbformat": 4,
  "nbformat_minor": 2
}
