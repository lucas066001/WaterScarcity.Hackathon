{
 "cells": [
  {
   "cell_type": "markdown",
   "metadata": {},
   "source": [
    "## Goals: Training the *Final* Models\n",
    "\n",
    "This notebook trains the model on the full *baseline_dataset* for the final prediction on evaluation data.\n",
    "\n",
    "Here, we train a model designed to generalize across water stations in Brazil and France. However, you are not required to follow this approach and may opt to train separate models for different geographic *regions*.\n",
    "\n",
    "This baseline model training example utilizes all available features, with hyperparameters chosen for quick execution rather than optimization. For hyperparameter tuning and feature selection explorations, refer to the `02_exploration` folder.\n",
    "\n",
    "> **Note:** This notebook requires outputs from the `00 Preprocessing` notebooks.\n",
    "\n",
    "<img src=\"../images/notebook-3.png\" alt=\"Experiment Diagram\" style=\"width:75%; text-align:center;\" />\n",
    "\n",
    "### 1. Data Import and Setup\n",
    "\n",
    "This section imports the necessary libraries, sets up environment paths, and includes custom utility functions."
   ]
  },
  {
   "cell_type": "code",
   "execution_count": 4,
   "metadata": {},
   "outputs": [],
   "source": [
    "import os\n",
    "import sys\n",
    "\n",
    "import joblib\n",
    "import numpy as np\n",
    "import pandas as pd\n",
    "import lightgbm as lgb\n",
    "\n",
    "from sklearn.ensemble import BaggingRegressor, GradientBoostingRegressor\n",
    "from quantile_forest import RandomForestQuantileRegressor\n",
    "from sklearn.gaussian_process import GaussianProcessRegressor\n",
    "from sklearn.gaussian_process.kernels import RBF, DotProduct,ExpSineSquared, WhiteKernel,Matern, ConstantKernel as C\n",
    "from sklearn.model_selection import train_test_split\n",
    "\n",
    "sys.path.append(os.path.abspath(os.path.join(os.getcwd(), '..', '..', '..')))\n",
    "\n",
    "from src.utils.custom_models import VotingRandomForestQuantileRegressor\n",
    "from src.utils.model import split_dataset, compare_models_per_station"
   ]
  },
  {
   "cell_type": "markdown",
   "metadata": {},
   "source": [
    "##### Constants :\n",
    "- **INPUT_DIR**: Directory for input data (same as in \"02 - Feature Engineering\").\n",
    "- **MODEL_DIR**: Directory where trained models are saved.\n",
    "- **DATASET_DIR**: Directory where the Zenodo dataset is unzipped.\n",
    "\n",
    "##### Model Parameters\n",
    "\n",
    "- **SEED**: 42 (for reproducibility)\n",
    "- **NUMBER_OF_WEEK**: 4 (one model is trained per week)\n",
    "\n",
    "##### FINAL_MODELS\n",
    "\n",
    "- **mapie**: Combines LightGBM with MAPIE. **MAPIE** (Model Agnostic Prediction Interval Estimator) computes prediction intervals for any regression model using conformal methods.\n",
    "- **qrf**: Quantile Random Forest (natively produces prediction intervals)\n",
    "- **ebm**: Explainable Boosting Machine is used as a exemple that does not natively implement prediction intervals, but that can be customised to do so."
   ]
  },
  {
   "cell_type": "code",
   "execution_count": 5,
   "metadata": {},
   "outputs": [],
   "source": [
    "INPUT_DIR = \"../../../data/input/\"\n",
    "DATASET_DIR = \"../../../dataset/\"\n",
    "\n",
    "DATASET_TRANSFORMS = [\n",
    "    \"rm_gnv_st\",\n",
    "    \"pca\",\n",
    "    \"snow_index\",\n",
    "    # \"oh_enc_date\",\n",
    "    \"cyc_enc_date\",\n",
    "    \"clust_index\",\n",
    "    \"clust_hydro\",\n",
    "    # \"scl_feat\",\n",
    "    \"scl_feat_wl\", # Scale all except waterflow lag\n",
    "    \"scl_catch\",\n",
    "]\n",
    "\n",
    "DATASET_SPEC = \"_\".join(DATASET_TRANSFORMS)\n",
    "\n",
    "\n",
    "MODEL_DIR = f\"../../../models/{DATASET_SPEC}/\"\n",
    "\n",
    "SEED = 42\n",
    "NUMBER_OF_WEEK = 4\n",
    "\n",
    "FINAL_MODELS = [\n",
    "                # \"qrf_bagging\",\n",
    "                # \"qrf_voting\",\n",
    "                \"qrf\",\n",
    "                # \"gbr\",\n",
    "                # \"gpr\"\n",
    "                ]\n",
    "\n",
    "gpr = {}\n",
    "qrf = {}\n",
    "qrf_bagging = {}\n",
    "qrf_voting = {}\n",
    "gbr = {}\n",
    "\n",
    "COLUMNS_TO_DROP = [\"water_flow_week1\", \"water_flow_week2\", \"water_flow_week3\", \"water_flow_week4\"]\n"
   ]
  },
  {
   "cell_type": "markdown",
   "metadata": {},
   "source": [
    "### 2. Data Loading\n",
    "Load in the baseline datasets, create the directory to save models."
   ]
  },
  {
   "cell_type": "code",
   "execution_count": 6,
   "metadata": {},
   "outputs": [],
   "source": [
    "dataset_train = pd.read_csv(f\"{INPUT_DIR}dataset_{DATASET_SPEC}.csv\")\n",
    "\n",
    "dataset_train = dataset_train.set_index(\"ObsDate\")\n",
    "\n",
    "if not os.path.exists(f\"{MODEL_DIR}final/\"):\n",
    "    os.makedirs(f\"{MODEL_DIR}final/\")"
   ]
  },
  {
   "cell_type": "markdown",
   "metadata": {},
   "source": [
    "Data pre-processing removal of unnecessary columns, setup of the target"
   ]
  },
  {
   "cell_type": "code",
   "execution_count": 7,
   "metadata": {},
   "outputs": [],
   "source": [
    "X_train = dataset_train.drop(columns=COLUMNS_TO_DROP)\n",
    "y_train = {}\n",
    "for i in range(0, NUMBER_OF_WEEK):\n",
    "    y_train[i] = dataset_train[f\"water_flow_week{i+1}\"]\n"
   ]
  },
  {
   "cell_type": "markdown",
   "metadata": {},
   "source": [
    "### 2. Models training\n",
    "#### a. QRF Bagging"
   ]
  },
  {
   "cell_type": "code",
   "execution_count": 8,
   "metadata": {},
   "outputs": [],
   "source": [
    "ALPHA = 0.1\n",
    "TIME_VALIDATION = \"2000-01-01 00:00:00\""
   ]
  },
  {
   "cell_type": "markdown",
   "metadata": {},
   "source": [
    "- **Data Preparation:**  \n",
    "  - Splits `dataset_train` into training and validation subsets using `split_dataset`.\n",
    "  - Removes unnecessary columns from both the training and validation datasets.\n",
    "  - Extracts target variables for each week (from `water_flow_week1` to `water_flow_week4`).\n"
   ]
  },
  {
   "cell_type": "code",
   "execution_count": 9,
   "metadata": {},
   "outputs": [],
   "source": [
    "if \"qrf_bagging\" in FINAL_MODELS:\n",
    "\n",
    "    print(\"Training qrf_bagging\")\n",
    "\n",
    "    initial_model = RandomForestQuantileRegressor(n_estimators= 45, min_samples_split= 2, min_samples_leaf= 9, max_features= None, max_depth= 30)\n",
    "    train_mapie_svm, val_mapie_svm, val_temporal  = split_dataset(dataset_train, 0.75, TIME_VALIDATION)    \n",
    "\n",
    "    X_train_mapie_svm = train_mapie_svm.drop(columns=COLUMNS_TO_DROP)\n",
    "    X_train_mapie_svm = X_train_mapie_svm.drop(columns=[\"station_code\"])\n",
    "    print(len(X_train_mapie_svm.columns))\n",
    "    y_train_mapie_svm = {}\n",
    "    for i in range(0, NUMBER_OF_WEEK):\n",
    "        y_train_mapie_svm[i] = train_mapie_svm[f\"water_flow_week{i+1}\"]\n",
    "\n",
    "    X_val = val_mapie_svm.drop(columns=COLUMNS_TO_DROP)\n",
    "    X_val = X_val.drop(columns=[\"station_code\"])\n",
    "    y_val = {}\n",
    "    y_val[0] = val_mapie_svm[\"water_flow_week1\"]\n",
    "    for i in range(1, NUMBER_OF_WEEK):\n",
    "        y_val[i] = val_mapie_svm[f\"water_flow_week{i+1}\"]\n",
    "\n",
    "    for i in range(NUMBER_OF_WEEK):\n",
    "        print(f\"Training week {i}\")\n",
    "\n",
    "        # Initialize and train Model\n",
    "        qrf_bagging[i] = BaggingRegressor(estimator=initial_model, n_estimators=3, random_state=0)\n",
    "        qrf_bagging[i].fit(X_train_mapie_svm, y_train_mapie_svm[i])\n",
    "        \n",
    "        # save model with date\n",
    "        time = pd.Timestamp.now().strftime(\"%Y-%m-%d_%H-%M-%S\")\n",
    "\n",
    "        model_path = f\"{MODEL_DIR}final/qrf_bagging_quantile_{time}_week_{i}.pkl\"\n",
    "        joblib.dump(qrf_bagging[i], model_path)\n"
   ]
  },
  {
   "cell_type": "markdown",
   "metadata": {},
   "source": [
    "#### b. QRF Voting\n"
   ]
  },
  {
   "cell_type": "code",
   "execution_count": 10,
   "metadata": {},
   "outputs": [],
   "source": [
    "\n",
    "if \"qrf_voting\" in FINAL_MODELS:\n",
    "    print(\"Training qrf_voting\")\n",
    "\n",
    "    for i in range(NUMBER_OF_WEEK):\n",
    "        print(f\"Training week {i}\")\n",
    "\n",
    "        qrf_voting[i] = VotingRandomForestQuantileRegressor()\n",
    "        qrf_voting[i].fit(X_train, y_train[i])\n",
    "\n",
    "        time = pd.Timestamp.now().strftime(\"%Y-%m-%d_%H-%M-%S\")\n",
    "        model_path = f\"{MODEL_DIR}final/qrf_voting_quantile_{time}_week_{i}.pkl\"\n",
    "        joblib.dump(qrf_voting[i], model_path)\n"
   ]
  },
  {
   "cell_type": "markdown",
   "metadata": {},
   "source": [
    "#### c. GradientBoostingRegressor"
   ]
  },
  {
   "cell_type": "code",
   "execution_count": 11,
   "metadata": {},
   "outputs": [],
   "source": [
    "if \"gbr\" in FINAL_MODELS:\n",
    "    gbr = {}\n",
    "    X_train_gbr = X_train.drop(columns=[\"station_code\"])\n",
    "    print(\"Training GradientBoostingRegressor\")\n",
    "\n",
    "    for i in range(NUMBER_OF_WEEK):\n",
    "        print(f\"Training week {i}\")\n",
    "\n",
    "        gbr[i] = {}\n",
    "        common_params = dict(\n",
    "            learning_rate=0.05,\n",
    "            n_estimators=200,\n",
    "            max_depth=2,\n",
    "            min_samples_leaf=9,\n",
    "            min_samples_split=9,\n",
    "        )\n",
    "        \n",
    "        for alpha in [0.05, 0.5, 0.95]:\n",
    "            print(f\"Training quantile {alpha}\")\n",
    "            gbr_model = GradientBoostingRegressor(loss=\"quantile\", alpha=alpha, **common_params)\n",
    "            key = \"lower\" if alpha == 0.05 else \"median\" if alpha == 0.5 else \"upper\"\n",
    "            gbr[i][key] = gbr_model.fit(X_train_gbr, y_train[i])\n",
    "\n",
    "        time = pd.Timestamp.now().strftime(\"%Y-%m-%d_%H-%M-%S\")\n",
    "        model_path = f\"{MODEL_DIR}final/gbr_quantile_{time}_week_{i}.pkl\"\n",
    "        joblib.dump(gbr[i], model_path)"
   ]
  },
  {
   "cell_type": "markdown",
   "metadata": {},
   "source": [
    "#### d. QRF "
   ]
  },
  {
   "cell_type": "code",
   "execution_count": null,
   "metadata": {},
   "outputs": [
    {
     "ename": "SyntaxError",
     "evalue": "invalid syntax. Maybe you meant '==' or ':=' instead of '='? (3857328150.py, line 8)",
     "output_type": "error",
     "traceback": [
      "  \u001b[36mCell\u001b[39m\u001b[36m \u001b[39m\u001b[32mIn[12]\u001b[39m\u001b[32m, line 8\u001b[39m\n\u001b[31m    \u001b[39m\u001b[31mn_estimators=135, min_samples_split=27, min_samples_leaf=27, max_features=None, max_depth=30, bootstrap=True\u001b[39m\n    ^\n\u001b[31mSyntaxError\u001b[39m\u001b[31m:\u001b[39m invalid syntax. Maybe you meant '==' or ':=' instead of '='?\n"
     ]
    }
   ],
   "source": [
    "X_train_qrf = X_train.drop(columns=[\"station_code\"])\n",
    "\n",
    "if \"qrf\" in FINAL_MODELS:\n",
    "    for i in range(NUMBER_OF_WEEK):\n",
    "        print(f\"Training week {i}\")\n",
    "        # Train RandomForestQuantileRegressor\n",
    "        \n",
    "        # n_estimators=135, min_samples_split=27, min_samples_leaf=27, max_features=None, max_depth=30, bootstrap=True\n",
    "\n",
    "        qrf[i] = RandomForestQuantileRegressor(n_estimators=135, min_samples_split=27, min_samples_leaf=27, max_features=None, max_depth=30, bootstrap=True, random_state=42)\n",
    "        qrf[i].fit(X_train_qrf, y_train[i])\n",
    "\n",
    "        time = pd.Timestamp.now().strftime(\"%Y-%m-%d_%H-%M-%S\")\n",
    "        model_path = f\"{MODEL_DIR}final/qrf_quantile_{time}_week_{i}.pkl\"\n",
    "        joblib.dump(qrf[i], model_path)"
   ]
  },
  {
   "cell_type": "markdown",
   "metadata": {},
   "source": [
    "#### e. GPR"
   ]
  },
  {
   "cell_type": "code",
   "execution_count": null,
   "metadata": {},
   "outputs": [],
   "source": [
    "selected_kernel = [\n",
    "    # \"rbf\",\n",
    "    \"dot\",\n",
    "    # \"mattern\",\n",
    "    # \"exp-sin\",\n",
    "]\n",
    "X_train_gpr = X_train.drop(columns=[\"station_code\"])\n",
    "train_proportion = 0.2\n",
    "\n",
    "if \"gpr\" in FINAL_MODELS:\n",
    "\n",
    "    if \"dot\" in selected_kernel:\n",
    "          kernel = DotProduct() * DotProduct() + WhiteKernel()\n",
    "    if \"rbf\" in selected_kernel:\n",
    "          kernel = RBF(length_scale=1.0, length_scale_bounds=(0.5, 5.0))\n",
    "        #   kernel = RBF(1.0, (1e-4, 1e4)) + WhiteKernel(noise_level=1.5)\n",
    "    if \"mattern\" in selected_kernel:\n",
    "        # kernel = C(1.0, (1e-4, 1e5)) * Matern(length_scale=1.0, nu=1.5, length_scale_bounds=(1e-5, 1e4))\n",
    "        kernel = Matern()\n",
    "    if \"exp-sin\" in selected_kernel:\n",
    "        kernel = ExpSineSquared()\n",
    "\n",
    "\n",
    "    print(f\"Using {\"\".join(selected_kernel)} kernel\")\n",
    "    \n",
    "    for i in range(NUMBER_OF_WEEK):\n",
    "        X_sampled, _, y_sampled, _ = train_test_split(X_train_gpr, y_train[i], train_size=train_proportion, random_state=42)\n",
    "        print(f\"Training on {X_sampled.shape} samples\")\n",
    "        print(f\"Training week {i}\")\n",
    "        # Train GaussianProcessRegressor\n",
    "        gpr[i] = GaussianProcessRegressor(kernel=kernel, random_state=42)\n",
    "        gpr[i].fit(X_sampled, y_sampled)\n",
    "\n",
    "        time = pd.Timestamp.now().strftime(\"%Y-%m-%d_%H-%M-%S\")\n",
    "        model_path = f\"{MODEL_DIR}final/gpr_quantile_{\"\".join(selected_kernel)}_{time}_week_{i}.pkl\"\n",
    "        joblib.dump(gpr[i], model_path)"
   ]
  },
  {
   "cell_type": "markdown",
   "metadata": {},
   "source": [
    "### 3. Performance Evaluation on the Full Training Set\n",
    "\n",
    "> **Note:**  \n",
    "> The performance displayed here is calculated on the training set. This does not necessarily reflect the models' performance on unseen data.\n"
   ]
  },
  {
   "cell_type": "code",
   "execution_count": null,
   "metadata": {},
   "outputs": [],
   "source": [
    "preds = {}\n",
    "\n",
    "if \"qrf_voting\" in FINAL_MODELS:\n",
    "    location_confidences = [1.9, 1.95, 2]\n",
    "\n",
    "    for confidence_value in location_confidences:\n",
    "        preds[confidence_value] = {}\n",
    "        for i in range(NUMBER_OF_WEEK):\n",
    "            qrf_voting[i].adjust_weights(location_confidence = confidence_value)\n",
    "            preds[confidence_value][i] = {}\n",
    "            preds[confidence_value][i] = qrf_voting[i].predict(X_train)\n",
    "            preds[confidence_value][i][\"y_true\"] = y_train[i]\n",
    "\n",
    "if \"gpr\" in FINAL_MODELS:\n",
    "    for i in range(NUMBER_OF_WEEK):\n",
    "        print(f\"Predicting week {i}\")\n",
    "        y_pred, y_std = gpr[i].predict(X_train.drop(columns=[\"station_code\"]), return_std=True)\n",
    "        y_lower = y_pred - ((y_pred*0.6) * y_std)\n",
    "        y_upper = y_pred + ((y_pred*0.6) * y_std)\n",
    "        \n",
    "        preds[i] = {}\n",
    "        preds[i][\"mean\"] = y_pred\n",
    "        preds[i][\"lower\"] = y_lower\n",
    "        preds[i][\"upper\"] = y_upper\n",
    "        preds[i][\"y_true\"] = y_train[i]\n"
   ]
  },
  {
   "cell_type": "code",
   "execution_count": null,
   "metadata": {},
   "outputs": [],
   "source": [
    "import matplotlib.pyplot as plt\n",
    "\n",
    "if \"qrf_voting\" in FINAL_MODELS:\n",
    "    for confidence_value in location_confidences:\n",
    "\n",
    "        fig, axes = plt.subplots(1, 4, figsize=(16, 4))\n",
    "\n",
    "        print(f\"Using {confidence_value} location confidence\")\n",
    "\n",
    "        for i in range(NUMBER_OF_WEEK):\n",
    "            axes[i].plot(preds[confidence_value][i][27600:27700])\n",
    "            axes[i].set_title(f\"Data from week {i}\")\n",
    "\n",
    "    plt.tight_layout()  \n",
    "    plt.show()\n",
    "\n",
    "if \"gpr\" in FINAL_MODELS:\n",
    "\n",
    "    fig, axes = plt.subplots(1, 4, figsize=(16, 4))\n",
    "\n",
    "    for i in range(NUMBER_OF_WEEK):\n",
    "        axes[i].plot(pd.DataFrame(preds[i])[27600:27630])\n",
    "        axes[i].set_title(f\"Data from week {i}\")\n",
    "        axes[i].legend()\n",
    "\n",
    "    plt.tight_layout()  \n",
    "    plt.show()\n"
   ]
  },
  {
   "cell_type": "code",
   "execution_count": null,
   "metadata": {},
   "outputs": [],
   "source": [
    "import matplotlib.pyplot as plt\n",
    "\n",
    "if \"qrf_voting\" in FINAL_MODELS:\n",
    "    for confidence_value in location_confidences:\n",
    "\n",
    "        fig, axes = plt.subplots(1, 4, figsize=(16, 4))\n",
    "\n",
    "        print(f\"Using {confidence_value} location confidence\")\n",
    "\n",
    "        for i in range(NUMBER_OF_WEEK):\n",
    "            axes[i].plot(preds[confidence_value][i][27600:27700])\n",
    "            axes[i].set_title(f\"Data from week {i}\")\n",
    "\n",
    "    plt.tight_layout()  \n",
    "    plt.show()\n",
    "\n",
    "if \"gpr\" in FINAL_MODELS:\n",
    "\n",
    "    fig, axes = plt.subplots(1, 4, figsize=(16, 4))\n",
    "\n",
    "    for i in range(NUMBER_OF_WEEK):\n",
    "        axes[i].plot(pd.DataFrame(preds[i])[27600:27700])\n",
    "        axes[i].set_title(f\"Data from week {i}\")\n",
    "        axes[i].legend()\n",
    "\n",
    "    plt.tight_layout()  \n",
    "    plt.show()\n"
   ]
  },
  {
   "cell_type": "code",
   "execution_count": null,
   "metadata": {},
   "outputs": [
    {
     "data": {
      "image/png": "[encoded data removed]",
      "text/plain": [
       "<Figure size 1000x400 with 1 Axes>"
      ]
     },
     "metadata": {},
     "output_type": "display_data"
    },
    {
     "data": {
      "image/png": "[encoded data removed]",
      "text/plain": [
       "<Figure size 1000x400 with 1 Axes>"
      ]
     },
     "metadata": {},
     "output_type": "display_data"
    },
    {
     "data": {
      "image/png": "[encoded data removed]",
      "text/plain": [
       "<Figure size 1000x400 with 1 Axes>"
      ]
     },
     "metadata": {},
     "output_type": "display_data"
    },
    {
     "data": {
      "image/png": "[encoded data removed]",
      "text/plain": [
       "<Figure size 1000x400 with 1 Axes>"
      ]
     },
     "metadata": {},
     "output_type": "display_data"
    }
   ],
   "source": [
    "y_train_stations = dataset_train[\"station_code\"].values\n",
    "\n",
    "X_train_eval = X_train.drop(columns=[\"station_code\"])\n",
    "for i in range(NUMBER_OF_WEEK):\n",
    "    predictions = []\n",
    "    baseline_day_before = dataset_train[\"water_flow_lag_1w\"]\n",
    "    predictions.append({\"model\": \"Week before\", \"prediction\": baseline_day_before, \"dataset\":\"train\", \"stations\": y_train_stations, \"prediction_interval\": None})\n",
    "    \n",
    "    if \"qrf_bagging\" in FINAL_MODELS:\n",
    "        y_pred_qrf_bagging = np.mean([est.predict(X_train_eval) for est in qrf_bagging[i].estimators_], axis=0)\n",
    "        y_pis_qrf_bagging = np.stack([np.quantile([est.predict(X_train_eval) for est in qrf_bagging[i].estimators_], 0.05, axis=0),\n",
    "                                    np.quantile([est.predict(X_train_eval) for est in qrf_bagging[i].estimators_], 0.95, axis=0)], axis=1)\n",
    "\n",
    "        predictions.append({\"model\": \"QRF bagging\",\n",
    "                                \"prediction\": y_pred_qrf_bagging,\n",
    "                                \"dataset\":\"train\",\n",
    "                                \"stations\": y_train_stations,\n",
    "                                \"prediction_interval\": y_pis_qrf_bagging})\n",
    "    if \"qrf\" in FINAL_MODELS:\n",
    "        y_pred_qrf = qrf[i].predict(X_train_eval, quantiles=\"mean\", aggregate_leaves_first=False)\n",
    "        y_pis_qrf = qrf[i].predict(X_train_eval, quantiles=[ALPHA/2, 1-ALPHA/2])\n",
    "        predictions.append({\"model\": \"QRF\",\n",
    "                            \"prediction\": y_pred_qrf,\n",
    "                            \"dataset\":\"train\",\n",
    "                            \"stations\": y_train_stations,\n",
    "                            \"prediction_interval\": y_pis_qrf})\n",
    "    if \"qrf_voting\" in FINAL_MODELS:\n",
    "\n",
    "        for confidence_value in location_confidences:\n",
    "            y_preds_voting = preds[confidence_value][i]\n",
    "            y_pred_qrf_voting = y_preds_voting[\"mean\"]\n",
    "            y_pis_qrf_voting = np.stack([y_preds_voting[\"lower\"],\n",
    "                                        y_preds_voting[\"upper\"]], axis=1)\n",
    "\n",
    "            predictions.append({\"model\": f\"QRF Voting lc_val{confidence_value}\",\n",
    "                                    \"prediction\": y_pred_qrf_voting,\n",
    "                                    \"dataset\":\"train\",\n",
    "                                    \"stations\": y_train_stations,\n",
    "                                    \"prediction_interval\": y_pis_qrf_voting})\n",
    "    if \"gpr\" in FINAL_MODELS:\n",
    "\n",
    "        y_preds_gpr = preds[i]\n",
    "        y_pred_qrf_voting = y_preds_gpr[\"mean\"]\n",
    "        y_pis_qrf_voting = np.stack([y_preds_gpr[\"lower\"],\n",
    "                                    y_preds_gpr[\"upper\"]], axis=1)\n",
    "\n",
    "        predictions.append({\"model\": f\"GPR\",\n",
    "                                \"prediction\": y_pred_qrf_voting,\n",
    "                                \"dataset\":\"train\",\n",
    "                                \"stations\": y_train_stations,\n",
    "                                \"prediction_interval\": y_pis_qrf_voting})\n",
    "    \n",
    "    if \"gbr\" in FINAL_MODELS:\n",
    "        X_train_gbr = X_train.drop(columns=[\"station_code\"])\n",
    "        y_pred_qrf = gbr[i][\"median\"].predict(X_train_eval)\n",
    "        y_pis_qrf = np.stack([gbr[i][\"lower\"].predict(X_train_eval), gbr[i][\"upper\"].predict(X_train_eval)], axis=1)\n",
    "        predictions.append({\"model\": \"GBR\",\n",
    "                            \"prediction\": y_pred_qrf,\n",
    "                            \"dataset\":\"train\",\n",
    "                            \"stations\": y_train_stations,\n",
    "                            \"prediction_interval\": y_pis_qrf})\n",
    "    compare_models_per_station(\n",
    "        y_train[i].values,\n",
    "        predictions,\n",
    "        y_train_stations,\n",
    "        column_to_display=\"log_likelihood\" ,\n",
    "        title = f\"WEEK {i}\")"
   ]
  },
  {
   "cell_type": "markdown",
   "metadata": {},
   "source": [
    "### 4. Coverage on the Full Training Set\n",
    "\n",
    "> **Note:**  \n",
    "> The performance displayed here is calculated on the training set. This does not necessarily reflect the models' performance on unseen data.\n"
   ]
  },
  {
   "cell_type": "code",
   "execution_count": null,
   "metadata": {},
   "outputs": [
    {
     "name": "stdout",
     "output_type": "stream",
     "text": [
      "QRF coverage of the prediction interval for week 0: 0.9252400548696845\n",
      "QRF coverage of the prediction interval for week 1: 0.9199696772796188\n",
      "QRF coverage of the prediction interval for week 2: 0.9111255505017688\n",
      "QRF coverage of the prediction interval for week 3: 0.9025341130604289\n"
     ]
    }
   ],
   "source": [
    "for i in range(NUMBER_OF_WEEK):\n",
    "\n",
    "    baseline_day_before = dataset_train[\"water_flow_lag_1w\"]\n",
    "    if \"qrf_bagging\" in FINAL_MODELS:\n",
    "        y_pred_qrf_bagging = np.mean([est.predict(X_train_eval, quantiles=\"mean\") for est in qrf_bagging[i].estimators_], axis=0)\n",
    "        y_pis_qrf_bagging = np.mean(np.stack(\n",
    "                [\n",
    "                    [\n",
    "                        est.predict(X_train_eval, quantiles=[ALPHA / 2])\n",
    "                        for est in qrf_bagging[i].estimators_\n",
    "                    ],\n",
    "                    [\n",
    "                        est.predict(X_train_eval, quantiles=[ 1 - ALPHA / 2])\n",
    "                        for est in qrf_bagging[i].estimators_\n",
    "                    ]\n",
    "                ],\n",
    "                axis=1,\n",
    "            ), axis=0)\n",
    "        print(y_pred_qrf_bagging.shape)\n",
    "        print(y_pis_qrf_bagging.shape)\n",
    "        coverage = (y_train[i].values >= y_pis_qrf_bagging[0,:]) & (y_train[i].values <= y_pis_qrf_bagging[1,:])\n",
    "        print(f\"QRF coverage of the prediction interval for week {i}: {coverage.mean()}\")\n",
    "    \n",
    "    if \"gbr\" in FINAL_MODELS:\n",
    "        y_pred_gbr = gbr[i][\"median\"].predict(X_train_eval)\n",
    "        y_pis_gbr = np.stack([gbr[i][\"lower\"].predict(X_train_eval), gbr[i][\"upper\"].predict(X_train_eval)], axis=1)\n",
    "        coverage = (y_train[i].values >= y_pis_gbr[:,0]) & (y_train[i].values <= y_pis_gbr[:,1])\n",
    "        print(f\"QRF coverage of the prediction interval for week {i}: {coverage.mean()}\")\n",
    "    \n",
    "    if \"gpr\" in FINAL_MODELS:\n",
    "        y_preds_voting = preds[i]\n",
    "        y_pred_gbr = y_preds_voting[\"mean\"]\n",
    "        y_pis_gbr = np.stack([y_preds_voting[\"lower\"], y_preds_voting[\"upper\"]], axis=1)\n",
    "        coverage = (y_train[i].values >= y_pis_gbr[:,0]) & (y_train[i].values <= y_pis_gbr[:,1])\n",
    "        print(f\"GPR coverage of the prediction interval for week {i}: {coverage.mean()}\")\n",
    "\n",
    "    if \"qrf\" in FINAL_MODELS:\n",
    "        y_pred_qrf = qrf[i].predict(X_train_eval, quantiles=\"mean\", aggregate_leaves_first=False)\n",
    "        y_pis_qrf = qrf[i].predict(X_train_eval, quantiles=[ALPHA/2, 1-ALPHA/2])\n",
    "        coverage = (y_train[i].values >= y_pis_qrf[:,0]) & (y_train[i].values <= y_pis_qrf[:,1])\n",
    "        print(f\"QRF coverage of the prediction interval for week {i}: {coverage.mean()}\")\n",
    "        \n",
    "    if \"qrf_voting\" in FINAL_MODELS:\n",
    "        for confidence_value in location_confidences:\n",
    "            y_preds_voting = preds[confidence_value][i]\n",
    "            y_pred_gbr = y_preds_voting[\"mean\"]\n",
    "            y_pis_gbr = np.stack([y_preds_voting[\"lower\"], y_preds_voting[\"upper\"]], axis=1)\n",
    "            coverage = (y_train[i].values >= y_pis_gbr[:,0]) & (y_train[i].values <= y_pis_gbr[:,1])\n",
    "            print(f\"QRF coverage of the prediction interval for week {i}, lc_val {confidence_value}: {coverage.mean()}\")"
   ]
  }
 ],
 "metadata": {
  "kernelspec": {
   "display_name": ".venv",
   "language": "python",
   "name": "python3"
  },
  "language_info": {
   "codemirror_mode": {
    "name": "ipython",
    "version": 3
   },
   "file_extension": ".py",
   "mimetype": "text/x-python",
   "name": "python",
   "nbconvert_exporter": "python",
   "pygments_lexer": "ipython3",
   "version": "3.12.2"
  }
 },
 "nbformat": 4,
 "nbformat_minor": 2
}
