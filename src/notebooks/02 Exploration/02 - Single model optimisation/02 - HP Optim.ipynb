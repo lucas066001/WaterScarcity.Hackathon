{
 "cells": [
  {
   "cell_type": "markdown",
   "metadata": {},
   "source": [
    "## Goals: Hyper Parameter Optimisation of *QRF* model\n",
    "\n",
    "This notebook propose different methods of hyper parameter optimisation based on X-Validation :\n",
    "* Random Search\n",
    "* Genetic algorithm [Not yet included]\n",
    "\n",
    "# 1. Data Import and Setup\n",
    "\n",
    "Imports necessary libraries, sets up environment paths."
   ]
  },
  {
   "cell_type": "code",
   "execution_count": 53,
   "metadata": {},
   "outputs": [],
   "source": [
    "# Standard library imports\n",
    "import os\n",
    "import sys\n",
    "import json\n",
    "\n",
    "# Third-party imports\n",
    "from functools import partial\n",
    "import pandas as pd\n",
    "from quantile_forest import RandomForestQuantileRegressor\n",
    "from sklearn.compose import ColumnTransformer\n",
    "from sklearn.pipeline import Pipeline\n",
    "from sklearn.model_selection import RandomizedSearchCV\n",
    "from sklearn.ensemble import GradientBoostingRegressor\n",
    "\n",
    "# Append project root to sys.path for local imports\n",
    "sys.path.append(os.path.abspath(os.path.join(os.getcwd(), '..', '..', '..', '..')))\n",
    "\n",
    "# Local application imports\n",
    "from src.utils.model import get_station_stats, custom_log_likelihood\n",
    "from src.utils.SpatioTemporalSplit import SpatioTemporalSplit\n",
    "from src.utils.custom_models import SnowIndexComputeTransformer\n"
   ]
  },
  {
   "cell_type": "markdown",
   "metadata": {},
   "source": [
    "Defines constants :\n",
    "* INPUT_DIR must be the same as the one defined in *00 Preprocessing/Feature Engineering*.\n",
    "* MODEL_DIR is the directory where the exploration models will be saved."
   ]
  },
  {
   "cell_type": "code",
   "execution_count": 11,
   "metadata": {},
   "outputs": [],
   "source": [
    "INPUT_DIR = \"../../../../data/input/\"\n",
    "MODEL_DIR = \"../../../../models/exploration/\"\n",
    "\n",
    "SEED = 42 \n",
    "ALPHA = 0.1\n",
    "WEEK_TO_PREDICT=4 \n",
    "\n",
    "DATASET_TRANSFORMS = [\n",
    "    \"rm_gnv_st\",\n",
    "    \"pca\",\n",
    "    \"snow_index\",\n",
    "    # \"oh_enc_date\",\n",
    "    \"cyc_enc_date\",\n",
    "    \"clust_index\",\n",
    "    \"clust_hydro\",\n",
    "    # \"scl_feat\",\n",
    "    \"scl_feat_wl\", # Scale all except waterflow lag\n",
    "    \"rm_wl\", # remove custom generated water_flow_lag 3w & 4w ---> Need USE_CUSTOM_PREPROCESS = True\n",
    "    \"slct_ma\", # keep only specific mobile average 2w or/and 3w or/and 4w ---> Need USE_CUSTOM_PREPROCESS = True\n",
    "    \"lag_slope\" # add an indicator that is calculated between water_flow_lag 1w and 2w \n",
    "]\n",
    "\n",
    "PCA_THRESHOLD = 0.98\n",
    "N_CLUSTER = 10\n",
    "\n",
    "DATASET_SPEC = \"_\".join(DATASET_TRANSFORMS)\n",
    "\n",
    "if \"pca\" in DATASET_TRANSFORMS:\n",
    "    DATASET_SPEC += f\"_pct_{PCA_THRESHOLD}\"\n",
    "\n",
    "if \"clust_index\" in DATASET_TRANSFORMS:\n",
    "    DATASET_SPEC += f\"_geocl_{N_CLUSTER}\"\n",
    "\n",
    "if \"clust_hydro\" in DATASET_TRANSFORMS:\n",
    "    DATASET_SPEC += f\"_hydcl_{N_CLUSTER}\"\n",
    "\n",
    "DATASET_SPEC = \"dataset_custom_6\"\n",
    "\n",
    "# columns to drop : target at different horizon, station_code, and features removed from Feature Selection\n",
    "TO_DROP = [\"water_flow_week1\", \"station_code\", \"water_flow_week2\", \"water_flow_week3\", \"water_flow_week4\"]"
   ]
  },
  {
   "cell_type": "markdown",
   "metadata": {},
   "source": [
    "# 2. Data Loading\n",
    "Load in the baseline datasets, create the directory to save models."
   ]
  },
  {
   "cell_type": "code",
   "execution_count": 12,
   "metadata": {},
   "outputs": [],
   "source": [
    "# load the dataset\n",
    "ds_train = pd.read_csv(f\"{INPUT_DIR}{DATASET_SPEC}.csv\")\n",
    "train_data = ds_train.copy()\n",
    "train_data.reset_index(inplace=True)\n",
    "train_data = train_data.loc[:, ~train_data.columns.duplicated()]\n",
    "ds_train = ds_train.set_index(\"ObsDate\")\n",
    "y_train = train_data[f\"water_flow_week{WEEK_TO_PREDICT}\"]\n",
    "cv_data = train_data.copy()\n"
   ]
  },
  {
   "cell_type": "markdown",
   "metadata": {},
   "source": [
    "### 3. Model preparation\n",
    "\n",
    "Compute station statistics (usefull for scalling)"
   ]
  },
  {
   "cell_type": "code",
   "execution_count": 13,
   "metadata": {},
   "outputs": [],
   "source": [
    "station_stats = get_station_stats(\n",
    "    y_train.to_numpy(),\n",
    "    train_data[\"station_code\"].to_numpy()\n",
    ")"
   ]
  },
  {
   "cell_type": "markdown",
   "metadata": {},
   "source": [
    "Create a custom Pipeline to keep track of the station code"
   ]
  },
  {
   "cell_type": "code",
   "execution_count": 15,
   "metadata": {},
   "outputs": [],
   "source": [
    "from sklearn.feature_selection import SelectKBest, f_regression\n",
    "\n",
    "\n",
    "cols_to_drop = TO_DROP.copy()\n",
    "cols_to_drop += [\"ObsDate\"]\n",
    "predictor_cols = [col for col in cv_data.columns if col not in cols_to_drop]\n",
    "preprocessor = ColumnTransformer(transformers=[\n",
    "    ('select', 'passthrough', predictor_cols)\n",
    "], remainder='drop')\n",
    "\n",
    "snowIndexer = SnowIndexComputeTransformer()\n",
    "\n",
    "qrf_week1 = RandomForestQuantileRegressor(n_estimators=10, max_depth=10, min_samples_leaf=10)\n",
    "# qrf_week1 = GradientBoostingRegressor()\n",
    "\n",
    "pipeline = Pipeline(steps=[\n",
    "    # ('snowindexer', SnowIndexComputeTransformer(temp_col_name=\"tempartures_pca_1\", rain_col_name=\"precipitations_pca_1\",)),\n",
    "    ('preprocessor', preprocessor),\n",
    "    (\"selector\", SelectKBest(score_func=f_regression)),\n",
    "    ('model', qrf_week1)\n",
    "])"
   ]
  },
  {
   "cell_type": "markdown",
   "metadata": {},
   "source": [
    "Initialisation of the log likelihood scorer"
   ]
  },
  {
   "cell_type": "code",
   "execution_count": 16,
   "metadata": {},
   "outputs": [],
   "source": [
    "def inverted_log_likelihood(estimator, X, y_true, cv_data, station_stats, alpha=0.1):\n",
    "    return -custom_log_likelihood(estimator, X, y_true, cv_data, station_stats, alpha=alpha)"
   ]
  },
  {
   "cell_type": "code",
   "execution_count": 17,
   "metadata": {},
   "outputs": [],
   "source": [
    "scorer = partial(inverted_log_likelihood,\n",
    "                 cv_data=cv_data,\n",
    "                 station_stats=station_stats,\n",
    "                 alpha=ALPHA)"
   ]
  },
  {
   "cell_type": "markdown",
   "metadata": {},
   "source": [
    "Initialisation of the SpatioTemporal Splitter"
   ]
  },
  {
   "cell_type": "code",
   "execution_count": 18,
   "metadata": {},
   "outputs": [],
   "source": [
    "cv = SpatioTemporalSplit(\n",
    "    n_splits=10,\n",
    "    date_col='ObsDate',\n",
    "    station_col='station_code',\n",
    "    temporal_frac=0.68,\n",
    "    spatial_frac=0.68,\n",
    "    random_state=42\n",
    ")\n"
   ]
  },
  {
   "cell_type": "markdown",
   "metadata": {},
   "source": [
    "### 4. Hyper parameter tuning\n",
    "\n",
    "Define the hyperparameter distributions for random search, take care the parameters presented here are choosen so that the search is fast you need to explore wider parameters range.\n",
    "\n",
    "#### a. Random Search"
   ]
  },
  {
   "cell_type": "code",
   "execution_count": 34,
   "metadata": {},
   "outputs": [
    {
     "data": {
      "text/html": [
       "<div>\n",
       "<style scoped>\n",
       "    .dataframe tbody tr th:only-of-type {\n",
       "        vertical-align: middle;\n",
       "    }\n",
       "\n",
       "    .dataframe tbody tr th {\n",
       "        vertical-align: top;\n",
       "    }\n",
       "\n",
       "    .dataframe thead th {\n",
       "        text-align: right;\n",
       "    }\n",
       "</style>\n",
       "<table border=\"1\" class=\"dataframe\">\n",
       "  <thead>\n",
       "    <tr style=\"text-align: right;\">\n",
       "      <th></th>\n",
       "      <th>index</th>\n",
       "      <th>ObsDate</th>\n",
       "      <th>precipitations_lag_1w_pca_1</th>\n",
       "      <th>precipitations_lag_1w_pca_2</th>\n",
       "      <th>precipitations_pca_1</th>\n",
       "      <th>precipitations_pca_2</th>\n",
       "      <th>tempartures_lag_1w_pca_1</th>\n",
       "      <th>tempartures_pca_1</th>\n",
       "      <th>tempartures_pca_2</th>\n",
       "      <th>soil_moisture_pca_1</th>\n",
       "      <th>...</th>\n",
       "      <th>water_flow_week4</th>\n",
       "      <th>north_hemisphere</th>\n",
       "      <th>snow_index</th>\n",
       "      <th>month_sin</th>\n",
       "      <th>month_cos</th>\n",
       "      <th>season_sin</th>\n",
       "      <th>season_cos</th>\n",
       "      <th>region_cluster</th>\n",
       "      <th>hydro_cluster</th>\n",
       "      <th>water_flow_evolve_slope</th>\n",
       "    </tr>\n",
       "  </thead>\n",
       "  <tbody>\n",
       "  </tbody>\n",
       "</table>\n",
       "<p>0 rows × 44 columns</p>\n",
       "</div>"
      ],
      "text/plain": [
       "Empty DataFrame\n",
       "Columns: [index, ObsDate, precipitations_lag_1w_pca_1, precipitations_lag_1w_pca_2, precipitations_pca_1, precipitations_pca_2, tempartures_lag_1w_pca_1, tempartures_pca_1, tempartures_pca_2, soil_moisture_pca_1, soil_moisture_pca_2, soil_moisture_pca_3, evaporation_lag_1w_pca_1, evaporation_pca_1, soil_composition_pca_1, soil_composition_pca_2, soil_composition_pca_3, soil_composition_pca_4, soil_composition_pca_5, soil_composition_pca_6, soil_composition_pca_7, soil_composition_pca_8, soil_composition_pca_9, station_code, water_flow_week1, latitude, longitude, catchment, altitude, water_flow_lag_1w, water_flow_lag_2w, water_flow_ma_4w_lag_1w_gauss, water_flow_week2, water_flow_week3, water_flow_week4, north_hemisphere, snow_index, month_sin, month_cos, season_sin, season_cos, region_cluster, hydro_cluster, water_flow_evolve_slope]\n",
       "Index: []\n",
       "\n",
       "[0 rows x 44 columns]"
      ]
     },
     "execution_count": 34,
     "metadata": {},
     "output_type": "execute_result"
    }
   ],
   "source": [
    "cv_data[\"water_flow_evolve_slope\"].fillna(cv_data[\"water_flow_evolve_slope\"].mean(), inplace=True)"
   ]
  },
  {
   "cell_type": "code",
   "execution_count": 35,
   "metadata": {},
   "outputs": [
    {
     "name": "stdout",
     "output_type": "stream",
     "text": [
      "Fitting 10 folds for each of 60 candidates, totalling 600 fits\n"
     ]
    },
    {
     "name": "stderr",
     "output_type": "stream",
     "text": [
      "c:\\Users\\chapu\\E.Lucas\\Perso\\Github\\WaterScarcity.Hackathon\\.venv\\Lib\\site-packages\\numpy\\ma\\core.py:2846: RuntimeWarning: invalid value encountered in cast\n",
      "  _data = np.array(data, dtype=dtype, copy=copy,\n"
     ]
    },
    {
     "data": {
      "text/html": [
       "<style>#sk-container-id-1 {\n",
       "  /* Definition of color scheme common for light and dark mode */\n",
       "  --sklearn-color-text: black;\n",
       "  --sklearn-color-line: gray;\n",
       "  /* Definition of color scheme for unfitted estimators */\n",
       "  --sklearn-color-unfitted-level-0: #fff5e6;\n",
       "  --sklearn-color-unfitted-level-1: #f6e4d2;\n",
       "  --sklearn-color-unfitted-level-2: #ffe0b3;\n",
       "  --sklearn-color-unfitted-level-3: chocolate;\n",
       "  /* Definition of color scheme for fitted estimators */\n",
       "  --sklearn-color-fitted-level-0: #f0f8ff;\n",
       "  --sklearn-color-fitted-level-1: #d4ebff;\n",
       "  --sklearn-color-fitted-level-2: #b3dbfd;\n",
       "  --sklearn-color-fitted-level-3: cornflowerblue;\n",
       "\n",
       "  /* Specific color for light theme */\n",
       "  --sklearn-color-text-on-default-background: var(--sg-text-color, var(--theme-code-foreground, var(--jp-content-font-color1, black)));\n",
       "  --sklearn-color-background: var(--sg-background-color, var(--theme-background, var(--jp-layout-color0, white)));\n",
       "  --sklearn-color-border-box: var(--sg-text-color, var(--theme-code-foreground, var(--jp-content-font-color1, black)));\n",
       "  --sklearn-color-icon: #696969;\n",
       "\n",
       "  @media (prefers-color-scheme: dark) {\n",
       "    /* Redefinition of color scheme for dark theme */\n",
       "    --sklearn-color-text-on-default-background: var(--sg-text-color, var(--theme-code-foreground, var(--jp-content-font-color1, white)));\n",
       "    --sklearn-color-background: var(--sg-background-color, var(--theme-background, var(--jp-layout-color0, #111)));\n",
       "    --sklearn-color-border-box: var(--sg-text-color, var(--theme-code-foreground, var(--jp-content-font-color1, white)));\n",
       "    --sklearn-color-icon: #878787;\n",
       "  }\n",
       "}\n",
       "\n",
       "#sk-container-id-1 {\n",
       "  color: var(--sklearn-color-text);\n",
       "}\n",
       "\n",
       "#sk-container-id-1 pre {\n",
       "  padding: 0;\n",
       "}\n",
       "\n",
       "#sk-container-id-1 input.sk-hidden--visually {\n",
       "  border: 0;\n",
       "  clip: rect(1px 1px 1px 1px);\n",
       "  clip: rect(1px, 1px, 1px, 1px);\n",
       "  height: 1px;\n",
       "  margin: -1px;\n",
       "  overflow: hidden;\n",
       "  padding: 0;\n",
       "  position: absolute;\n",
       "  width: 1px;\n",
       "}\n",
       "\n",
       "#sk-container-id-1 div.sk-dashed-wrapped {\n",
       "  border: 1px dashed var(--sklearn-color-line);\n",
       "  margin: 0 0.4em 0.5em 0.4em;\n",
       "  box-sizing: border-box;\n",
       "  padding-bottom: 0.4em;\n",
       "  background-color: var(--sklearn-color-background);\n",
       "}\n",
       "\n",
       "#sk-container-id-1 div.sk-container {\n",
       "  /* jupyter's `normalize.less` sets `[hidden] { display: none; }`\n",
       "     but bootstrap.min.css set `[hidden] { display: none !important; }`\n",
       "     so we also need the `!important` here to be able to override the\n",
       "     default hidden behavior on the sphinx rendered scikit-learn.org.\n",
       "     See: https://github.com/scikit-learn/scikit-learn/issues/21755 */\n",
       "  display: inline-block !important;\n",
       "  position: relative;\n",
       "}\n",
       "\n",
       "#sk-container-id-1 div.sk-text-repr-fallback {\n",
       "  display: none;\n",
       "}\n",
       "\n",
       "div.sk-parallel-item,\n",
       "div.sk-serial,\n",
       "div.sk-item {\n",
       "  /* draw centered vertical line to link estimators */\n",
       "  background-image: linear-gradient(var(--sklearn-color-text-on-default-background), var(--sklearn-color-text-on-default-background));\n",
       "  background-size: 2px 100%;\n",
       "  background-repeat: no-repeat;\n",
       "  background-position: center center;\n",
       "}\n",
       "\n",
       "/* Parallel-specific style estimator block */\n",
       "\n",
       "#sk-container-id-1 div.sk-parallel-item::after {\n",
       "  content: \"\";\n",
       "  width: 100%;\n",
       "  border-bottom: 2px solid var(--sklearn-color-text-on-default-background);\n",
       "  flex-grow: 1;\n",
       "}\n",
       "\n",
       "#sk-container-id-1 div.sk-parallel {\n",
       "  display: flex;\n",
       "  align-items: stretch;\n",
       "  justify-content: center;\n",
       "  background-color: var(--sklearn-color-background);\n",
       "  position: relative;\n",
       "}\n",
       "\n",
       "#sk-container-id-1 div.sk-parallel-item {\n",
       "  display: flex;\n",
       "  flex-direction: column;\n",
       "}\n",
       "\n",
       "#sk-container-id-1 div.sk-parallel-item:first-child::after {\n",
       "  align-self: flex-end;\n",
       "  width: 50%;\n",
       "}\n",
       "\n",
       "#sk-container-id-1 div.sk-parallel-item:last-child::after {\n",
       "  align-self: flex-start;\n",
       "  width: 50%;\n",
       "}\n",
       "\n",
       "#sk-container-id-1 div.sk-parallel-item:only-child::after {\n",
       "  width: 0;\n",
       "}\n",
       "\n",
       "/* Serial-specific style estimator block */\n",
       "\n",
       "#sk-container-id-1 div.sk-serial {\n",
       "  display: flex;\n",
       "  flex-direction: column;\n",
       "  align-items: center;\n",
       "  background-color: var(--sklearn-color-background);\n",
       "  padding-right: 1em;\n",
       "  padding-left: 1em;\n",
       "}\n",
       "\n",
       "\n",
       "/* Toggleable style: style used for estimator/Pipeline/ColumnTransformer box that is\n",
       "clickable and can be expanded/collapsed.\n",
       "- Pipeline and ColumnTransformer use this feature and define the default style\n",
       "- Estimators will overwrite some part of the style using the `sk-estimator` class\n",
       "*/\n",
       "\n",
       "/* Pipeline and ColumnTransformer style (default) */\n",
       "\n",
       "#sk-container-id-1 div.sk-toggleable {\n",
       "  /* Default theme specific background. It is overwritten whether we have a\n",
       "  specific estimator or a Pipeline/ColumnTransformer */\n",
       "  background-color: var(--sklearn-color-background);\n",
       "}\n",
       "\n",
       "/* Toggleable label */\n",
       "#sk-container-id-1 label.sk-toggleable__label {\n",
       "  cursor: pointer;\n",
       "  display: block;\n",
       "  width: 100%;\n",
       "  margin-bottom: 0;\n",
       "  padding: 0.5em;\n",
       "  box-sizing: border-box;\n",
       "  text-align: center;\n",
       "}\n",
       "\n",
       "#sk-container-id-1 label.sk-toggleable__label-arrow:before {\n",
       "  /* Arrow on the left of the label */\n",
       "  content: \"▸\";\n",
       "  float: left;\n",
       "  margin-right: 0.25em;\n",
       "  color: var(--sklearn-color-icon);\n",
       "}\n",
       "\n",
       "#sk-container-id-1 label.sk-toggleable__label-arrow:hover:before {\n",
       "  color: var(--sklearn-color-text);\n",
       "}\n",
       "\n",
       "/* Toggleable content - dropdown */\n",
       "\n",
       "#sk-container-id-1 div.sk-toggleable__content {\n",
       "  max-height: 0;\n",
       "  max-width: 0;\n",
       "  overflow: hidden;\n",
       "  text-align: left;\n",
       "  /* unfitted */\n",
       "  background-color: var(--sklearn-color-unfitted-level-0);\n",
       "}\n",
       "\n",
       "#sk-container-id-1 div.sk-toggleable__content.fitted {\n",
       "  /* fitted */\n",
       "  background-color: var(--sklearn-color-fitted-level-0);\n",
       "}\n",
       "\n",
       "#sk-container-id-1 div.sk-toggleable__content pre {\n",
       "  margin: 0.2em;\n",
       "  border-radius: 0.25em;\n",
       "  color: var(--sklearn-color-text);\n",
       "  /* unfitted */\n",
       "  background-color: var(--sklearn-color-unfitted-level-0);\n",
       "}\n",
       "\n",
       "#sk-container-id-1 div.sk-toggleable__content.fitted pre {\n",
       "  /* unfitted */\n",
       "  background-color: var(--sklearn-color-fitted-level-0);\n",
       "}\n",
       "\n",
       "#sk-container-id-1 input.sk-toggleable__control:checked~div.sk-toggleable__content {\n",
       "  /* Expand drop-down */\n",
       "  max-height: 200px;\n",
       "  max-width: 100%;\n",
       "  overflow: auto;\n",
       "}\n",
       "\n",
       "#sk-container-id-1 input.sk-toggleable__control:checked~label.sk-toggleable__label-arrow:before {\n",
       "  content: \"▾\";\n",
       "}\n",
       "\n",
       "/* Pipeline/ColumnTransformer-specific style */\n",
       "\n",
       "#sk-container-id-1 div.sk-label input.sk-toggleable__control:checked~label.sk-toggleable__label {\n",
       "  color: var(--sklearn-color-text);\n",
       "  background-color: var(--sklearn-color-unfitted-level-2);\n",
       "}\n",
       "\n",
       "#sk-container-id-1 div.sk-label.fitted input.sk-toggleable__control:checked~label.sk-toggleable__label {\n",
       "  background-color: var(--sklearn-color-fitted-level-2);\n",
       "}\n",
       "\n",
       "/* Estimator-specific style */\n",
       "\n",
       "/* Colorize estimator box */\n",
       "#sk-container-id-1 div.sk-estimator input.sk-toggleable__control:checked~label.sk-toggleable__label {\n",
       "  /* unfitted */\n",
       "  background-color: var(--sklearn-color-unfitted-level-2);\n",
       "}\n",
       "\n",
       "#sk-container-id-1 div.sk-estimator.fitted input.sk-toggleable__control:checked~label.sk-toggleable__label {\n",
       "  /* fitted */\n",
       "  background-color: var(--sklearn-color-fitted-level-2);\n",
       "}\n",
       "\n",
       "#sk-container-id-1 div.sk-label label.sk-toggleable__label,\n",
       "#sk-container-id-1 div.sk-label label {\n",
       "  /* The background is the default theme color */\n",
       "  color: var(--sklearn-color-text-on-default-background);\n",
       "}\n",
       "\n",
       "/* On hover, darken the color of the background */\n",
       "#sk-container-id-1 div.sk-label:hover label.sk-toggleable__label {\n",
       "  color: var(--sklearn-color-text);\n",
       "  background-color: var(--sklearn-color-unfitted-level-2);\n",
       "}\n",
       "\n",
       "/* Label box, darken color on hover, fitted */\n",
       "#sk-container-id-1 div.sk-label.fitted:hover label.sk-toggleable__label.fitted {\n",
       "  color: var(--sklearn-color-text);\n",
       "  background-color: var(--sklearn-color-fitted-level-2);\n",
       "}\n",
       "\n",
       "/* Estimator label */\n",
       "\n",
       "#sk-container-id-1 div.sk-label label {\n",
       "  font-family: monospace;\n",
       "  font-weight: bold;\n",
       "  display: inline-block;\n",
       "  line-height: 1.2em;\n",
       "}\n",
       "\n",
       "#sk-container-id-1 div.sk-label-container {\n",
       "  text-align: center;\n",
       "}\n",
       "\n",
       "/* Estimator-specific */\n",
       "#sk-container-id-1 div.sk-estimator {\n",
       "  font-family: monospace;\n",
       "  border: 1px dotted var(--sklearn-color-border-box);\n",
       "  border-radius: 0.25em;\n",
       "  box-sizing: border-box;\n",
       "  margin-bottom: 0.5em;\n",
       "  /* unfitted */\n",
       "  background-color: var(--sklearn-color-unfitted-level-0);\n",
       "}\n",
       "\n",
       "#sk-container-id-1 div.sk-estimator.fitted {\n",
       "  /* fitted */\n",
       "  background-color: var(--sklearn-color-fitted-level-0);\n",
       "}\n",
       "\n",
       "/* on hover */\n",
       "#sk-container-id-1 div.sk-estimator:hover {\n",
       "  /* unfitted */\n",
       "  background-color: var(--sklearn-color-unfitted-level-2);\n",
       "}\n",
       "\n",
       "#sk-container-id-1 div.sk-estimator.fitted:hover {\n",
       "  /* fitted */\n",
       "  background-color: var(--sklearn-color-fitted-level-2);\n",
       "}\n",
       "\n",
       "/* Specification for estimator info (e.g. \"i\" and \"?\") */\n",
       "\n",
       "/* Common style for \"i\" and \"?\" */\n",
       "\n",
       ".sk-estimator-doc-link,\n",
       "a:link.sk-estimator-doc-link,\n",
       "a:visited.sk-estimator-doc-link {\n",
       "  float: right;\n",
       "  font-size: smaller;\n",
       "  line-height: 1em;\n",
       "  font-family: monospace;\n",
       "  background-color: var(--sklearn-color-background);\n",
       "  border-radius: 1em;\n",
       "  height: 1em;\n",
       "  width: 1em;\n",
       "  text-decoration: none !important;\n",
       "  margin-left: 1ex;\n",
       "  /* unfitted */\n",
       "  border: var(--sklearn-color-unfitted-level-1) 1pt solid;\n",
       "  color: var(--sklearn-color-unfitted-level-1);\n",
       "}\n",
       "\n",
       ".sk-estimator-doc-link.fitted,\n",
       "a:link.sk-estimator-doc-link.fitted,\n",
       "a:visited.sk-estimator-doc-link.fitted {\n",
       "  /* fitted */\n",
       "  border: var(--sklearn-color-fitted-level-1) 1pt solid;\n",
       "  color: var(--sklearn-color-fitted-level-1);\n",
       "}\n",
       "\n",
       "/* On hover */\n",
       "div.sk-estimator:hover .sk-estimator-doc-link:hover,\n",
       ".sk-estimator-doc-link:hover,\n",
       "div.sk-label-container:hover .sk-estimator-doc-link:hover,\n",
       ".sk-estimator-doc-link:hover {\n",
       "  /* unfitted */\n",
       "  background-color: var(--sklearn-color-unfitted-level-3);\n",
       "  color: var(--sklearn-color-background);\n",
       "  text-decoration: none;\n",
       "}\n",
       "\n",
       "div.sk-estimator.fitted:hover .sk-estimator-doc-link.fitted:hover,\n",
       ".sk-estimator-doc-link.fitted:hover,\n",
       "div.sk-label-container:hover .sk-estimator-doc-link.fitted:hover,\n",
       ".sk-estimator-doc-link.fitted:hover {\n",
       "  /* fitted */\n",
       "  background-color: var(--sklearn-color-fitted-level-3);\n",
       "  color: var(--sklearn-color-background);\n",
       "  text-decoration: none;\n",
       "}\n",
       "\n",
       "/* Span, style for the box shown on hovering the info icon */\n",
       ".sk-estimator-doc-link span {\n",
       "  display: none;\n",
       "  z-index: 9999;\n",
       "  position: relative;\n",
       "  font-weight: normal;\n",
       "  right: .2ex;\n",
       "  padding: .5ex;\n",
       "  margin: .5ex;\n",
       "  width: min-content;\n",
       "  min-width: 20ex;\n",
       "  max-width: 50ex;\n",
       "  color: var(--sklearn-color-text);\n",
       "  box-shadow: 2pt 2pt 4pt #999;\n",
       "  /* unfitted */\n",
       "  background: var(--sklearn-color-unfitted-level-0);\n",
       "  border: .5pt solid var(--sklearn-color-unfitted-level-3);\n",
       "}\n",
       "\n",
       ".sk-estimator-doc-link.fitted span {\n",
       "  /* fitted */\n",
       "  background: var(--sklearn-color-fitted-level-0);\n",
       "  border: var(--sklearn-color-fitted-level-3);\n",
       "}\n",
       "\n",
       ".sk-estimator-doc-link:hover span {\n",
       "  display: block;\n",
       "}\n",
       "\n",
       "/* \"?\"-specific style due to the `<a>` HTML tag */\n",
       "\n",
       "#sk-container-id-1 a.estimator_doc_link {\n",
       "  float: right;\n",
       "  font-size: 1rem;\n",
       "  line-height: 1em;\n",
       "  font-family: monospace;\n",
       "  background-color: var(--sklearn-color-background);\n",
       "  border-radius: 1rem;\n",
       "  height: 1rem;\n",
       "  width: 1rem;\n",
       "  text-decoration: none;\n",
       "  /* unfitted */\n",
       "  color: var(--sklearn-color-unfitted-level-1);\n",
       "  border: var(--sklearn-color-unfitted-level-1) 1pt solid;\n",
       "}\n",
       "\n",
       "#sk-container-id-1 a.estimator_doc_link.fitted {\n",
       "  /* fitted */\n",
       "  border: var(--sklearn-color-fitted-level-1) 1pt solid;\n",
       "  color: var(--sklearn-color-fitted-level-1);\n",
       "}\n",
       "\n",
       "/* On hover */\n",
       "#sk-container-id-1 a.estimator_doc_link:hover {\n",
       "  /* unfitted */\n",
       "  background-color: var(--sklearn-color-unfitted-level-3);\n",
       "  color: var(--sklearn-color-background);\n",
       "  text-decoration: none;\n",
       "}\n",
       "\n",
       "#sk-container-id-1 a.estimator_doc_link.fitted:hover {\n",
       "  /* fitted */\n",
       "  background-color: var(--sklearn-color-fitted-level-3);\n",
       "}\n",
       "</style><div id=\"sk-container-id-1\" class=\"sk-top-container\"><div class=\"sk-text-repr-fallback\"><pre>RandomizedSearchCV(cv=SpatioTemporalSplit(date_col=&#x27;ObsDate&#x27;, n_splits=10, random_state=42,\n",
       "          spatial_frac=0.68, station_col=&#x27;station_code&#x27;,\n",
       "          temporal_frac=0.68),\n",
       "                   error_score=&#x27;raise&#x27;,\n",
       "                   estimator=Pipeline(steps=[(&#x27;preprocessor&#x27;,\n",
       "                                              ColumnTransformer(transformers=[(&#x27;select&#x27;,\n",
       "                                                                               &#x27;passthrough&#x27;,\n",
       "                                                                               [&#x27;index&#x27;,\n",
       "                                                                                &#x27;precipitations_lag_1w_pca_1&#x27;,\n",
       "                                                                                &#x27;precipitations_lag_1w_pca_2&#x27;,\n",
       "                                                                                &#x27;precipit...\n",
       "56610000       23.377976   23.457733   5.101114   239.909086\n",
       "56659998       54.755126   55.453785  15.689386   497.734400\n",
       "56850000      516.520907  393.334227  78.868197  4139.149729\n",
       "56920000      641.241255  475.821862  78.868197  4706.547286\n",
       "56960005       17.047871   17.425587   0.427629   183.796629\n",
       "56976000       38.228149   38.697128   7.174386   478.103714\n",
       "56978000       40.141581   36.289862   7.772443   327.381457\n",
       "56994500      779.861212  676.747417  78.868197  5603.885929, alpha=0.1),\n",
       "                   verbose=3)</pre><b>In a Jupyter environment, please rerun this cell to show the HTML representation or trust the notebook. <br />On GitHub, the HTML representation is unable to render, please try loading this page with nbviewer.org.</b></div><div class=\"sk-container\" hidden><div class=\"sk-item sk-dashed-wrapped\"><div class=\"sk-label-container\"><div class=\"sk-label fitted sk-toggleable\"><input class=\"sk-toggleable__control sk-hidden--visually\" id=\"sk-estimator-id-1\" type=\"checkbox\" ><label for=\"sk-estimator-id-1\" class=\"sk-toggleable__label fitted sk-toggleable__label-arrow fitted\">&nbsp;&nbsp;RandomizedSearchCV<a class=\"sk-estimator-doc-link fitted\" rel=\"noreferrer\" target=\"_blank\" href=\"https://scikit-learn.org/1.5/modules/generated/sklearn.model_selection.RandomizedSearchCV.html\">?<span>Documentation for RandomizedSearchCV</span></a><span class=\"sk-estimator-doc-link fitted\">i<span>Fitted</span></span></label><div class=\"sk-toggleable__content fitted\"><pre>RandomizedSearchCV(cv=SpatioTemporalSplit(date_col=&#x27;ObsDate&#x27;, n_splits=10, random_state=42,\n",
       "          spatial_frac=0.68, station_col=&#x27;station_code&#x27;,\n",
       "          temporal_frac=0.68),\n",
       "                   error_score=&#x27;raise&#x27;,\n",
       "                   estimator=Pipeline(steps=[(&#x27;preprocessor&#x27;,\n",
       "                                              ColumnTransformer(transformers=[(&#x27;select&#x27;,\n",
       "                                                                               &#x27;passthrough&#x27;,\n",
       "                                                                               [&#x27;index&#x27;,\n",
       "                                                                                &#x27;precipitations_lag_1w_pca_1&#x27;,\n",
       "                                                                                &#x27;precipitations_lag_1w_pca_2&#x27;,\n",
       "                                                                                &#x27;precipit...\n",
       "56610000       23.377976   23.457733   5.101114   239.909086\n",
       "56659998       54.755126   55.453785  15.689386   497.734400\n",
       "56850000      516.520907  393.334227  78.868197  4139.149729\n",
       "56920000      641.241255  475.821862  78.868197  4706.547286\n",
       "56960005       17.047871   17.425587   0.427629   183.796629\n",
       "56976000       38.228149   38.697128   7.174386   478.103714\n",
       "56978000       40.141581   36.289862   7.772443   327.381457\n",
       "56994500      779.861212  676.747417  78.868197  5603.885929, alpha=0.1),\n",
       "                   verbose=3)</pre></div> </div></div><div class=\"sk-parallel\"><div class=\"sk-parallel-item\"><div class=\"sk-item\"><div class=\"sk-label-container\"><div class=\"sk-label fitted sk-toggleable\"><input class=\"sk-toggleable__control sk-hidden--visually\" id=\"sk-estimator-id-2\" type=\"checkbox\" ><label for=\"sk-estimator-id-2\" class=\"sk-toggleable__label fitted sk-toggleable__label-arrow fitted\">best_estimator_: Pipeline</label><div class=\"sk-toggleable__content fitted\"><pre>Pipeline(steps=[(&#x27;preprocessor&#x27;,\n",
       "                 ColumnTransformer(transformers=[(&#x27;select&#x27;, &#x27;passthrough&#x27;,\n",
       "                                                  [&#x27;index&#x27;,\n",
       "                                                   &#x27;precipitations_lag_1w_pca_1&#x27;,\n",
       "                                                   &#x27;precipitations_lag_1w_pca_2&#x27;,\n",
       "                                                   &#x27;precipitations_pca_1&#x27;,\n",
       "                                                   &#x27;precipitations_pca_2&#x27;,\n",
       "                                                   &#x27;tempartures_lag_1w_pca_1&#x27;,\n",
       "                                                   &#x27;tempartures_pca_1&#x27;,\n",
       "                                                   &#x27;tempartures_pca_2&#x27;,\n",
       "                                                   &#x27;soil_moisture_pca_1&#x27;,\n",
       "                                                   &#x27;soil_moisture_pca_2&#x27;,\n",
       "                                                   &#x27;soil_moisture_pca_3&#x27;,\n",
       "                                                   &#x27;evaporation_l...\n",
       "                                                   &#x27;latitude&#x27;, &#x27;longitude&#x27;,\n",
       "                                                   &#x27;catchment&#x27;, &#x27;altitude&#x27;,\n",
       "                                                   &#x27;water_flow_lag_1w&#x27;,\n",
       "                                                   &#x27;water_flow_lag_2w&#x27;,\n",
       "                                                   &#x27;water_flow_ma_4w_lag_1w_gauss&#x27;,\n",
       "                                                   &#x27;north_hemisphere&#x27;, ...])])),\n",
       "                (&#x27;selector&#x27;,\n",
       "                 SelectKBest(k=np.int64(27),\n",
       "                             score_func=&lt;function f_regression at 0x000001A617722DE0&gt;)),\n",
       "                (&#x27;model&#x27;,\n",
       "                 RandomForestQuantileRegressor(max_depth=13, max_features=None,\n",
       "                                               min_samples_leaf=15,\n",
       "                                               min_samples_split=80,\n",
       "                                               n_estimators=85))])</pre></div> </div></div><div class=\"sk-serial\"><div class=\"sk-item\"><div class=\"sk-serial\"><div class=\"sk-item sk-dashed-wrapped\"><div class=\"sk-label-container\"><div class=\"sk-label fitted sk-toggleable\"><input class=\"sk-toggleable__control sk-hidden--visually\" id=\"sk-estimator-id-3\" type=\"checkbox\" ><label for=\"sk-estimator-id-3\" class=\"sk-toggleable__label fitted sk-toggleable__label-arrow fitted\">&nbsp;preprocessor: ColumnTransformer<a class=\"sk-estimator-doc-link fitted\" rel=\"noreferrer\" target=\"_blank\" href=\"https://scikit-learn.org/1.5/modules/generated/sklearn.compose.ColumnTransformer.html\">?<span>Documentation for preprocessor: ColumnTransformer</span></a></label><div class=\"sk-toggleable__content fitted\"><pre>ColumnTransformer(transformers=[(&#x27;select&#x27;, &#x27;passthrough&#x27;,\n",
       "                                 [&#x27;index&#x27;, &#x27;precipitations_lag_1w_pca_1&#x27;,\n",
       "                                  &#x27;precipitations_lag_1w_pca_2&#x27;,\n",
       "                                  &#x27;precipitations_pca_1&#x27;,\n",
       "                                  &#x27;precipitations_pca_2&#x27;,\n",
       "                                  &#x27;tempartures_lag_1w_pca_1&#x27;,\n",
       "                                  &#x27;tempartures_pca_1&#x27;, &#x27;tempartures_pca_2&#x27;,\n",
       "                                  &#x27;soil_moisture_pca_1&#x27;, &#x27;soil_moisture_pca_2&#x27;,\n",
       "                                  &#x27;soil_moisture_pca_3&#x27;,\n",
       "                                  &#x27;evaporation_lag_1w_pca_1&#x27;,\n",
       "                                  &#x27;evaporation_pca_1&#x27;...ca_1&#x27;,\n",
       "                                  &#x27;soil_composition_pca_2&#x27;,\n",
       "                                  &#x27;soil_composition_pca_3&#x27;,\n",
       "                                  &#x27;soil_composition_pca_4&#x27;,\n",
       "                                  &#x27;soil_composition_pca_5&#x27;,\n",
       "                                  &#x27;soil_composition_pca_6&#x27;,\n",
       "                                  &#x27;soil_composition_pca_7&#x27;,\n",
       "                                  &#x27;soil_composition_pca_8&#x27;,\n",
       "                                  &#x27;soil_composition_pca_9&#x27;, &#x27;latitude&#x27;,\n",
       "                                  &#x27;longitude&#x27;, &#x27;catchment&#x27;, &#x27;altitude&#x27;,\n",
       "                                  &#x27;water_flow_lag_1w&#x27;, &#x27;water_flow_lag_2w&#x27;,\n",
       "                                  &#x27;water_flow_ma_4w_lag_1w_gauss&#x27;,\n",
       "                                  &#x27;north_hemisphere&#x27;, ...])])</pre></div> </div></div><div class=\"sk-parallel\"><div class=\"sk-parallel-item\"><div class=\"sk-item\"><div class=\"sk-label-container\"><div class=\"sk-label fitted sk-toggleable\"><input class=\"sk-toggleable__control sk-hidden--visually\" id=\"sk-estimator-id-4\" type=\"checkbox\" ><label for=\"sk-estimator-id-4\" class=\"sk-toggleable__label fitted sk-toggleable__label-arrow fitted\">select</label><div class=\"sk-toggleable__content fitted\"><pre>[&#x27;index&#x27;, &#x27;precipitations_lag_1w_pca_1&#x27;, &#x27;precipitations_lag_1w_pca_2&#x27;, &#x27;precipitations_pca_1&#x27;, &#x27;precipitations_pca_2&#x27;, &#x27;tempartures_lag_1w_pca_1&#x27;, &#x27;tempartures_pca_1&#x27;, &#x27;tempartures_pca_2&#x27;, &#x27;soil_moisture_pca_1&#x27;, &#x27;soil_moisture_pca_2&#x27;, &#x27;soil_moisture_pca_3&#x27;, &#x27;evaporation_lag_1w_pca_1&#x27;, &#x27;evaporation_pca_1&#x27;, &#x27;soil_composition_pca_1&#x27;, &#x27;soil_composition_pca_2&#x27;, &#x27;soil_composition_pca_3&#x27;, &#x27;soil_composition_pca_4&#x27;, &#x27;soil_composition_pca_5&#x27;, &#x27;soil_composition_pca_6&#x27;, &#x27;soil_composition_pca_7&#x27;, &#x27;soil_composition_pca_8&#x27;, &#x27;soil_composition_pca_9&#x27;, &#x27;latitude&#x27;, &#x27;longitude&#x27;, &#x27;catchment&#x27;, &#x27;altitude&#x27;, &#x27;water_flow_lag_1w&#x27;, &#x27;water_flow_lag_2w&#x27;, &#x27;water_flow_ma_4w_lag_1w_gauss&#x27;, &#x27;north_hemisphere&#x27;, &#x27;snow_index&#x27;, &#x27;month_sin&#x27;, &#x27;month_cos&#x27;, &#x27;season_sin&#x27;, &#x27;season_cos&#x27;, &#x27;region_cluster&#x27;, &#x27;hydro_cluster&#x27;, &#x27;water_flow_evolve_slope&#x27;]</pre></div> </div></div><div class=\"sk-serial\"><div class=\"sk-item\"><div class=\"sk-estimator fitted sk-toggleable\"><input class=\"sk-toggleable__control sk-hidden--visually\" id=\"sk-estimator-id-5\" type=\"checkbox\" ><label for=\"sk-estimator-id-5\" class=\"sk-toggleable__label fitted sk-toggleable__label-arrow fitted\">passthrough</label><div class=\"sk-toggleable__content fitted\"><pre>passthrough</pre></div> </div></div></div></div></div></div></div><div class=\"sk-item\"><div class=\"sk-estimator fitted sk-toggleable\"><input class=\"sk-toggleable__control sk-hidden--visually\" id=\"sk-estimator-id-6\" type=\"checkbox\" ><label for=\"sk-estimator-id-6\" class=\"sk-toggleable__label fitted sk-toggleable__label-arrow fitted\">&nbsp;SelectKBest<a class=\"sk-estimator-doc-link fitted\" rel=\"noreferrer\" target=\"_blank\" href=\"https://scikit-learn.org/1.5/modules/generated/sklearn.feature_selection.SelectKBest.html\">?<span>Documentation for SelectKBest</span></a></label><div class=\"sk-toggleable__content fitted\"><pre>SelectKBest(k=np.int64(27),\n",
       "            score_func=&lt;function f_regression at 0x000001A617722DE0&gt;)</pre></div> </div></div><div class=\"sk-item\"><div class=\"sk-estimator fitted sk-toggleable\"><input class=\"sk-toggleable__control sk-hidden--visually\" id=\"sk-estimator-id-7\" type=\"checkbox\" ><label for=\"sk-estimator-id-7\" class=\"sk-toggleable__label fitted sk-toggleable__label-arrow fitted\">RandomForestQuantileRegressor</label><div class=\"sk-toggleable__content fitted\"><pre>RandomForestQuantileRegressor(max_depth=13, max_features=None,\n",
       "                              min_samples_leaf=15, min_samples_split=80,\n",
       "                              n_estimators=85)</pre></div> </div></div></div></div></div></div></div></div></div></div></div>"
      ],
      "text/plain": [
       "RandomizedSearchCV(cv=SpatioTemporalSplit(date_col='ObsDate', n_splits=10, random_state=42,\n",
       "          spatial_frac=0.68, station_col='station_code',\n",
       "          temporal_frac=0.68),\n",
       "                   error_score='raise',\n",
       "                   estimator=Pipeline(steps=[('preprocessor',\n",
       "                                              ColumnTransformer(transformers=[('select',\n",
       "                                                                               'passthrough',\n",
       "                                                                               ['index',\n",
       "                                                                                'precipitations_lag_1w_pca_1',\n",
       "                                                                                'precipitations_lag_1w_pca_2',\n",
       "                                                                                'precipit...\n",
       "56610000       23.377976   23.457733   5.101114   239.909086\n",
       "56659998       54.755126   55.453785  15.689386   497.734400\n",
       "56850000      516.520907  393.334227  78.868197  4139.149729\n",
       "56920000      641.241255  475.821862  78.868197  4706.547286\n",
       "56960005       17.047871   17.425587   0.427629   183.796629\n",
       "56976000       38.228149   38.697128   7.174386   478.103714\n",
       "56978000       40.141581   36.289862   7.772443   327.381457\n",
       "56994500      779.861212  676.747417  78.868197  5603.885929, alpha=0.1),\n",
       "                   verbose=3)"
      ]
     },
     "execution_count": 35,
     "metadata": {},
     "output_type": "execute_result"
    }
   ],
   "source": [
    "# param_distributions = {\n",
    "#     'model__n_estimators': [2, 10, 20, 45, 60, 85, 100],\n",
    "#     'model__max_depth': [2, 7, 13, 20, 30, 50],\n",
    "#     'model__min_samples_leaf': [1, 4, 9, 15, 20, 30],\n",
    "#     'model__min_samples_split': [2, 5, 10, 20],\n",
    "#     'model__max_features': ['sqrt', 'log2', 0.3, 0.7, None],\n",
    "#     'model__bootstrap': [True, False],\n",
    "#     'snowindexer__altitude_weight': [0.9, 1, 1.1, 1.2],\n",
    "#     'snowindexer__temp_weight': [0.9, 1, 1.1, 1.2],\n",
    "#     'snowindexer__precip_weight': [0.1, 0.15, 0.2, 0.25],\n",
    "# }\n",
    "\n",
    "# 'model__n_estimators': 35, 'model__min_samples_split': 9, 'model__min_samples_leaf': 25, 'model__max_features': None, 'model__max_depth': 50, 'model__bootstrap': True\n",
    "# param_distributions = {\n",
    "#     'model__n_estimators': [20, 25, 30, 35, 40, 45, 50],\n",
    "#     'model__max_depth': [35, 40, 45, 50, 55, 60, 65],\n",
    "#     'model__min_samples_leaf': [20, 23, 25, 28, 31],\n",
    "#     'model__min_samples_split': [6, 7, 8, 9, 10, 11, 12],\n",
    "#     'model__max_features': [None],\n",
    "#     'model__bootstrap': [True],\n",
    "# }\n",
    "\n",
    "import numpy as np\n",
    "\n",
    "\n",
    "param_distributions = {\n",
    "    \"selector__k\": np.arange(3, len(cv_data.columns) - 3, 3),\n",
    "    'model__n_estimators': [5, 15, 35, 55, 85, 100, 130, 150, 190],\n",
    "    'model__max_depth': [2, 7, 13, 20, 30, 50, 70, 100],\n",
    "    'model__min_samples_leaf': [9, 15, 25, 35, 50, 60, 80, 105],\n",
    "    'model__min_samples_split': [9, 15, 25, 35, 50, 60, 80, 105],\n",
    "    'model__max_features': ['sqrt', 'log2', 0.3, 0.7, None],\n",
    "    'model__bootstrap': [True, False]\n",
    "}\n",
    "\n",
    "# 9. Set up RandomizedSearchCV.\n",
    "random_search = RandomizedSearchCV(\n",
    "    estimator=pipeline,\n",
    "    param_distributions=param_distributions,\n",
    "    n_iter=60,            # Number of parameter settings sampled\n",
    "    scoring=scorer,       # Use our custom scorer\n",
    "    cv=cv,                # Our custom spatio-temporal splitter\n",
    "    random_state=42,\n",
    "    n_jobs=-1,             # Use all available cores\n",
    "    verbose=3,\n",
    "    error_score='raise'\n",
    ")\n",
    "\n",
    "random_search.fit(cv_data, y_train)"
   ]
  },
  {
   "cell_type": "markdown",
   "metadata": {},
   "source": [
    "### params for config : \n",
    "\n",
    "```python\n",
    "pipeline = Pipeline(steps=[\n",
    "    ('preprocessor', preprocessor),\n",
    "    (\"selector\", SelectKBest(score_func=f_regression)),\n",
    "    ('model', qrf_week1)\n",
    "])\n",
    "\n",
    "\n",
    "DATASET_TRANSFORMS = [\n",
    "    \"rm_gnv_st\",\n",
    "    \"pca\",\n",
    "    \"snow_index\",\n",
    "    # \"oh_enc_date\",\n",
    "    \"cyc_enc_date\",\n",
    "    \"clust_index\",\n",
    "    \"clust_hydro\",\n",
    "    # \"scl_feat\",\n",
    "    \"scl_feat_wl\", # Scale all except waterflow lag\n",
    "    \"rm_wl\", # remove custom generated water_flow_lag 3w & 4w ---> Need USE_CUSTOM_PREPROCESS = True\n",
    "    \"slct_ma\", # keep only specific mobile average 2w or/and 3w or/and 4w ---> Need USE_CUSTOM_PREPROCESS = True\n",
    "    \"lag_slope\" # add an indicator that is calculated between water_flow_lag 1w and 2w \n",
    "]\n",
    "\n",
    "PCA_THRESHOLD = 0.98\n",
    "N_CLUSTER = 10\n",
    "SELECTED_MOBILE_AVERAGE = [\n",
    "    # \"water_flow_ma_4w_lag_1w\",\n",
    "    # \"water_flow_ma_3w_lag_1w\",\n",
    "    # \"water_flow_ma_2w_lag_1w\",\n",
    "    \"water_flow_ma_4w_lag_1w_gauss\",\n",
    "    # \"water_flow_ma_3w_lag_1w_gauss\",\n",
    "    # \"water_flow_ma_2w_lag_1w_gauss\"\n",
    "]\n",
    "\n",
    "```\n"
   ]
  },
  {
   "cell_type": "code",
   "execution_count": 36,
   "metadata": {},
   "outputs": [
    {
     "name": "stdout",
     "output_type": "stream",
     "text": [
      "Best Parameters: {'selector__k': np.int64(27), 'model__n_estimators': 85, 'model__min_samples_split': 80, 'model__min_samples_leaf': 15, 'model__max_features': None, 'model__max_depth': 13, 'model__bootstrap': True}\n",
      "Best Score: -1.9577376316109347\n"
     ]
    }
   ],
   "source": [
    "print(\"Best Parameters:\", random_search.best_params_)\n",
    "print(\"Best Score:\", random_search.best_score_)"
   ]
  },
  {
   "cell_type": "code",
   "execution_count": 64,
   "metadata": {},
   "outputs": [
    {
     "name": "stdout",
     "output_type": "stream",
     "text": [
      "Selected features:\n",
      "['index', 'precipitations_lag_1w_pca_2', 'precipitations_pca_1', 'precipitations_pca_2', 'tempartures_lag_1w_pca_1', 'tempartures_pca_1', 'tempartures_pca_2', 'soil_moisture_pca_1', 'soil_moisture_pca_2', 'soil_moisture_pca_3', 'evaporation_lag_1w_pca_1', 'evaporation_pca_1', 'soil_composition_pca_1', 'soil_composition_pca_4', 'soil_composition_pca_6', 'soil_composition_pca_7', 'soil_composition_pca_9', 'latitude', 'longitude', 'catchment', 'altitude', 'water_flow_lag_1w', 'water_flow_lag_2w', 'water_flow_ma_4w_lag_1w_gauss', 'north_hemisphere', 'snow_index', 'month_cos']\n"
     ]
    }
   ],
   "source": [
    "best_selector = random_search.best_estimator_.named_steps[\"selector\"]\n",
    "\n",
    "selected_mask = best_selector.get_support()\n",
    "adjusted_data = cv_data.drop(columns=cols_to_drop)\n",
    "selected_features = adjusted_data.columns[selected_mask]\n",
    "\n",
    "print(\"Selected features:\")\n",
    "print(selected_features.tolist())\n",
    "with open(f\"{DATASET_SPEC}_selected_features_week{WEEK_TO_PREDICT}.json\", 'w') as json_file:\n",
    "    json.dump(selected_features.tolist(), json_file, indent=4)\n"
   ]
  },
  {
   "cell_type": "markdown",
   "metadata": {},
   "source": [
    "### params for config : \n",
    "\n",
    "```python\n",
    "pipeline = Pipeline(steps=[\n",
    "    ('preprocessor', preprocessor),\n",
    "    ('model', qrf_week1)\n",
    "])\n",
    "\n",
    "\n",
    "DATASET_TRANSFORMS = [\n",
    "    \"rm_gnv_st\",\n",
    "    \"pca\",\n",
    "    \"snow_index\",\n",
    "    # \"oh_enc_date\",\n",
    "    \"cyc_enc_date\",\n",
    "    \"clust_index\",\n",
    "    \"clust_hydro\",\n",
    "    \"scl_feat\",\n",
    "    # \"scl_feat_wl\", # Scale all except waterflow lag\n",
    "    \"rm_wl\", # remove custom generated water_flow_lag 3w & 4w ---> Need USE_CUSTOM_PREPROCESS = True\n",
    "    \"slct_ma\", # keep only specific mobile average 2w or/and 3w or/and 4w ---> Need USE_CUSTOM_PREPROCESS = True\n",
    "    \"lag_slope\" # add an indicator that is calculated between water_flow_lag 1w and 2w \n",
    "]\n",
    "\n",
    "PCA_THRESHOLD = 0.98\n",
    "N_CLUSTER = 10\n",
    "```\n"
   ]
  },
  {
   "cell_type": "code",
   "execution_count": null,
   "metadata": {},
   "outputs": [
    {
     "name": "stdout",
     "output_type": "stream",
     "text": [
      "Best Parameters: {'model__n_estimators': 35, 'model__min_samples_split': 9, 'model__min_samples_leaf': 25, 'model__max_features': None, 'model__max_depth': 50, 'model__bootstrap': True}\n",
      "Best Score: -1.8825202404996986\n"
     ]
    }
   ],
   "source": [
    "print(\"Best Parameters:\", random_search.best_params_)\n",
    "print(\"Best Score:\", random_search.best_score_)"
   ]
  },
  {
   "cell_type": "markdown",
   "metadata": {},
   "source": [
    "### params for config : \n",
    "\n",
    "```python\n",
    "pipeline = Pipeline(steps=[\n",
    "    ('preprocessor', preprocessor),\n",
    "    ('model', qrf_week1)\n",
    "])\n",
    "\n",
    "\n",
    "DATASET_TRANSFORMS = [\n",
    "    \"rm_gnv_st\",\n",
    "    \"pca\",\n",
    "    \"snow_index\",\n",
    "    # \"oh_enc_date\",\n",
    "    \"cyc_enc_date\",\n",
    "    \"clust_index\",\n",
    "    \"clust_hydro\",\n",
    "    \"scl_feat\",\n",
    "    # \"scl_feat_wl\", # Scale all except waterflow lag\n",
    "    \"rm_wl\", # remove custom generated water_flow_lag 3w & 4w ---> Need USE_CUSTOM_PREPROCESS = True\n",
    "    \"slct_ma\", # keep only specific mobile average 2w or/and 3w or/and 4w ---> Need USE_CUSTOM_PREPROCESS = True\n",
    "    \"lag_slope\" # add an indicator that is calculated between water_flow_lag 1w and 2w \n",
    "]\n",
    "\n",
    "PCA_THRESHOLD = 0.98\n",
    "N_CLUSTER = 10\n",
    "```\n"
   ]
  },
  {
   "cell_type": "code",
   "execution_count": null,
   "metadata": {},
   "outputs": [
    {
     "name": "stdout",
     "output_type": "stream",
     "text": [
      "Best Parameters: {'model__n_estimators': 100, 'model__min_samples_split': 50, 'model__min_samples_leaf': 25, 'model__max_features': None, 'model__max_depth': 70, 'model__bootstrap': True}\n",
      "Best Score: -1.9117332654881167\n"
     ]
    }
   ],
   "source": [
    "print(\"Best Parameters:\", random_search.best_params_)\n",
    "print(\"Best Score:\", random_search.best_score_)"
   ]
  },
  {
   "cell_type": "markdown",
   "metadata": {},
   "source": [
    "### params for config : \n",
    "\n",
    "```python\n",
    "pipeline = Pipeline(steps=[\n",
    "    ('preprocessor', preprocessor),\n",
    "    ('model', qrf_week1)\n",
    "])\n",
    "\n",
    "\n",
    "DATASET_TRANSFORMS = [\n",
    "    \"rm_gnv_st\",\n",
    "    \"pca\",\n",
    "    \"snow_index\",\n",
    "    # \"oh_enc_date\",\n",
    "    \"cyc_enc_date\",\n",
    "    \"clust_index\",\n",
    "    \"clust_hydro\",\n",
    "    # \"scl_feat\",\n",
    "    \"scl_feat_wl\", # Scale all except waterflow lag\n",
    "    \"rm_wl\", # remove custom generated water_flow_lag 3w & 4w ---> Need USE_CUSTOM_PREPROCESS = True\n",
    "    \"slct_ma\", # keep only specific mobile average 2w or/and 3w or/and 4w ---> Need USE_CUSTOM_PREPROCESS = True\n",
    "    \"lag_slope\" # add an indicator that is calculated between water_flow_lag 1w and 2w \n",
    "]\n",
    "\n",
    "PCA_THRESHOLD = 0.98\n",
    "N_CLUSTER = 10\n",
    "```\n"
   ]
  },
  {
   "cell_type": "code",
   "execution_count": null,
   "metadata": {},
   "outputs": [
    {
     "name": "stdout",
     "output_type": "stream",
     "text": [
      "Best Parameters: {'model__n_estimators': 35, 'model__min_samples_split': 11, 'model__min_samples_leaf': 23, 'model__max_features': None, 'model__max_depth': 40, 'model__bootstrap': True}\n",
      "Best Score: -1.8653183950465695\n"
     ]
    }
   ],
   "source": [
    "print(\"Best Parameters:\", random_search.best_params_)\n",
    "print(\"Best Score:\", random_search.best_score_)"
   ]
  },
  {
   "cell_type": "markdown",
   "metadata": {},
   "source": [
    "### params for config : \n",
    "\n",
    "```python\n",
    "pipeline = Pipeline(steps=[\n",
    "    ('preprocessor', preprocessor),\n",
    "    ('model', qrf_week1)\n",
    "])\n",
    "\n",
    "\n",
    "DATASET_TRANSFORMS = [\n",
    "    \"rm_gnv_st\",\n",
    "    \"pca\",\n",
    "    \"snow_index\",\n",
    "    # \"oh_enc_date\",\n",
    "    \"cyc_enc_date\",\n",
    "    \"clust_index\",\n",
    "    \"clust_hydro\",\n",
    "    # \"scl_feat\",\n",
    "    \"scl_feat_wl\", # Scale all except waterflow lag\n",
    "    \"rm_wl\", # remove custom generated water_flow_lag 3w & 4w ---> Need USE_CUSTOM_PREPROCESS = True\n",
    "    \"slct_ma\", # keep only specific mobile average 2w or/and 3w or/and 4w ---> Need USE_CUSTOM_PREPROCESS = True\n",
    "    \"lag_slope\" # add an indicator that is calculated between water_flow_lag 1w and 2w \n",
    "]\n",
    "\n",
    "PCA_THRESHOLD = 0.98\n",
    "N_CLUSTER = 10\n",
    "```\n"
   ]
  },
  {
   "cell_type": "code",
   "execution_count": null,
   "metadata": {},
   "outputs": [
    {
     "name": "stdout",
     "output_type": "stream",
     "text": [
      "Best Parameters: {'model__n_estimators': 35, 'model__min_samples_split': 9, 'model__min_samples_leaf': 25, 'model__max_features': None, 'model__max_depth': 50, 'model__bootstrap': True}\n",
      "Best Score: -1.8821667848494648\n"
     ]
    }
   ],
   "source": [
    "print(\"Best Parameters:\", random_search.best_params_)\n",
    "print(\"Best Score:\", random_search.best_score_)"
   ]
  },
  {
   "cell_type": "markdown",
   "metadata": {},
   "source": [
    "### params for config : \n",
    "\n",
    "```python\n",
    "pipeline = Pipeline(steps=[\n",
    "    ('preprocessor', preprocessor),\n",
    "    ('model', qrf_week1)\n",
    "])\n",
    "\n",
    "\n",
    "DATASET_TRANSFORMS = [\n",
    "    \"rm_gnv_st\",\n",
    "    \"pca\",\n",
    "    \"snow_index\",\n",
    "    # \"oh_enc_date\",\n",
    "    \"cyc_enc_date\",\n",
    "    \"clust_index\",\n",
    "    \"clust_hydro\",\n",
    "    # \"scl_feat\",\n",
    "    \"scl_feat_wl\", # Scale all except waterflow lag\n",
    "    # \"rm_wl\", # remove custom generated water_flow_lag 3w & 4w\n",
    "    # \"rm_ma\", # remove custom generated mobile average 2w & 3w & 4w\n",
    "    \"lag_slope\" # add an indicator that is calculated between water_flow_lag 1w and 2w \n",
    "]\n",
    "\n",
    "PCA_THRESHOLD = 0.98\n",
    "N_CLUSTER = 10\n",
    "```\n"
   ]
  },
  {
   "cell_type": "code",
   "execution_count": null,
   "metadata": {},
   "outputs": [
    {
     "name": "stdout",
     "output_type": "stream",
     "text": [
      "Best Parameters: {'model__n_estimators': 160, 'model__min_samples_split': 66, 'model__min_samples_leaf': 42, 'model__max_features': None, 'model__max_depth': 25, 'model__bootstrap': True}\n",
      "Best Score: -1.9426425655553738\n"
     ]
    }
   ],
   "source": [
    "print(\"Best Parameters:\", random_search.best_params_)\n",
    "print(\"Best Score:\", random_search.best_score_)"
   ]
  },
  {
   "cell_type": "markdown",
   "metadata": {},
   "source": [
    "### params for config : \n",
    "\n",
    "```python\n",
    "pipeline = Pipeline(steps=[\n",
    "    ('preprocessor', preprocessor),\n",
    "    ('model', qrf_week1)\n",
    "])\n",
    "\n",
    "DATASET_TRANSFORMS = [\n",
    "    \"rm_gnv_st\",\n",
    "    \"pca\",\n",
    "    \"snow_index\",\n",
    "    # \"oh_enc_date\",\n",
    "    \"cyc_enc_date\",\n",
    "    \"clust_index\",\n",
    "    \"clust_hydro\",\n",
    "    # \"scl_feat\",\n",
    "    \"scl_feat_wl\", # Scale all except waterflow lag\n",
    "]\n",
    "\n",
    "PCA_THRESHOLD = 0.98\n",
    "N_CLUSTER = 5\n",
    "```\n"
   ]
  },
  {
   "cell_type": "code",
   "execution_count": null,
   "metadata": {},
   "outputs": [
    {
     "name": "stdout",
     "output_type": "stream",
     "text": [
      "Best Parameters: {'model__n_estimators': 150, 'model__min_samples_split': 30, 'model__min_samples_leaf': 18, 'model__max_features': None, 'model__max_depth': 23, 'model__bootstrap': True}\n",
      "Best Score: -1.9362015137618989\n"
     ]
    }
   ],
   "source": [
    "print(\"Best Parameters:\", random_search.best_params_)\n",
    "print(\"Best Score:\", random_search.best_score_)"
   ]
  },
  {
   "cell_type": "markdown",
   "metadata": {},
   "source": [
    "### params for config : \n",
    "\n",
    "```python\n",
    "pipeline = Pipeline(steps=[\n",
    "    ('snowindexer', SnowIndexComputeTransformer(temp_col_name=\"tempartures_pca_1\", rain_col_name=\"precipitations_pca_1\",)),\n",
    "    ('preprocessor', preprocessor),\n",
    "    ('model', qrf_week1)\n",
    "])\n",
    "\n",
    "DATASET_TRANSFORMS = [\n",
    "    \"rm_gnv_st\",\n",
    "    \"pca\",\n",
    "    # \"snow_index\",\n",
    "    # \"oh_enc_date\",\n",
    "    \"cyc_enc_date\",\n",
    "    \"clust_index\",\n",
    "    \"clust_hydro\",\n",
    "    # \"scl_feat\",\n",
    "    \"scl_feat_wl\", # Scale all except waterflow lag\n",
    "]\n",
    "```\n"
   ]
  },
  {
   "cell_type": "code",
   "execution_count": null,
   "metadata": {},
   "outputs": [
    {
     "name": "stdout",
     "output_type": "stream",
     "text": [
      "Best Parameters: {'snowindexer__temp_weight': 1.2, 'snowindexer__precip_weight': 0.15, 'snowindexer__altitude_weight': 0.9, 'model__n_estimators': 100, 'model__min_samples_split': 5, 'model__min_samples_leaf': 30, 'model__max_features': None, 'model__max_depth': 50, 'model__bootstrap': False}\n",
      "Best Score: -2.1058580480136575\n"
     ]
    }
   ],
   "source": [
    "print(\"Best Parameters:\", random_search.best_params_)\n",
    "print(\"Best Score:\", random_search.best_score_)"
   ]
  },
  {
   "cell_type": "markdown",
   "metadata": {},
   "source": [
    "### params for config : \n",
    "\n",
    "```python\n",
    "pipeline = Pipeline(steps=[\n",
    "    ('preprocessor', preprocessor),\n",
    "    ('model', qrf_week1)\n",
    "])\n",
    "\n",
    "DATASET_TRANSFORMS = [\n",
    "    \"rm_gnv_st\",\n",
    "    \"pca\",\n",
    "    \"snow_index\",\n",
    "    \"oh_enc_date\",\n",
    "    # \"cyc_enc_date\",\n",
    "    # \"clust_index\",\n",
    "    \"clust_hydro\",\n",
    "    # \"scl_feat\",\n",
    "    \"scl_feat_wl\", # Scale all except waterflow lag\n",
    "]\n",
    "```\n"
   ]
  },
  {
   "cell_type": "code",
   "execution_count": null,
   "metadata": {},
   "outputs": [
    {
     "name": "stdout",
     "output_type": "stream",
     "text": [
      "Best Parameters: {'model__n_estimators': 100, 'model__min_samples_split': 10, 'model__min_samples_leaf': 40, 'model__max_features': None, 'model__max_depth': 13, 'model__bootstrap': True}\n",
      "Best Score: -1.9542643097106727\n"
     ]
    }
   ],
   "source": [
    "print(\"Best Parameters:\", random_search.best_params_)\n",
    "print(\"Best Score:\", random_search.best_score_)"
   ]
  },
  {
   "cell_type": "markdown",
   "metadata": {},
   "source": [
    "### params for config : \n",
    "\n",
    "```python\n",
    "pipeline = Pipeline(steps=[\n",
    "    ('preprocessor', preprocessor),\n",
    "    ('model', qrf_week1)\n",
    "])\n",
    "\n",
    "\n",
    "DATASET_TRANSFORMS = [\n",
    "    \"rm_gnv_st\",\n",
    "    \"pca\",\n",
    "    \"snow_index\",\n",
    "    \"oh_enc_date\",\n",
    "    # \"cyc_enc_date\",\n",
    "    \"clust_index\",\n",
    "    \"clust_hydro\",\n",
    "    \"scl_feat\",\n",
    "    # \"scl_feat_wl\", # Scale all except waterflow lag\n",
    "]\n",
    "```\n"
   ]
  },
  {
   "cell_type": "code",
   "execution_count": null,
   "metadata": {},
   "outputs": [
    {
     "name": "stdout",
     "output_type": "stream",
     "text": [
      "Best Parameters: {'model__n_estimators': 45, 'model__min_samples_split': 40, 'model__min_samples_leaf': 20, 'model__max_features': 0.7, 'model__max_depth': 30, 'model__bootstrap': False}\n",
      "Best Score: -1.9515434055944696\n"
     ]
    }
   ],
   "source": [
    "print(\"Best Parameters:\", random_search.best_params_)\n",
    "print(\"Best Score:\", random_search.best_score_)"
   ]
  },
  {
   "cell_type": "markdown",
   "metadata": {},
   "source": [
    "### params for config : \n",
    "\n",
    "```python\n",
    "pipeline = Pipeline(steps=[\n",
    "    ('preprocessor', preprocessor),\n",
    "    ('model', qrf_week1)\n",
    "])\n",
    "\n",
    "\n",
    "DATASET_TRANSFORMS = [\n",
    "    \"rm_gnv_st\",\n",
    "    \"pca\",\n",
    "    \"snow_index\",\n",
    "    # \"oh_enc_date\",\n",
    "    \"cyc_enc_date\",\n",
    "    \"clust_index\",\n",
    "    \"clust_hydro\",\n",
    "    \"scl_feat\",\n",
    "    # \"scl_feat_wl\", # Scale all except waterflow lag\n",
    "]\n",
    "```\n"
   ]
  },
  {
   "cell_type": "code",
   "execution_count": null,
   "metadata": {},
   "outputs": [
    {
     "name": "stdout",
     "output_type": "stream",
     "text": [
      "Best Parameters: {'model__n_estimators': 130, 'model__min_samples_split': 30, 'model__min_samples_leaf': 20, 'model__max_features': None, 'model__max_depth': 30, 'model__bootstrap': True}\n",
      "Best Score: -1.935871280814628\n"
     ]
    }
   ],
   "source": [
    "print(\"Best Parameters:\", random_search.best_params_)\n",
    "print(\"Best Score:\", random_search.best_score_)"
   ]
  },
  {
   "cell_type": "markdown",
   "metadata": {},
   "source": [
    "### params for config : \n",
    "\n",
    "```python\n",
    "pipeline = Pipeline(steps=[\n",
    "    ('preprocessor', preprocessor),\n",
    "    ('model', qrf_week1)\n",
    "])\n",
    "\n",
    "\n",
    "DATASET_TRANSFORMS = [\n",
    "    \"rm_gnv_st\",\n",
    "    \"pca\",\n",
    "    \"snow_index\",\n",
    "    # \"oh_enc_date\",\n",
    "    \"cyc_enc_date\",\n",
    "    \"clust_index\",\n",
    "    \"clust_hydro\",\n",
    "    # \"scl_feat\",\n",
    "    \"scl_feat_wl\", # Scale all except waterflow lag\n",
    "    \"scl_catch\",\n",
    "]\n",
    "```\n"
   ]
  },
  {
   "cell_type": "code",
   "execution_count": null,
   "metadata": {},
   "outputs": [
    {
     "name": "stdout",
     "output_type": "stream",
     "text": [
      "Best Parameters: {'model__n_estimators': 135, 'model__min_samples_split': 27, 'model__min_samples_leaf': 27, 'model__max_features': None, 'model__max_depth': 30, 'model__bootstrap': True}\n",
      "Best Score: -1.9339345588124381\n"
     ]
    }
   ],
   "source": [
    "print(\"Best Parameters:\", random_search.best_params_)\n",
    "print(\"Best Score:\", random_search.best_score_)"
   ]
  },
  {
   "cell_type": "markdown",
   "metadata": {},
   "source": [
    "### params for config : \n",
    "\n",
    "```python\n",
    "pipeline = Pipeline(steps=[\n",
    "    ('preprocessor', preprocessor),\n",
    "    ('model', qrf_week1)\n",
    "])\n",
    "\n",
    "\n",
    "DATASET_TRANSFORMS = [\n",
    "    \"rm_gnv_st\",\n",
    "    \"pca\",\n",
    "    \"snow_index\",\n",
    "    # \"oh_enc_date\",\n",
    "    \"cyc_enc_date\",\n",
    "    \"clust_index\",\n",
    "    \"clust_hydro\",\n",
    "    # \"scl_feat\",\n",
    "    \"scl_feat_wl\", # Scale all except waterflow lag\n",
    "    \"scl_catch\",\n",
    "]\n",
    "```\n"
   ]
  },
  {
   "cell_type": "code",
   "execution_count": null,
   "metadata": {},
   "outputs": [
    {
     "name": "stdout",
     "output_type": "stream",
     "text": [
      "Best Parameters: {'model__n_estimators': 130, 'model__min_samples_split': 30, 'model__min_samples_leaf': 20, 'model__max_features': None, 'model__max_depth': 30, 'model__bootstrap': True}\n",
      "Best Score: -1.9395931333152727\n"
     ]
    }
   ],
   "source": [
    "print(\"Best Parameters:\", random_search.best_params_)\n",
    "print(\"Best Score:\", random_search.best_score_)"
   ]
  },
  {
   "cell_type": "markdown",
   "metadata": {},
   "source": [
    "### params for config : \n",
    "\n",
    "```python\n",
    "pipeline = Pipeline(steps=[\n",
    "    ('preprocessor', preprocessor),\n",
    "    ('model', qrf_week1)\n",
    "])\n",
    "\n",
    "DATASET_TRANSFORMS = [\n",
    "    \"rm_gnv_st\",\n",
    "    \"pca\",\n",
    "    \"snow_index\",\n",
    "    # \"oh_enc_date\",\n",
    "    \"cyc_enc_date\",\n",
    "    \"clust_index\",\n",
    "    \"scl_feat\",\n",
    "    # \"scl_feat_wl\", # Scale all except waterflow lag\n",
    "    \"scl_catch\",\n",
    "]\n",
    "```\n"
   ]
  },
  {
   "cell_type": "code",
   "execution_count": null,
   "metadata": {},
   "outputs": [
    {
     "name": "stdout",
     "output_type": "stream",
     "text": [
      "Best Parameters: {'model__n_estimators': 23, 'model__min_samples_split': 15, 'model__min_samples_leaf': 21, 'model__max_features': 0.7, 'model__max_depth': 23, 'model__bootstrap': True}\n",
      "Best Score: -1.9359472748030164\n"
     ]
    }
   ],
   "source": [
    "print(\"Best Parameters:\", random_search.best_params_)\n",
    "print(\"Best Score:\", random_search.best_score_)"
   ]
  },
  {
   "cell_type": "markdown",
   "metadata": {},
   "source": [
    "### params for config : \n",
    "\n",
    "```python\n",
    "pipeline = Pipeline(steps=[\n",
    "    ('preprocessor', preprocessor),\n",
    "    ('model', qrf_week1)\n",
    "])\n",
    "\n",
    "DATASET_TRANSFORMS = [\n",
    "    \"rm_gnv_st\",\n",
    "    \"pca\",\n",
    "    \"snow_index\",\n",
    "    # \"oh_enc_date\",\n",
    "    \"cyc_enc_date\",\n",
    "    \"clust_index\",\n",
    "    \"scl_feat\",\n",
    "    # \"scl_feat_wl\", # Scale all except waterflow lag\n",
    "    \"scl_catch\",\n",
    "]\n",
    "```\n"
   ]
  },
  {
   "cell_type": "code",
   "execution_count": null,
   "metadata": {},
   "outputs": [
    {
     "name": "stdout",
     "output_type": "stream",
     "text": [
      "Best Parameters: {'model__n_estimators': 20, 'model__min_samples_split': 10, 'model__min_samples_leaf': 20, 'model__max_features': 0.7, 'model__max_depth': 20, 'model__bootstrap': True}\n",
      "Best Score: -1.95292479637325\n"
     ]
    }
   ],
   "source": [
    "print(\"Best Parameters:\", random_search.best_params_)\n",
    "print(\"Best Score:\", random_search.best_score_)"
   ]
  },
  {
   "cell_type": "markdown",
   "metadata": {},
   "source": [
    "### params for config : \n",
    "\n",
    "```python\n",
    "pipeline = Pipeline(steps=[\n",
    "    ('preprocessor', preprocessor),\n",
    "    ('model', qrf_week1)\n",
    "])\n",
    "\n",
    "DATASET_TRANSFORMS = [\n",
    "    \"rm_gnv_st\",\n",
    "    \"pca\",\n",
    "    \"snow_index\",\n",
    "    # \"oh_enc_date\",\n",
    "    \"cyc_enc_date\",\n",
    "    \"clust_index\",\n",
    "    \"scl_feat\",\n",
    "    # \"scl_feat_wl\", # Scale all except waterflow lag\n",
    "    \"scl_catch\",\n",
    "]\n",
    "```\n"
   ]
  },
  {
   "cell_type": "code",
   "execution_count": null,
   "metadata": {},
   "outputs": [
    {
     "name": "stdout",
     "output_type": "stream",
     "text": [
      "Best Parameters: {'model__n_estimators': 50, 'model__min_samples_split': 18, 'model__min_samples_leaf': 16, 'model__max_features': None, 'model__max_depth': 16, 'model__bootstrap': True}\n",
      "Best Score: -1.9292546040045893\n"
     ]
    }
   ],
   "source": [
    "print(\"Best Parameters:\", random_search.best_params_)\n",
    "print(\"Best Score:\", random_search.best_score_)"
   ]
  },
  {
   "cell_type": "markdown",
   "metadata": {},
   "source": [
    "### params for config : \n",
    "\n",
    "```python\n",
    "pipeline = Pipeline(steps=[\n",
    "    ('snowindexer', SnowIndexComputeTransformer(temp_col_name=\"tempartures_pca_1\", rain_col_name=\"precipitations_pca_1\",)),\n",
    "    ('preprocessor', preprocessor),\n",
    "    ('model', qrf_week1)\n",
    "])\n",
    "\n",
    "DATASET_TRANSFORMS = [\n",
    "    \"rm_gnv_st\",\n",
    "    \"pca\",\n",
    "    \"snow_index\",\n",
    "    # \"oh_enc_date\",\n",
    "    \"cyc_enc_date\",\n",
    "    \"clust_index\",\n",
    "    \"scl_feat\",\n",
    "    # \"scl_feat_wl\", # Scale all except waterflow lag\n",
    "    \"scl_catch\",\n",
    "]\n",
    "```\n"
   ]
  },
  {
   "cell_type": "code",
   "execution_count": null,
   "metadata": {},
   "outputs": [
    {
     "name": "stdout",
     "output_type": "stream",
     "text": [
      "Best Parameters: {'model__n_estimators': 60, 'model__min_samples_split': 20, 'model__min_samples_leaf': 9, 'model__max_features': None, 'model__max_depth': 13, 'model__bootstrap': True}\n",
      "Best Score: -1.9860207069874143\n"
     ]
    }
   ],
   "source": [
    "print(\"Best Parameters:\", random_search.best_params_)\n",
    "print(\"Best Score:\", random_search.best_score_)"
   ]
  },
  {
   "cell_type": "markdown",
   "metadata": {},
   "source": [
    "### params for config : \n",
    "\n",
    "```python\n",
    "pipeline = Pipeline(steps=[\n",
    "    ('snowindexer', SnowIndexComputeTransformer(temp_col_name=\"tempartures_pca_1\", rain_col_name=\"precipitations_pca_1\",)),\n",
    "    ('preprocessor', preprocessor),\n",
    "    ('model', qrf_week1)\n",
    "])\n",
    "\n",
    "DATASET_TRANSFORMS = [\n",
    "    \"rm_gnv_st\",\n",
    "    \"pca\",\n",
    "    # \"snow_index\",\n",
    "    \"oh_enc_date\",\n",
    "    \"scl_wtr_flows\",\n",
    "    \"scl_catch\"\n",
    "]\n",
    "```\n"
   ]
  },
  {
   "cell_type": "code",
   "execution_count": null,
   "metadata": {},
   "outputs": [
    {
     "name": "stdout",
     "output_type": "stream",
     "text": [
      "Best Parameters: {'snowindexer__temp_weight': 1, 'snowindexer__precip_weight': 0.2, 'snowindexer__altitude_weight': 1, 'model__n_estimators': 52, 'model__min_samples_split': 19, 'model__min_samples_leaf': 13, 'model__max_features': None, 'model__max_depth': 25, 'model__bootstrap': True}\n",
      "Best Score: -2.0340065806334726\n"
     ]
    }
   ],
   "source": [
    "print(\"Best Parameters:\", random_search.best_params_)\n",
    "print(\"Best Score:\", random_search.best_score_)"
   ]
  },
  {
   "cell_type": "markdown",
   "metadata": {},
   "source": [
    "### params for config : \n",
    "```python\n",
    "DATASET_TRANSFORMS = [\n",
    "    \"rm_gnv_st\",\n",
    "    \"pca\",\n",
    "    \"snow_index\",\n",
    "    \"oh_enc_date\",\n",
    "    \"scl_wtr_flows\",\n",
    "    \"scl_catch\"\n",
    "]\n",
    "```\n"
   ]
  },
  {
   "cell_type": "code",
   "execution_count": null,
   "metadata": {},
   "outputs": [
    {
     "name": "stdout",
     "output_type": "stream",
     "text": [
      "Best Parameters: {'model__n_estimators': 55, 'model__min_samples_split': 20, 'model__min_samples_leaf': 11, 'model__max_features': None, 'model__max_depth': 23, 'model__bootstrap': True}\n",
      "Best Score: -1.9197539988339372\n"
     ]
    }
   ],
   "source": [
    "print(\"Best Parameters:\", random_search.best_params_)\n",
    "print(\"Best Score:\", random_search.best_score_)"
   ]
  },
  {
   "cell_type": "markdown",
   "metadata": {},
   "source": [
    "### params for config : \n",
    "```python\n",
    "DATASET_TRANSFORMS = [\n",
    "    \"rm_gnv_st\",\n",
    "    \"pca\",\n",
    "    \"snow_index\",\n",
    "    \"oh_enc_date\",\n",
    "    \"scl_wtr_flows\",\n",
    "    \"scl_catch\"\n",
    "]\n",
    "```\n"
   ]
  },
  {
   "cell_type": "code",
   "execution_count": null,
   "metadata": {},
   "outputs": [
    {
     "name": "stdout",
     "output_type": "stream",
     "text": [
      "Best Parameters: {'model__n_estimators': 60, 'model__min_samples_split': 20, 'model__min_samples_leaf': 9, 'model__max_features': None, 'model__max_depth': 13, 'model__bootstrap': True}\n",
      "Best Score: -1.9379500224596236\n"
     ]
    }
   ],
   "source": [
    "print(\"Best Parameters:\", random_search.best_params_)\n",
    "print(\"Best Score:\", random_search.best_score_)"
   ]
  },
  {
   "cell_type": "markdown",
   "metadata": {},
   "source": [
    "### params for config : \n",
    "```python\n",
    "DATASET_TRANSFORMS = [\n",
    "    \"rm_gnv_st\",\n",
    "    \"pca\",\n",
    "    # \"snow_index\",\n",
    "    \"oh_enc_date\",\n",
    "    \"scl_wtr_flows\",\n",
    "    \"scl_catch\"\n",
    "]\n",
    "```\n"
   ]
  },
  {
   "cell_type": "code",
   "execution_count": null,
   "metadata": {},
   "outputs": [
    {
     "name": "stdout",
     "output_type": "stream",
     "text": [
      "Best Parameters: {'model__n_estimators': 59, 'model__min_samples_split': 18, 'model__min_samples_leaf': 14, 'model__max_features': None, 'model__max_depth': 25, 'model__bootstrap': True}\n",
      "Best Score: -1.923900362267943\n"
     ]
    }
   ],
   "source": [
    "print(\"Best Parameters:\", random_search.best_params_)\n",
    "print(\"Best Score:\", random_search.best_score_)"
   ]
  },
  {
   "cell_type": "markdown",
   "metadata": {},
   "source": [
    "### params for config : \n",
    "```python\n",
    "DATASET_TRANSFORMS = [\n",
    "    \"rm_gnv_st\",\n",
    "    \"pca\",\n",
    "    # \"snow_index\",\n",
    "    \"oh_enc_date\",\n",
    "    \"scl_wtr_flows\",\n",
    "    \"scl_catch\"\n",
    "]\n",
    "```\n"
   ]
  },
  {
   "cell_type": "code",
   "execution_count": null,
   "metadata": {},
   "outputs": [
    {
     "name": "stdout",
     "output_type": "stream",
     "text": [
      "Best Parameters: {'model__n_estimators': 60, 'model__min_samples_split': 20, 'model__min_samples_leaf': 9, 'model__max_features': None, 'model__max_depth': 13, 'model__bootstrap': True}\n",
      "Best Score: -1.9528121007193104\n"
     ]
    }
   ],
   "source": [
    "print(\"Best Parameters:\", random_search.best_params_)\n",
    "print(\"Best Score:\", random_search.best_score_)"
   ]
  },
  {
   "cell_type": "markdown",
   "metadata": {},
   "source": [
    "### params for config : \n",
    "```python\n",
    "DATASET_TRANSFORMS = [\n",
    "    \"rm_gnv_st\",\n",
    "    \"pca\",\n",
    "    # \"snow_index\",\n",
    "    \"oh_enc_date\",\n",
    "    \"scl_wtr_flows\",\n",
    "    # \"rm_st_id\"\n",
    "]\n",
    "```\n"
   ]
  },
  {
   "cell_type": "code",
   "execution_count": null,
   "metadata": {},
   "outputs": [
    {
     "name": "stdout",
     "output_type": "stream",
     "text": [
      "Best Parameters: {'model__n_estimators': 57, 'model__min_samples_split': 20, 'model__min_samples_leaf': 14, 'model__max_features': None, 'model__max_depth': 22, 'model__bootstrap': True}\n",
      "Best Score: -2.067613593686774\n"
     ]
    }
   ],
   "source": [
    "print(\"Best Parameters:\", random_search.best_params_)\n",
    "print(\"Best Score:\", random_search.best_score_)"
   ]
  },
  {
   "cell_type": "markdown",
   "metadata": {},
   "source": [
    "### params for config : \n",
    "```python\n",
    "DATASET_TRANSFORMS = [\n",
    "    \"rm_gnv_st\",\n",
    "    \"pca\",\n",
    "    # \"snow_index\",\n",
    "    \"oh_enc_date\",\n",
    "    \"scl_wtr_flows\",\n",
    "    # \"rm_st_id\"\n",
    "]\n",
    "```\n"
   ]
  },
  {
   "cell_type": "code",
   "execution_count": null,
   "metadata": {},
   "outputs": [
    {
     "name": "stdout",
     "output_type": "stream",
     "text": [
      "Best Parameters: {'model__n_estimators': 55, 'model__min_samples_split': 22, 'model__min_samples_leaf': 16, 'model__max_features': None, 'model__max_depth': 25, 'model__bootstrap': True}\n",
      "Best Score: -1.9144132951754593\n"
     ]
    }
   ],
   "source": [
    "# print(\"Best Parameters:\", random_search.best_params_)\n",
    "# print(\"Best Score:\", random_search.best_score_)"
   ]
  },
  {
   "cell_type": "markdown",
   "metadata": {},
   "source": [
    "### params for config : \n",
    "```python\n",
    "DATASET_TRANSFORMS = [\n",
    "    \"rm_gnv_st\",\n",
    "    \"pca\",\n",
    "    # \"snow_index\",\n",
    "    \"oh_enc_date\",\n",
    "    \"scl_wtr_flows\",\n",
    "    # \"rm_st_id\"\n",
    "]\n",
    "```\n"
   ]
  },
  {
   "cell_type": "code",
   "execution_count": null,
   "metadata": {},
   "outputs": [
    {
     "name": "stdout",
     "output_type": "stream",
     "text": [
      "Best Parameters: {'model__n_estimators': 56, 'model__min_samples_split': 19, 'model__min_samples_leaf': 13, 'model__max_features': None, 'model__max_depth': 23, 'model__bootstrap': True}\n",
      "Best Score: -1.9230515071418086\n"
     ]
    }
   ],
   "source": [
    "# print(\"Best Parameters:\", random_search.best_params_)\n",
    "# print(\"Best Score:\", random_search.best_score_)"
   ]
  },
  {
   "cell_type": "markdown",
   "metadata": {},
   "source": [
    "### params for config : \n",
    "```python\n",
    "DATASET_TRANSFORMS = [\n",
    "    \"rm_gnv_st\",\n",
    "    \"pca\",\n",
    "    # \"snow_index\",\n",
    "    \"oh_enc_date\",\n",
    "    \"scl_wtr_flows\",\n",
    "    # \"rm_st_id\"\n",
    "]\n",
    "```\n"
   ]
  },
  {
   "cell_type": "code",
   "execution_count": null,
   "metadata": {},
   "outputs": [
    {
     "name": "stdout",
     "output_type": "stream",
     "text": [
      "Best Parameters: {'model__n_estimators': 57, 'model__min_samples_split': 20, 'model__min_samples_leaf': 11, 'model__max_features': None, 'model__max_depth': 17, 'model__bootstrap': True}\n",
      "Best Score: -1.9198867119123673\n"
     ]
    }
   ],
   "source": [
    "# print(\"Best Parameters:\", random_search.best_params_)\n",
    "# print(\"Best Score:\", random_search.best_score_)"
   ]
  },
  {
   "cell_type": "markdown",
   "metadata": {},
   "source": [
    "### params for config : \n",
    "```python\n",
    "DATASET_TRANSFORMS = [\n",
    "    \"rm_gnv_st\",\n",
    "    \"pca\",\n",
    "    # \"snow_index\",\n",
    "    \"oh_enc_date\",\n",
    "    \"scl_wtr_flows\",\n",
    "    # \"rm_st_id\"\n",
    "]\n",
    "```\n"
   ]
  },
  {
   "cell_type": "code",
   "execution_count": null,
   "metadata": {},
   "outputs": [
    {
     "name": "stdout",
     "output_type": "stream",
     "text": [
      "Best Parameters: {'model__n_estimators': 60, 'model__min_samples_split': 20, 'model__min_samples_leaf': 9, 'model__max_features': None, 'model__max_depth': 13, 'model__bootstrap': True}\n",
      "Best Score: -2.1232930047642933\n"
     ]
    }
   ],
   "source": [
    "# print(\"Best Parameters:\", random_search.best_params_)\n",
    "# print(\"Best Score:\", random_search.best_score_)"
   ]
  },
  {
   "cell_type": "markdown",
   "metadata": {},
   "source": [
    "### params for config : \n",
    "```python\n",
    "DATASET_TRANSFORMS = [\n",
    "    \"rm_gnv_st\",\n",
    "    \"pca\",\n",
    "    # \"snow_index\",\n",
    "    \"oh_enc_date\",\n",
    "    \"scl_wtr_flows\",\n",
    "    # \"rm_st_id\"\n",
    "]\n",
    "```\n"
   ]
  },
  {
   "cell_type": "code",
   "execution_count": null,
   "metadata": {},
   "outputs": [
    {
     "name": "stdout",
     "output_type": "stream",
     "text": [
      "Best Parameters: {'model__n_estimators': 60, 'model__min_samples_split': 20, 'model__min_samples_leaf': 9, 'model__max_features': None, 'model__max_depth': 13, 'model__bootstrap': True}\n",
      "Best Score: -2.1232930047642933\n"
     ]
    }
   ],
   "source": [
    "# print(\"Best Parameters:\", random_search.best_params_)\n",
    "# print(\"Best Score:\", random_search.best_score_)"
   ]
  },
  {
   "cell_type": "markdown",
   "metadata": {},
   "source": [
    "### params for config : \n",
    "```python\n",
    "DATASET_TRANSFORMS = [\n",
    "    \"remove_geneve_station\",\n",
    "    \"full_pca\",\n",
    "    # \"snow_index\",\n",
    "    \"one_hot_encode_month_season\",\n",
    "    \"scale_train_waterflows\",\n",
    "]\n",
    "```\n"
   ]
  },
  {
   "cell_type": "code",
   "execution_count": null,
   "metadata": {},
   "outputs": [
    {
     "name": "stdout",
     "output_type": "stream",
     "text": [
      "Best Parameters: {'model__n_estimators': 60, 'model__min_samples_split': 20, 'model__min_samples_leaf': 9, 'model__max_features': None, 'model__max_depth': 13, 'model__bootstrap': True}\n",
      "Best Score: -2.1232930047642933\n"
     ]
    }
   ],
   "source": [
    "# print(\"Best Parameters:\", random_search.best_params_)\n",
    "# print(\"Best Score:\", random_search.best_score_)"
   ]
  },
  {
   "cell_type": "markdown",
   "metadata": {},
   "source": [
    "### params for qrf pca_and_sin_season_encode"
   ]
  },
  {
   "cell_type": "code",
   "execution_count": null,
   "metadata": {},
   "outputs": [
    {
     "name": "stdout",
     "output_type": "stream",
     "text": [
      "Best Parameters: {'model__n_estimators': 60, 'model__min_samples_split': 20, 'model__min_samples_leaf': 9, 'model__max_features': None, 'model__max_depth': 13, 'model__bootstrap': True}\n",
      "Best Score: -2.1232930047642933\n"
     ]
    }
   ],
   "source": [
    "# print(\"Best Parameters:\", random_search.best_params_)\n",
    "# print(\"Best Score:\", random_search.best_score_)"
   ]
  },
  {
   "cell_type": "markdown",
   "metadata": {},
   "source": [
    "### params for qrf full_pca"
   ]
  },
  {
   "cell_type": "code",
   "execution_count": null,
   "metadata": {},
   "outputs": [
    {
     "name": "stdout",
     "output_type": "stream",
     "text": [
      "Best Parameters: {'model__n_estimators': 60, 'model__min_samples_split': 20, 'model__min_samples_leaf': 9, 'model__max_features': None, 'model__max_depth': 13, 'model__bootstrap': True}\n",
      "Best Score: -2.1232930047642933\n"
     ]
    }
   ],
   "source": [
    "# print(\"Best Parameters:\", random_search.best_params_)\n",
    "# print(\"Best Score:\", random_search.best_score_)"
   ]
  },
  {
   "cell_type": "markdown",
   "metadata": {},
   "source": [
    "#### b. GA"
   ]
  },
  {
   "cell_type": "markdown",
   "metadata": {},
   "source": [
    "COMMING SOON"
   ]
  }
 ],
 "metadata": {
  "kernelspec": {
   "display_name": ".venv",
   "language": "python",
   "name": "python3"
  },
  "language_info": {
   "codemirror_mode": {
    "name": "ipython",
    "version": 3
   },
   "file_extension": ".py",
   "mimetype": "text/x-python",
   "name": "python",
   "nbconvert_exporter": "python",
   "pygments_lexer": "ipython3",
   "version": "3.12.2"
  }
 },
 "nbformat": 4,
 "nbformat_minor": 2
}
