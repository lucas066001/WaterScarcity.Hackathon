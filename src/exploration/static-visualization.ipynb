{
 "cells": [
  {
   "cell_type": "markdown",
   "metadata": {},
   "source": [
    "# Static visualization\n",
    "_This notebook will focus on displaying data in various ways to better understand them_\n",
    "At first we will focus on static datas and provide 2 things : \n",
    "- Clear visual representation\n",
    "- Articles to help understand features presented\n",
    "\n",
    "--"
   ]
  },
  {
   "cell_type": "code",
   "execution_count": null,
   "metadata": {},
   "outputs": [
    {
     "name": "stdout",
     "output_type": "stream",
     "text": [
      "\n",
      "📌 Données statiques pour France:\n",
      "  📂 altitude_DEM: 1 fichiers\n",
      "    - output_SRTMGL1.tif\n",
      "  📂 hydro_areas: 6 fichiers\n",
      "    - BassinHydrographique_FXX.geojson\n",
      "    - NoeudHydrographique_FXX.gpkg\n",
      "    - RegionHydro.json\n",
      "    - SecteurHydro.json\n",
      "    - SousSecteurHydro.json\n",
      "  📂 soil: 1 fichiers\n",
      "    - france_soil_data.nc\n",
      "  📂 watercourse: 4 fichiers\n",
      "    - CoursEau_FXX.dbf\n",
      "    - CoursEau_FXX.prj\n",
      "    - CoursEau_FXX.shp\n",
      "    - CoursEau_FXX.shx\n",
      "\n",
      "📌 Données statiques pour Brazil:\n",
      "  📂 altitude_DEM: 1 fichiers\n",
      "    - output_SRTMGL1.tif\n",
      "  📂 hydro_areas: 7 fichiers\n",
      "    - geoft_bho_ach_otto_nivel_01.gpkg\n",
      "    - geoft_bho_ach_otto_nivel_02.gpkg\n",
      "    - geoft_bho_ach_otto_nivel_03.gpkg\n",
      "    - geoft_bho_ach_otto_nivel_04.gpkg\n",
      "    - geoft_bho_ach_otto_nivel_05.gpkg\n",
      "  📂 soil: 1 fichiers\n",
      "    - brazil_soil_data.nc\n",
      "  📂 watercourse: 1 fichiers\n",
      "    - geoft_bho_2017_curso_dagua.gpkg\n"
     ]
    }
   ],
   "source": [
    "import os\n",
    "\n",
    "# Définir le chemin des données statiques\n",
    "base_path = \"../../dataset/\"\n",
    "countries = [\"france\", \"brazil\"]\n",
    "static_folders = [\"altitude_DEM\", \"hydro_areas\", \"soil\", \"watercourse\"]\n",
    "\n",
    "# Explorer et lister les fichiers statiques\n",
    "for country in countries:\n",
    "    print(f\"\\n📌 Données statiques pour {country.capitalize()}:\")\n",
    "    static_path = os.path.join(base_path, country, \"static_data\")\n",
    "    \n",
    "    if os.path.exists(static_path):\n",
    "        for folder in static_folders:\n",
    "            folder_path = os.path.join(static_path, folder)\n",
    "            if os.path.exists(folder_path):\n",
    "                files = os.listdir(folder_path)\n",
    "                print(f\"  📂 {folder}: {len(files)} fichiers\")\n",
    "                for file in files[:5]:  # Afficher un aperçu des 5 premiers fichiers\n",
    "                    print(f\"    - {file}\")\n",
    "            else:\n",
    "                print(f\"  🚫 {folder} (dossier non trouvé)\")\n",
    "    else:\n",
    "        print(f\"  🚫 static_data (dossier non trouvé)\")\n"
   ]
  }
 ],
 "metadata": {
  "kernelspec": {
   "display_name": "Python 3",
   "language": "python",
   "name": "python3"
  },
  "language_info": {
   "codemirror_mode": {
    "name": "ipython",
    "version": 3
   },
   "file_extension": ".py",
   "mimetype": "text/x-python",
   "name": "python",
   "nbconvert_exporter": "python",
   "pygments_lexer": "ipython3",
   "version": "3.12.2"
  }
 },
 "nbformat": 4,
 "nbformat_minor": 2
}
