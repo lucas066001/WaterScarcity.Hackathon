{
 "cells": [
  {
   "cell_type": "markdown",
   "metadata": {},
   "source": [
    "## Goals: Spliting between test and train dataset\n",
    "\n",
    "Split the baseline dataset into a train, and 2 test dataset with a spatial and a spatio-temporal split."
   ]
  },
  {
   "cell_type": "markdown",
   "metadata": {},
   "source": [
    "# 1. Data Import and Setup\n",
    "\n",
    "Imports necessary libraries, sets up environment paths."
   ]
  },
  {
   "cell_type": "code",
   "execution_count": null,
   "metadata": {},
   "outputs": [],
   "source": [
    "import sys\n",
    "import os\n",
    "import pandas as pd\n",
    "from sklearn.preprocessing import MinMaxScaler\n",
    "\n",
    "BASE_DIR = os.path.abspath(os.path.join(os.getcwd(), '..', '..', '..', '..'))\n",
    "sys.path.append(BASE_DIR)\n",
    "\n",
    "from src.utils.model import split_dataset\n",
    "from src.utils.plots import plot_water_flows"
   ]
  },
  {
   "cell_type": "markdown",
   "metadata": {},
   "source": [
    "Defines constants :\n",
    "* INPUT_DIR must be the same as the one defined in *00 Preprocessing/Feature Engineering*."
   ]
  },
  {
   "cell_type": "code",
   "execution_count": null,
   "metadata": {},
   "outputs": [],
   "source": [
    "SEED = 42\n",
    "\n",
    "SPLIT_TIME = \"2000-01-01\"\n",
    "\n",
    "TEST_STATIONS = [6119020,  # France\n",
    "                 6124510,  # France\n",
    "                 6139261,  # France\n",
    "                 6139640,  # France\n",
    "                 6139900,  # France\n",
    "                 6139825,  # France\n",
    "                 56610000, # Brazil \n",
    "                 56920000, # Brazil\n",
    "                 ]\n",
    "\n",
    "INPUT_DIR = \"../../../../data/input/\""
   ]
  },
  {
   "cell_type": "code",
   "execution_count": null,
   "metadata": {},
   "outputs": [],
   "source": [
    "ds_baseline = pd.read_csv(f\"{INPUT_DIR}dataset_baseline.csv\")\n",
    "ds_baseline = ds_baseline.set_index(\"ObsDate\")\n"
   ]
  },
  {
   "cell_type": "markdown",
   "metadata": {},
   "source": [
    "# 2. Data Splitting, Saving, and Visualization\n",
    "\n",
    "Splits the dataset into training, test, and temporal-test sets using the specified configuration.\n",
    "Here we are reproducing the kind of split used on evaluation (there is both a spatial split and a spatio-temporal split).\n",
    "\n",
    "For reference the evaluation dataset is created as follow :\n",
    "\n",
    "<img src=\"../../images/eval.png\" alt=\"Experiment Diagram\" style=\"width:50%;\" />\n",
    "\n",
    "Here we are subdivision the training data as follow :\n",
    "\n",
    "<img src=\"../../images/eval_explo.png\" alt=\"Experiment Diagram\" style=\"width:50%;\" />\n"
   ]
  },
  {
   "cell_type": "code",
   "execution_count": null,
   "metadata": {},
   "outputs": [],
   "source": [
    "ds_train, ds_test_spatio_temporal, ds_test_temporal = split_dataset(ds_baseline,\n",
    "                                            split_time=SPLIT_TIME,\n",
    "                                            seed=SEED,\n",
    "                                            test_stations_spatial=TEST_STATIONS)\n"
   ]
  },
  {
   "cell_type": "markdown",
   "metadata": {},
   "source": [
    "Saves the complete baseline, training, and test datasets to CSV files for future use."
   ]
  },
  {
   "cell_type": "code",
   "execution_count": null,
   "metadata": {},
   "outputs": [],
   "source": [
    "# save the dataset\n",
    "ds_train.to_csv(f\"{INPUT_DIR}ds_train.csv\")\n",
    "ds_test_spatio_temporal.to_csv(f\"{INPUT_DIR}ds_test_spatio_temporal.csv\")\n",
    "ds_test_temporal.to_csv(f\"{INPUT_DIR}ds_test_temporal.csv\")"
   ]
  },
  {
   "cell_type": "markdown",
   "metadata": {},
   "source": [
    "Visualizes the water flow for selected stations in the training and test sets."
   ]
  },
  {
   "cell_type": "code",
   "execution_count": null,
   "metadata": {},
   "outputs": [],
   "source": [
    "plot_water_flows(ds_train,\n",
    "                ds_test_temporal,\n",
    "                display = True,\n",
    "                save = False,\n",
    "                max_stations = 40)"
   ]
  }
 ],
 "metadata": {
  "kernelspec": {
   "display_name": ".venv",
   "language": "python",
   "name": "python3"
  },
  "language_info": {
   "codemirror_mode": {
    "name": "ipython",
    "version": 3
   },
   "file_extension": ".py",
   "mimetype": "text/x-python",
   "name": "python",
   "nbconvert_exporter": "python",
   "pygments_lexer": "ipython3",
   "version": "3.12.6"
  }
 },
 "nbformat": 4,
 "nbformat_minor": 2
}
